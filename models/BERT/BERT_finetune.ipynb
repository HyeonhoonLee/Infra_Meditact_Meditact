{
  "nbformat": 4,
  "nbformat_minor": 0,
  "metadata": {
    "kernelspec": {
      "display_name": "Python 3",
      "language": "python",
      "name": "python3"
    },
    "language_info": {
      "codemirror_mode": {
        "name": "ipython",
        "version": 3
      },
      "file_extension": ".py",
      "mimetype": "text/x-python",
      "name": "python",
      "nbconvert_exporter": "python",
      "pygments_lexer": "ipython3",
      "version": "3.6.8"
    },
    "pycharm": {
      "stem_cell": {
        "cell_type": "raw",
        "metadata": {
          "collapsed": false
        },
        "source": []
      }
    },
    "colab": {
      "name": "BERT_finetune.ipynb",
      "provenance": [],
      "collapsed_sections": [],
      "toc_visible": true
    },
    "accelerator": "GPU"
  },
  "cells": [
    {
      "cell_type": "markdown",
      "metadata": {
        "id": "7yDz-z2xOttO"
      },
      "source": [
        "## 1. EDA"
      ]
    },
    {
      "cell_type": "code",
      "metadata": {
        "id": "QkYqRRxePBrs",
        "outputId": "e4147ff8-52c0-45bd-a962-d1e3360d36d6",
        "colab": {
          "base_uri": "https://localhost:8080/",
          "height": 54
        }
      },
      "source": [
        "from google.colab import drive\n",
        "drive.mount('/content/drive')"
      ],
      "execution_count": 1,
      "outputs": [
        {
          "output_type": "stream",
          "text": [
            "Drive already mounted at /content/drive; to attempt to forcibly remount, call drive.mount(\"/content/drive\", force_remount=True).\n"
          ],
          "name": "stdout"
        }
      ]
    },
    {
      "cell_type": "code",
      "metadata": {
        "pycharm": {
          "is_executing": false
        },
        "id": "-g4iLcZ6OttQ"
      },
      "source": [
        "import numpy as np \n",
        "import pandas as pd\n",
        "import sklearn \n",
        "from sklearn import model_selection\n",
        "import os\n",
        "import matplotlib.pyplot as plt\n",
        "import seaborn as sns\n",
        "from wordcloud import WordCloud\n",
        "%matplotlib inline"
      ],
      "execution_count": 2,
      "outputs": []
    },
    {
      "cell_type": "code",
      "metadata": {
        "id": "dKe3Ps53RQWS"
      },
      "source": [
        "# randsom seed\n",
        "seed=1234\n",
        "np.random.seed(seed)"
      ],
      "execution_count": 3,
      "outputs": []
    },
    {
      "cell_type": "code",
      "metadata": {
        "id": "ikYl6zF_Z4tF"
      },
      "source": [
        "num_classes=26"
      ],
      "execution_count": 4,
      "outputs": []
    },
    {
      "cell_type": "code",
      "metadata": {
        "pycharm": {
          "is_executing": false
        },
        "id": "iuwiWb5sOttT"
      },
      "source": [
        "DATA_IN_PATH = '/content/drive/My Drive/DataCollection/OSAM/'"
      ],
      "execution_count": 5,
      "outputs": []
    },
    {
      "cell_type": "code",
      "metadata": {
        "pycharm": {
          "is_executing": false
        },
        "id": "2bD6dyZdOttW",
        "outputId": "6a80b90f-fa3f-49b5-c60f-93c50f72ebba",
        "colab": {
          "base_uri": "https://localhost:8080/",
          "height": 153
        }
      },
      "source": [
        "print(\"파일 크기 : \")\n",
        "for file in os.listdir(DATA_IN_PATH):\n",
        "    if 'csv' in file :\n",
        "        print(file.ljust(30) + str(round(os.path.getsize(DATA_IN_PATH + file) / 1000000, 2)) + 'MB')"
      ],
      "execution_count": 6,
      "outputs": [
        {
          "output_type": "stream",
          "text": [
            "파일 크기 : \n",
            "combined.csv                  6.62MB\n",
            "combined_dup(-2000).csv       4.55MB\n",
            "combined_clean(-2300).csv     4.51MB\n",
            "combined_clean(6000)_sam.csv  3.98MB\n",
            "OSAM33000.csv                 3.95MB\n",
            "OSAM39800.csv                 3.93MB\n",
            "OSAM42111.csv                 3.15MB\n"
          ],
          "name": "stdout"
        }
      ]
    },
    {
      "cell_type": "code",
      "metadata": {
        "id": "QVXwU5ySQrqy",
        "outputId": "5c339356-3a25-477e-83ff-18793a143532",
        "colab": {
          "base_uri": "https://localhost:8080/",
          "height": 204
        }
      },
      "source": [
        "#loading csv data\n",
        "all_data = pd.read_csv(DATA_IN_PATH + 'OSAM42111.csv', quoting = 2)\n",
        "all_data.head()"
      ],
      "execution_count": 8,
      "outputs": [
        {
          "output_type": "execute_result",
          "data": {
            "text/html": [
              "<div>\n",
              "<style scoped>\n",
              "    .dataframe tbody tr th:only-of-type {\n",
              "        vertical-align: middle;\n",
              "    }\n",
              "\n",
              "    .dataframe tbody tr th {\n",
              "        vertical-align: top;\n",
              "    }\n",
              "\n",
              "    .dataframe thead th {\n",
              "        text-align: right;\n",
              "    }\n",
              "</style>\n",
              "<table border=\"1\" class=\"dataframe\">\n",
              "  <thead>\n",
              "    <tr style=\"text-align: right;\">\n",
              "      <th></th>\n",
              "      <th>symptom</th>\n",
              "      <th>class</th>\n",
              "    </tr>\n",
              "  </thead>\n",
              "  <tbody>\n",
              "    <tr>\n",
              "      <th>0</th>\n",
              "      <td>질문하겠습니다. 이어폰을 음량을 0으로 하고 끼고만 있어도 귀에 안 좋나요?</td>\n",
              "      <td>ENT</td>\n",
              "    </tr>\n",
              "    <tr>\n",
              "      <th>1</th>\n",
              "      <td>독감예방주사</td>\n",
              "      <td>IP</td>\n",
              "    </tr>\n",
              "    <tr>\n",
              "      <th>2</th>\n",
              "      <td>목에 음식물 그대로 끼어서 계속 이물감이 있습니다</td>\n",
              "      <td>ENT</td>\n",
              "    </tr>\n",
              "    <tr>\n",
              "      <th>3</th>\n",
              "      <td>케겔운동 궁금한것</td>\n",
              "      <td>REHM</td>\n",
              "    </tr>\n",
              "    <tr>\n",
              "      <th>4</th>\n",
              "      <td>등 통증 관련문의</td>\n",
              "      <td>NS</td>\n",
              "    </tr>\n",
              "  </tbody>\n",
              "</table>\n",
              "</div>"
            ],
            "text/plain": [
              "                                      symptom class\n",
              "0  질문하겠습니다. 이어폰을 음량을 0으로 하고 끼고만 있어도 귀에 안 좋나요?   ENT\n",
              "1                                      독감예방주사    IP\n",
              "2                 목에 음식물 그대로 끼어서 계속 이물감이 있습니다   ENT\n",
              "3                                   케겔운동 궁금한것  REHM\n",
              "4                                   등 통증 관련문의    NS"
            ]
          },
          "metadata": {
            "tags": []
          },
          "execution_count": 8
        }
      ]
    },
    {
      "cell_type": "code",
      "metadata": {
        "id": "YijzGlUvQ7qw",
        "outputId": "0fcdd6c3-16a2-45f4-ac06-cec8bc49b180",
        "colab": {
          "base_uri": "https://localhost:8080/",
          "height": 34
        }
      },
      "source": [
        "# all_data의 전체 길이\n",
        "len(all_data)"
      ],
      "execution_count": 9,
      "outputs": [
        {
          "output_type": "execute_result",
          "data": {
            "text/plain": [
              "68101"
            ]
          },
          "metadata": {
            "tags": []
          },
          "execution_count": 9
        }
      ]
    },
    {
      "cell_type": "code",
      "metadata": {
        "id": "rTV2Tlej90M9",
        "outputId": "20930468-e9f9-4399-ee60-f7db86c0cbdc",
        "colab": {
          "base_uri": "https://localhost:8080/",
          "height": 855
        }
      },
      "source": [
        "# To finding mislabelling with errata\n",
        "what = all_data.drop_duplicates(\"class\", keep=\"first\")\n",
        "what"
      ],
      "execution_count": 10,
      "outputs": [
        {
          "output_type": "execute_result",
          "data": {
            "text/html": [
              "<div>\n",
              "<style scoped>\n",
              "    .dataframe tbody tr th:only-of-type {\n",
              "        vertical-align: middle;\n",
              "    }\n",
              "\n",
              "    .dataframe tbody tr th {\n",
              "        vertical-align: top;\n",
              "    }\n",
              "\n",
              "    .dataframe thead th {\n",
              "        text-align: right;\n",
              "    }\n",
              "</style>\n",
              "<table border=\"1\" class=\"dataframe\">\n",
              "  <thead>\n",
              "    <tr style=\"text-align: right;\">\n",
              "      <th></th>\n",
              "      <th>symptom</th>\n",
              "      <th>class</th>\n",
              "    </tr>\n",
              "  </thead>\n",
              "  <tbody>\n",
              "    <tr>\n",
              "      <th>0</th>\n",
              "      <td>질문하겠습니다. 이어폰을 음량을 0으로 하고 끼고만 있어도 귀에 안 좋나요?</td>\n",
              "      <td>ENT</td>\n",
              "    </tr>\n",
              "    <tr>\n",
              "      <th>1</th>\n",
              "      <td>독감예방주사</td>\n",
              "      <td>IP</td>\n",
              "    </tr>\n",
              "    <tr>\n",
              "      <th>3</th>\n",
              "      <td>케겔운동 궁금한것</td>\n",
              "      <td>REHM</td>\n",
              "    </tr>\n",
              "    <tr>\n",
              "      <th>4</th>\n",
              "      <td>등 통증 관련문의</td>\n",
              "      <td>NS</td>\n",
              "    </tr>\n",
              "    <tr>\n",
              "      <th>6</th>\n",
              "      <td>급체 후 증상</td>\n",
              "      <td>GI</td>\n",
              "    </tr>\n",
              "    <tr>\n",
              "      <th>7</th>\n",
              "      <td>추가질문(체중증가)</td>\n",
              "      <td>ENDO</td>\n",
              "    </tr>\n",
              "    <tr>\n",
              "      <th>9</th>\n",
              "      <td>공수병 주사후... 음주...</td>\n",
              "      <td>INFC</td>\n",
              "    </tr>\n",
              "    <tr>\n",
              "      <th>13</th>\n",
              "      <td>오른쪽 엄지손가락 손톱 옆이 아파요</td>\n",
              "      <td>OS</td>\n",
              "    </tr>\n",
              "    <tr>\n",
              "      <th>14</th>\n",
              "      <td>자꾸 항문에서 대변시 찢어지면서 피가 나와요</td>\n",
              "      <td>GS</td>\n",
              "    </tr>\n",
              "    <tr>\n",
              "      <th>16</th>\n",
              "      <td>정신건강의학(조현병</td>\n",
              "      <td>PSY</td>\n",
              "    </tr>\n",
              "    <tr>\n",
              "      <th>19</th>\n",
              "      <td>안티스탁스 복용법 질문이요</td>\n",
              "      <td>CS</td>\n",
              "    </tr>\n",
              "    <tr>\n",
              "      <th>23</th>\n",
              "      <td>질염 약을 복용중인데 생리통 약을 먹어도 될까요?</td>\n",
              "      <td>OBGY</td>\n",
              "    </tr>\n",
              "    <tr>\n",
              "      <th>29</th>\n",
              "      <td>치과치료와 독감예방접종</td>\n",
              "      <td>DENT</td>\n",
              "    </tr>\n",
              "    <tr>\n",
              "      <th>32</th>\n",
              "      <td>요즘 눈통증</td>\n",
              "      <td>OPH</td>\n",
              "    </tr>\n",
              "    <tr>\n",
              "      <th>33</th>\n",
              "      <td>턱관절 소리</td>\n",
              "      <td>KTM</td>\n",
              "    </tr>\n",
              "    <tr>\n",
              "      <th>39</th>\n",
              "      <td>레이노이드 증후군이라는 답변을 받아서 여쭙니다... 손톱 하얀반달 위가 보라색? 검...</td>\n",
              "      <td>RHEU</td>\n",
              "    </tr>\n",
              "    <tr>\n",
              "      <th>50</th>\n",
              "      <td>거품뇨 및 허리</td>\n",
              "      <td>URO</td>\n",
              "    </tr>\n",
              "    <tr>\n",
              "      <th>62</th>\n",
              "      <td>펜터민 장기복용</td>\n",
              "      <td>AN</td>\n",
              "    </tr>\n",
              "    <tr>\n",
              "      <th>74</th>\n",
              "      <td>두통약을 먹어도 두통이 안없어짐</td>\n",
              "      <td>NR</td>\n",
              "    </tr>\n",
              "    <tr>\n",
              "      <th>82</th>\n",
              "      <td>건강검진을받았는데요 신장질환의심이랑 단백뇨라고 적혀있어요 어떻게해야할까요?</td>\n",
              "      <td>NPH</td>\n",
              "    </tr>\n",
              "    <tr>\n",
              "      <th>101</th>\n",
              "      <td>매일운동하는데 빈혈이 앉았다 일어날때 마다 오네요....</td>\n",
              "      <td>HEON</td>\n",
              "    </tr>\n",
              "    <tr>\n",
              "      <th>113</th>\n",
              "      <td>심장병일수도 있나요?</td>\n",
              "      <td>CA</td>\n",
              "    </tr>\n",
              "    <tr>\n",
              "      <th>179</th>\n",
              "      <td>거대세포바이러스</td>\n",
              "      <td>ALL</td>\n",
              "    </tr>\n",
              "    <tr>\n",
              "      <th>217</th>\n",
              "      <td>선생님 궁금해요 코성형이 잘못되었을시에 부비동염이 올수있나요</td>\n",
              "      <td>PS</td>\n",
              "    </tr>\n",
              "    <tr>\n",
              "      <th>302</th>\n",
              "      <td>물집때문에 질문했던 사람입니다</td>\n",
              "      <td>DERM</td>\n",
              "    </tr>\n",
              "    <tr>\n",
              "      <th>557</th>\n",
              "      <td>감전..</td>\n",
              "      <td>EMR</td>\n",
              "    </tr>\n",
              "  </tbody>\n",
              "</table>\n",
              "</div>"
            ],
            "text/plain": [
              "                                               symptom class\n",
              "0           질문하겠습니다. 이어폰을 음량을 0으로 하고 끼고만 있어도 귀에 안 좋나요?   ENT\n",
              "1                                               독감예방주사    IP\n",
              "3                                            케겔운동 궁금한것  REHM\n",
              "4                                            등 통증 관련문의    NS\n",
              "6                                              급체 후 증상    GI\n",
              "7                                           추가질문(체중증가)  ENDO\n",
              "9                                     공수병 주사후... 음주...  INFC\n",
              "13                                 오른쪽 엄지손가락 손톱 옆이 아파요    OS\n",
              "14                            자꾸 항문에서 대변시 찢어지면서 피가 나와요    GS\n",
              "16                                          정신건강의학(조현병   PSY\n",
              "19                                      안티스탁스 복용법 질문이요    CS\n",
              "23                         질염 약을 복용중인데 생리통 약을 먹어도 될까요?  OBGY\n",
              "29                                        치과치료와 독감예방접종  DENT\n",
              "32                                              요즘 눈통증   OPH\n",
              "33                                              턱관절 소리   KTM\n",
              "39   레이노이드 증후군이라는 답변을 받아서 여쭙니다... 손톱 하얀반달 위가 보라색? 검...  RHEU\n",
              "50                                            거품뇨 및 허리   URO\n",
              "62                                            펜터민 장기복용    AN\n",
              "74                                   두통약을 먹어도 두통이 안없어짐    NR\n",
              "82           건강검진을받았는데요 신장질환의심이랑 단백뇨라고 적혀있어요 어떻게해야할까요?   NPH\n",
              "101                    매일운동하는데 빈혈이 앉았다 일어날때 마다 오네요....  HEON\n",
              "113                                        심장병일수도 있나요?    CA\n",
              "179                                           거대세포바이러스   ALL\n",
              "217                  선생님 궁금해요 코성형이 잘못되었을시에 부비동염이 올수있나요    PS\n",
              "302                                   물집때문에 질문했던 사람입니다  DERM\n",
              "557                                               감전..   EMR"
            ]
          },
          "metadata": {
            "tags": []
          },
          "execution_count": 10
        }
      ]
    },
    {
      "cell_type": "code",
      "metadata": {
        "id": "0wLNslArBG64",
        "outputId": "a5449692-e9c7-49c7-e540-ac39e8644d1d",
        "colab": {
          "base_uri": "https://localhost:8080/",
          "height": 49
        }
      },
      "source": [
        "gotya = all_data[all_data[\"class\"]==\"UR\"]\n",
        "gotya"
      ],
      "execution_count": 11,
      "outputs": [
        {
          "output_type": "execute_result",
          "data": {
            "text/html": [
              "<div>\n",
              "<style scoped>\n",
              "    .dataframe tbody tr th:only-of-type {\n",
              "        vertical-align: middle;\n",
              "    }\n",
              "\n",
              "    .dataframe tbody tr th {\n",
              "        vertical-align: top;\n",
              "    }\n",
              "\n",
              "    .dataframe thead th {\n",
              "        text-align: right;\n",
              "    }\n",
              "</style>\n",
              "<table border=\"1\" class=\"dataframe\">\n",
              "  <thead>\n",
              "    <tr style=\"text-align: right;\">\n",
              "      <th></th>\n",
              "      <th>symptom</th>\n",
              "      <th>class</th>\n",
              "    </tr>\n",
              "  </thead>\n",
              "  <tbody>\n",
              "  </tbody>\n",
              "</table>\n",
              "</div>"
            ],
            "text/plain": [
              "Empty DataFrame\n",
              "Columns: [symptom, class]\n",
              "Index: []"
            ]
          },
          "metadata": {
            "tags": []
          },
          "execution_count": 11
        }
      ]
    },
    {
      "cell_type": "code",
      "metadata": {
        "id": "ViZsnvi3VB68"
      },
      "source": [
        "#stratififed split to train_data, test_data\n",
        "from sklearn.model_selection import StratifiedShuffleSplit\n",
        "\n",
        "split = StratifiedShuffleSplit(n_splits=1, test_size=0.2, random_state=seed)\n",
        "\n",
        "for train_idx, test_idx in split.split(all_data, all_data[\"class\"]):\n",
        "    train_data = all_data.loc[train_idx]\n",
        "    test_data = all_data.loc[test_idx]"
      ],
      "execution_count": 12,
      "outputs": []
    },
    {
      "cell_type": "code",
      "metadata": {
        "pycharm": {
          "is_executing": false
        },
        "id": "ZYjVSSndOttc",
        "outputId": "570e89ef-b2c3-4bde-fb3f-435fff0ea56f",
        "colab": {
          "base_uri": "https://localhost:8080/",
          "height": 51
        }
      },
      "source": [
        "print('전체 학습데이터의 개수: {}'.format(len(train_data)))\n",
        "print('전체 학습데이터의 개수: {}'.format(len(test_data)))"
      ],
      "execution_count": 13,
      "outputs": [
        {
          "output_type": "stream",
          "text": [
            "전체 학습데이터의 개수: 54480\n",
            "전체 학습데이터의 개수: 13621\n"
          ],
          "name": "stdout"
        }
      ]
    },
    {
      "cell_type": "code",
      "metadata": {
        "pycharm": {
          "is_executing": false
        },
        "id": "cBkv_j7iOttf"
      },
      "source": [
        "train_length = train_data['symptom'].astype(str).apply(len)"
      ],
      "execution_count": 14,
      "outputs": []
    },
    {
      "cell_type": "code",
      "metadata": {
        "pycharm": {
          "is_executing": false
        },
        "id": "lj0T4cRyOtth",
        "outputId": "e4b09ef7-9950-4954-a2ac-3d59b8157451",
        "colab": {
          "base_uri": "https://localhost:8080/",
          "height": 119
        }
      },
      "source": [
        "train_length.head()"
      ],
      "execution_count": 15,
      "outputs": [
        {
          "output_type": "execute_result",
          "data": {
            "text/plain": [
              "29641    12\n",
              "29922    13\n",
              "36676     9\n",
              "28002    31\n",
              "65318    18\n",
              "Name: symptom, dtype: int64"
            ]
          },
          "metadata": {
            "tags": []
          },
          "execution_count": 15
        }
      ]
    },
    {
      "cell_type": "code",
      "metadata": {
        "pycharm": {
          "is_executing": false
        },
        "id": "aIzKM-8DOttk",
        "outputId": "41b3aa4b-fd5a-4de0-d6f8-b12b3ad1dccd",
        "colab": {
          "base_uri": "https://localhost:8080/",
          "height": 367
        }
      },
      "source": [
        "# 그래프에 대한 이미지 사이즈 선언\n",
        "# figsize: (가로, 세로) 형태의 튜플로 입력\n",
        "plt.figure(figsize=(12, 5))\n",
        "# 히스토그램 선언\n",
        "# bins: 히스토그램 값들에 대한 버켓 범위\n",
        "# range: x축 값의 범위\n",
        "# alpha: 그래프 색상 투명도\n",
        "# color: 그래프 색상\n",
        "# label: 그래프에 대한 라벨\n",
        "plt.hist(train_length, bins=200, alpha=0.5, color= 'r', label='word')\n",
        "plt.yscale('log', nonposy='clip')\n",
        "# 그래프 제목\n",
        "plt.title('Log-Histogram of length of symptom')\n",
        "# 그래프 x 축 라벨\n",
        "plt.xlabel('Length of symptom')\n",
        "# 그래프 y 축 라벨\n",
        "plt.ylabel('Number of symptom')"
      ],
      "execution_count": 16,
      "outputs": [
        {
          "output_type": "execute_result",
          "data": {
            "text/plain": [
              "Text(0, 0.5, 'Number of symptom')"
            ]
          },
          "metadata": {
            "tags": []
          },
          "execution_count": 16
        },
        {
          "output_type": "display_data",
          "data": {
            "image/png": "[encoded data removed]",
            "text/plain": [
              "<Figure size 864x360 with 1 Axes>"
            ]
          },
          "metadata": {
            "tags": [],
            "needs_background": "light"
          }
        }
      ]
    },
    {
      "cell_type": "code",
      "metadata": {
        "pycharm": {
          "is_executing": false
        },
        "id": "aj9sdLCIOttp",
        "outputId": "73d832d1-9545-457b-a174-c0023c557b95",
        "colab": {
          "base_uri": "https://localhost:8080/",
          "height": 136
        }
      },
      "source": [
        "print('증상 길이 최대 값: {}'.format(np.max(train_length)))\n",
        "print('증상 길이 최소 값: {}'.format(np.min(train_length)))\n",
        "print('증상 길이 평균 값: {:.2f}'.format(np.mean(train_length)))\n",
        "print('증상 길이 표준편차: {:.2f}'.format(np.std(train_length)))\n",
        "print('증상 길이 중간 값: {}'.format(np.median(train_length)))\n",
        "# 사분위의 대한 경우는 0~100 스케일로 되어있음\n",
        "print('증상 길이 제 1 사분위: {}'.format(np.percentile(train_length, 25)))\n",
        "print('증상 길이 제 3 사분위: {}'.format(np.percentile(train_length, 75)))"
      ],
      "execution_count": 17,
      "outputs": [
        {
          "output_type": "stream",
          "text": [
            "증상 길이 최대 값: 156\n",
            "증상 길이 최소 값: 1\n",
            "증상 길이 평균 값: 20.35\n",
            "증상 길이 표준편차: 10.94\n",
            "증상 길이 중간 값: 19.0\n",
            "증상 길이 제 1 사분위: 12.0\n",
            "증상 길이 제 3 사분위: 28.0\n"
          ],
          "name": "stdout"
        }
      ]
    },
    {
      "cell_type": "code",
      "metadata": {
        "pycharm": {
          "is_executing": false
        },
        "id": "ONRYrEiPOttr",
        "outputId": "b1647e8e-85df-47cf-e85c-da20f57a8dc0",
        "colab": {
          "base_uri": "https://localhost:8080/",
          "height": 456
        }
      },
      "source": [
        "plt.figure(figsize=(12, 5))\n",
        "# 박스플롯 생성\n",
        "# 첫번째 파라메터: 여러 분포에 대한 데이터 리스트를 입력\n",
        "# labels: 입력한 데이터에 대한 라벨\n",
        "# showmeans: 평균값을 마크함\n",
        "\n",
        "plt.boxplot(train_length,\n",
        "             labels=['counts'],\n",
        "             showmeans=True)"
      ],
      "execution_count": 18,
      "outputs": [
        {
          "output_type": "execute_result",
          "data": {
            "text/plain": [
              "{'boxes': [<matplotlib.lines.Line2D at 0x7fa008b85828>],\n",
              " 'caps': [<matplotlib.lines.Line2D at 0x7fa008b8e278>,\n",
              "  <matplotlib.lines.Line2D at 0x7fa008b8e5f8>],\n",
              " 'fliers': [<matplotlib.lines.Line2D at 0x7fa008b9a080>],\n",
              " 'means': [<matplotlib.lines.Line2D at 0x7fa008b8ecf8>],\n",
              " 'medians': [<matplotlib.lines.Line2D at 0x7fa008b8e978>],\n",
              " 'whiskers': [<matplotlib.lines.Line2D at 0x7fa008b85b38>,\n",
              "  <matplotlib.lines.Line2D at 0x7fa008b85eb8>]}"
            ]
          },
          "metadata": {
            "tags": []
          },
          "execution_count": 18
        },
        {
          "output_type": "display_data",
          "data": {
            "image/png": "[encoded data removed]",
            "text/plain": [
              "<Figure size 864x360 with 1 Axes>"
            ]
          },
          "metadata": {
            "tags": [],
            "needs_background": "light"
          }
        }
      ]
    },
    {
      "cell_type": "code",
      "metadata": {
        "pycharm": {
          "is_executing": false
        },
        "id": "XH2S7EVuOttu"
      },
      "source": [
        "# 보통은 문자열이 아닌 데이터는 삭제하나, 증상의 경우 발열, 체중 등과 같은 내용이 중요하므로 숫자도 살려둔다.\n",
        "# train_review = [review for review in train_data['document'] if type(review) is str]\n",
        "train_symptom = [symptom for symptom in train_data['symptom'] if type(symptom) is (str or int or float)]"
      ],
      "execution_count": 19,
      "outputs": []
    },
    {
      "cell_type": "code",
      "metadata": {
        "pycharm": {
          "is_executing": false
        },
        "id": "M-0Fv2mtOttz",
        "outputId": "7c05fee8-6372-4ced-ea92-f9c18ef227f9",
        "colab": {
          "base_uri": "https://localhost:8080/",
          "height": 268
        }
      },
      "source": [
        "fig, axe = plt.subplots(ncols=1)\n",
        "fig.set_size_inches(20, 3)\n",
        "sns.countplot(train_data['class'])"
      ],
      "execution_count": 20,
      "outputs": [
        {
          "output_type": "stream",
          "text": [
            "/usr/local/lib/python3.6/dist-packages/seaborn/_decorators.py:43: FutureWarning: Pass the following variable as a keyword arg: x. From version 0.12, the only valid positional argument will be `data`, and passing other arguments without an explicit keyword will result in an error or misinterpretation.\n",
            "  FutureWarning\n"
          ],
          "name": "stderr"
        },
        {
          "output_type": "execute_result",
          "data": {
            "text/plain": [
              "<matplotlib.axes._subplots.AxesSubplot at 0x7fa008ba9898>"
            ]
          },
          "metadata": {
            "tags": []
          },
          "execution_count": 20
        },
        {
          "output_type": "display_data",
          "data": {
            "image/png": "[encoded data removed]",
            "text/plain": [
              "<Figure size 1440x216 with 1 Axes>"
            ]
          },
          "metadata": {
            "tags": [],
            "needs_background": "light"
          }
        }
      ]
    },
    {
      "cell_type": "code",
      "metadata": {
        "id": "dm7YB7_foxpq"
      },
      "source": [
        "# DERM: 피부과 / GS: 외과 / IP: 호흡기내과 / FM: 가정의학과 / GI: 소화기내과 / OPH: 안과\n",
        "# NR: 신경과 / ENT: 이비인후과 / PSY : 신경정신과 / HEON: 혈액종양내과 / RHEU: 류마티스내과\n",
        "# REHM: 재활의학과 / NS: 신경외과 / AN: 마취통증의학과 / DENT: 치과 / PS: 성형외과\n",
        "# RAD: 영상의학과 / CS: 흉부외과 / INFC: 감염내과 / RAON: 방사선종양학과 / OS: 정형외과 \n",
        "# EMR: 응급의학과 / ENDO: 내분비내과 / CA: 순환기내과 / KTM: 한방과 / OBGY: 산부인과\n",
        "# URO: 비뇨기과 / ALL: 알레르기 내과 / NPH: 신장내과 / OEM:직업환경의학과 / COAN: 대장항문외과\n",
        "# LAB: 진단검사의학과 "
      ],
      "execution_count": 21,
      "outputs": []
    },
    {
      "cell_type": "code",
      "metadata": {
        "id": "xebYAPY8tVri",
        "outputId": "a1e8d697-953d-4afe-f823-72961ccb47f3",
        "colab": {
          "base_uri": "https://localhost:8080/",
          "height": 204
        }
      },
      "source": [
        "# convert class from string to integer\n",
        "class_to_label = {'DERM': 0, 'GS': 1, 'IP': 2, 'GI':3, 'OPH':4,\n",
        "                  'NR': 5, 'ENT': 6, 'PSY': 7, 'HEON': 8, 'RHEU': 9,\n",
        "                  'REHM': 10, 'NS': 11, 'AN': 12, 'DENT': 13, 'PS': 14,\n",
        "                  'CS': 15, 'INFC': 16, 'OS': 17,\n",
        "                  'EMR': 18, 'ENDO': 19, 'CA': 20, 'KTM': 21, 'OBGY': 22,\n",
        "                  'URO': 23, 'ALL': 24, 'NPH': 25}\n",
        "\n",
        "train_data['label'] = train_data['class'].map(class_to_label)\n",
        "test_data['label'] = test_data['class'].map(class_to_label)\n",
        "train_data.head()"
      ],
      "execution_count": 22,
      "outputs": [
        {
          "output_type": "execute_result",
          "data": {
            "text/html": [
              "<div>\n",
              "<style scoped>\n",
              "    .dataframe tbody tr th:only-of-type {\n",
              "        vertical-align: middle;\n",
              "    }\n",
              "\n",
              "    .dataframe tbody tr th {\n",
              "        vertical-align: top;\n",
              "    }\n",
              "\n",
              "    .dataframe thead th {\n",
              "        text-align: right;\n",
              "    }\n",
              "</style>\n",
              "<table border=\"1\" class=\"dataframe\">\n",
              "  <thead>\n",
              "    <tr style=\"text-align: right;\">\n",
              "      <th></th>\n",
              "      <th>symptom</th>\n",
              "      <th>class</th>\n",
              "      <th>label</th>\n",
              "    </tr>\n",
              "  </thead>\n",
              "  <tbody>\n",
              "    <tr>\n",
              "      <th>29641</th>\n",
              "      <td>손가락에 뭐가 생겼어요</td>\n",
              "      <td>DERM</td>\n",
              "      <td>0</td>\n",
              "    </tr>\n",
              "    <tr>\n",
              "      <th>29922</th>\n",
              "      <td>뜨거운 물 손등 흉 질문</td>\n",
              "      <td>DERM</td>\n",
              "      <td>0</td>\n",
              "    </tr>\n",
              "    <tr>\n",
              "      <th>36676</th>\n",
              "      <td>조갑주위염때문에요</td>\n",
              "      <td>DERM</td>\n",
              "      <td>0</td>\n",
              "    </tr>\n",
              "    <tr>\n",
              "      <th>28002</th>\n",
              "      <td>나이 30 키 175 몸무게 90조금이라도 피곤하 ...</td>\n",
              "      <td>OPH</td>\n",
              "      <td>4</td>\n",
              "    </tr>\n",
              "    <tr>\n",
              "      <th>65318</th>\n",
              "      <td>코막힘증상 때문에 두통이 있습니다</td>\n",
              "      <td>ENT</td>\n",
              "      <td>6</td>\n",
              "    </tr>\n",
              "  </tbody>\n",
              "</table>\n",
              "</div>"
            ],
            "text/plain": [
              "                               symptom class  label\n",
              "29641                     손가락에 뭐가 생겼어요  DERM      0\n",
              "29922                    뜨거운 물 손등 흉 질문  DERM      0\n",
              "36676                        조갑주위염때문에요  DERM      0\n",
              "28002  나이 30 키 175 몸무게 90조금이라도 피곤하 ...   OPH      4\n",
              "65318               코막힘증상 때문에 두통이 있습니다   ENT      6"
            ]
          },
          "metadata": {
            "tags": []
          },
          "execution_count": 22
        }
      ]
    },
    {
      "cell_type": "code",
      "metadata": {
        "pycharm": {
          "is_executing": false
        },
        "id": "Qp8FFTGtOtt1",
        "outputId": "276b7235-7cbe-4d11-d207-7232ae4b7c2b",
        "colab": {
          "base_uri": "https://localhost:8080/",
          "height": 459
        }
      },
      "source": [
        "# severe imbalenced data가 확인되지만 real-world로 반영한다고 생각하고 그대로 진행한다.\n",
        "# 단, FM(가정의학과)의 비중이 너무 높고 오히려 OS 비중이 낮은 것은 본 프로젝트가 군인 대상인 점을 감안하여 조정이 필요할 것 같다.\n",
        "for i in range(num_classes):\n",
        "  print(\"증상 개수: {}\".format(train_data['class'].value_counts()[i]))"
      ],
      "execution_count": 23,
      "outputs": [
        {
          "output_type": "stream",
          "text": [
            "증상 개수: 8113\n",
            "증상 개수: 7293\n",
            "증상 개수: 4903\n",
            "증상 개수: 4040\n",
            "증상 개수: 3403\n",
            "증상 개수: 3112\n",
            "증상 개수: 2922\n",
            "증상 개수: 2797\n",
            "증상 개수: 2395\n",
            "증상 개수: 2271\n",
            "증상 개수: 1722\n",
            "증상 개수: 1559\n",
            "증상 개수: 1546\n",
            "증상 개수: 1529\n",
            "증상 개수: 1074\n",
            "증상 개수: 973\n",
            "증상 개수: 916\n",
            "증상 개수: 800\n",
            "증상 개수: 760\n",
            "증상 개수: 521\n",
            "증상 개수: 478\n",
            "증상 개수: 379\n",
            "증상 개수: 334\n",
            "증상 개수: 234\n",
            "증상 개수: 208\n",
            "증상 개수: 198\n"
          ],
          "name": "stdout"
        }
      ]
    },
    {
      "cell_type": "code",
      "metadata": {
        "pycharm": {
          "is_executing": false
        },
        "id": "TjeHWcoZOtt3"
      },
      "source": [
        "# 각 증상 서술의 단어 수를 확인.\n",
        "# 데이터를 띄어쓰기 기준으로 나눠서 그 개수를 하나의 변수로 할당한다.\n",
        "train_word_counts = train_data['symptom'].astype(str).apply(lambda x:len(x.split(' ')))"
      ],
      "execution_count": 24,
      "outputs": []
    },
    {
      "cell_type": "code",
      "metadata": {
        "pycharm": {
          "is_executing": false
        },
        "id": "B7NsExhPOtt5",
        "outputId": "1c94aa60-64ab-46d8-e2f3-02ec45d51ad8",
        "colab": {
          "base_uri": "https://localhost:8080/",
          "height": 645
        }
      },
      "source": [
        "plt.figure(figsize=(15, 10))\n",
        "plt.hist(train_word_counts, bins=50, facecolor='r',label='train')\n",
        "plt.title('Log-Histogram of word count in symptom', fontsize=15)\n",
        "plt.yscale('log', nonposy='clip')\n",
        "plt.legend()\n",
        "plt.xlabel('Number of symptom', fontsize=15)\n",
        "plt.ylabel('Number of symptom', fontsize=15)"
      ],
      "execution_count": 25,
      "outputs": [
        {
          "output_type": "execute_result",
          "data": {
            "text/plain": [
              "Text(0, 0.5, 'Number of symptom')"
            ]
          },
          "metadata": {
            "tags": []
          },
          "execution_count": 25
        },
        {
          "output_type": "display_data",
          "data": {
            "image/png": "[encoded data removed]",
            "text/plain": [
              "<Figure size 1080x720 with 1 Axes>"
            ]
          },
          "metadata": {
            "tags": [],
            "needs_background": "light"
          }
        }
      ]
    },
    {
      "cell_type": "code",
      "metadata": {
        "pycharm": {
          "is_executing": false
        },
        "id": "aSjyoSNQOtt8",
        "outputId": "34ee116d-e22e-4c92-e82f-c5abb6864293",
        "colab": {
          "base_uri": "https://localhost:8080/",
          "height": 136
        }
      },
      "source": [
        "print('증상 단어 개수 최대 값: {}'.format(np.max(train_word_counts)))\n",
        "print('증상 단어 개수 최소 값: {}'.format(np.min(train_word_counts)))\n",
        "print('증상 단어 개수 평균 값: {:.2f}'.format(np.mean(train_word_counts)))\n",
        "print('증상 단어 개수 표준편차: {:.2f}'.format(np.std(train_word_counts)))\n",
        "print('증상 단어 개수 중간 값: {}'.format(np.median(train_word_counts)))\n",
        "# 사분위의 대한 경우는 0~100 스케일로 되어있음\n",
        "print('증상 단어 개수 제 1 사분위: {}'.format(np.percentile(train_word_counts, 25)))\n",
        "print('증상 단어 개수 제 3 사분위: {}'.format(np.percentile(train_word_counts, 75)))"
      ],
      "execution_count": 26,
      "outputs": [
        {
          "output_type": "stream",
          "text": [
            "증상 단어 개수 최대 값: 53\n",
            "증상 단어 개수 최소 값: 1\n",
            "증상 단어 개수 평균 값: 4.75\n",
            "증상 단어 개수 표준편차: 2.81\n",
            "증상 단어 개수 중간 값: 4.0\n",
            "증상 단어 개수 제 1 사분위: 3.0\n",
            "증상 단어 개수 제 3 사분위: 6.0\n"
          ],
          "name": "stdout"
        }
      ]
    },
    {
      "cell_type": "code",
      "metadata": {
        "pycharm": {
          "is_executing": false
        },
        "id": "0g2X2ZxHOtt9",
        "outputId": "a39e2862-4d2e-455a-d425-a8904ea6d067",
        "colab": {
          "base_uri": "https://localhost:8080/",
          "height": 51
        }
      },
      "source": [
        "# 특수문자 확인하기\n",
        "qmarks = np.mean(train_data['symptom'].astype(str).apply(lambda x: '?' in x)) # 물음표가 구두점으로 쓰임\n",
        "fullstop = np.mean(train_data['symptom'].astype(str).apply(lambda x: '.' in x)) # 마침표\n",
        "                  \n",
        "print('물음표가있는 질문: {:.2f}%'.format(qmarks * 100))\n",
        "print('마침표가 있는 질문: {:.2f}%'.format(fullstop * 100))"
      ],
      "execution_count": 27,
      "outputs": [
        {
          "output_type": "stream",
          "text": [
            "물음표가있는 질문: 18.07%\n",
            "마침표가 있는 질문: 30.57%\n"
          ],
          "name": "stdout"
        }
      ]
    },
    {
      "cell_type": "markdown",
      "metadata": {
        "id": "hcAJvcUQOtt_"
      },
      "source": [
        "## 2. BERT를 이용한 fine tuning"
      ]
    },
    {
      "cell_type": "code",
      "metadata": {
        "id": "sSW5G8i_OANS",
        "outputId": "272235ea-7f6f-4ada-dfd5-cae69b719aaf",
        "colab": {
          "base_uri": "https://localhost:8080/",
          "height": 394
        }
      },
      "source": [
        "# installing transforemrs\n",
        "!pip install transformers"
      ],
      "execution_count": 28,
      "outputs": [
        {
          "output_type": "stream",
          "text": [
            "Requirement already satisfied: transformers in /usr/local/lib/python3.6/dist-packages (3.4.0)\n",
            "Requirement already satisfied: dataclasses; python_version < \"3.7\" in /usr/local/lib/python3.6/dist-packages (from transformers) (0.7)\n",
            "Requirement already satisfied: sentencepiece!=0.1.92 in /usr/local/lib/python3.6/dist-packages (from transformers) (0.1.94)\n",
            "Requirement already satisfied: filelock in /usr/local/lib/python3.6/dist-packages (from transformers) (3.0.12)\n",
            "Requirement already satisfied: numpy in /usr/local/lib/python3.6/dist-packages (from transformers) (1.18.5)\n",
            "Requirement already satisfied: packaging in /usr/local/lib/python3.6/dist-packages (from transformers) (20.4)\n",
            "Requirement already satisfied: regex!=2019.12.17 in /usr/local/lib/python3.6/dist-packages (from transformers) (2019.12.20)\n",
            "Requirement already satisfied: protobuf in /usr/local/lib/python3.6/dist-packages (from transformers) (3.12.4)\n",
            "Requirement already satisfied: tqdm>=4.27 in /usr/local/lib/python3.6/dist-packages (from transformers) (4.41.1)\n",
            "Requirement already satisfied: tokenizers==0.9.2 in /usr/local/lib/python3.6/dist-packages (from transformers) (0.9.2)\n",
            "Requirement already satisfied: requests in /usr/local/lib/python3.6/dist-packages (from transformers) (2.23.0)\n",
            "Requirement already satisfied: sacremoses in /usr/local/lib/python3.6/dist-packages (from transformers) (0.0.43)\n",
            "Requirement already satisfied: six in /usr/local/lib/python3.6/dist-packages (from packaging->transformers) (1.15.0)\n",
            "Requirement already satisfied: pyparsing>=2.0.2 in /usr/local/lib/python3.6/dist-packages (from packaging->transformers) (2.4.7)\n",
            "Requirement already satisfied: setuptools in /usr/local/lib/python3.6/dist-packages (from protobuf->transformers) (50.3.0)\n",
            "Requirement already satisfied: urllib3!=1.25.0,!=1.25.1,<1.26,>=1.21.1 in /usr/local/lib/python3.6/dist-packages (from requests->transformers) (1.24.3)\n",
            "Requirement already satisfied: chardet<4,>=3.0.2 in /usr/local/lib/python3.6/dist-packages (from requests->transformers) (3.0.4)\n",
            "Requirement already satisfied: certifi>=2017.4.17 in /usr/local/lib/python3.6/dist-packages (from requests->transformers) (2020.6.20)\n",
            "Requirement already satisfied: idna<3,>=2.5 in /usr/local/lib/python3.6/dist-packages (from requests->transformers) (2.10)\n",
            "Requirement already satisfied: click in /usr/local/lib/python3.6/dist-packages (from sacremoses->transformers) (7.1.2)\n",
            "Requirement already satisfied: joblib in /usr/local/lib/python3.6/dist-packages (from sacremoses->transformers) (0.16.0)\n"
          ],
          "name": "stdout"
        }
      ]
    },
    {
      "cell_type": "code",
      "metadata": {
        "id": "_Ucx5zEiL_T4"
      },
      "source": [
        "import re\n",
        "from tqdm import tqdm\n",
        "\n",
        "import tensorflow as tf \n",
        "from transformers import *"
      ],
      "execution_count": 29,
      "outputs": []
    },
    {
      "cell_type": "code",
      "metadata": {
        "id": "u6aWFl1iL_T8"
      },
      "source": [
        "# 시각화\n",
        "\n",
        "def plot_graphs(history, string):\n",
        "    plt.plot(history.history[string])\n",
        "    plt.plot(history.history['val_'+string], '')\n",
        "    plt.xlabel(\"Epochs\")\n",
        "    plt.ylabel(string)\n",
        "    plt.legend([string, 'val_'+string])\n",
        "    plt.show()"
      ],
      "execution_count": 30,
      "outputs": []
    },
    {
      "cell_type": "code",
      "metadata": {
        "id": "w7eBrZJrL_T_"
      },
      "source": [
        "#random seed 고정\n",
        "tf.random.set_seed(seed)\n",
        "\n",
        "BATCH_SIZE = 32\n",
        "NUM_EPOCHS = 10\n",
        "# VALID_SPLIT = 0.2   ##이미 validation split을 straitified하게 시행함.\n",
        "MAX_LEN = 30 # EDA상 3사분위 수가 word수가 7이었다. token 갯수는 대략 30으로 가정해본다.\n",
        "# DATA_IN_PATH = 'data_in/KOR' ## EDA \n",
        "DATA_OUT_PATH = \"/content/drive/My Drive/DataCollection/OSAM\""
      ],
      "execution_count": 31,
      "outputs": []
    },
    {
      "cell_type": "code",
      "metadata": {
        "id": "zjeQkp1XL_UB"
      },
      "source": [
        "tokenizer = BertTokenizer.from_pretrained(\"bert-base-multilingual-cased\", cache_dir='bert_ckpt', do_lower_case=False)"
      ],
      "execution_count": 32,
      "outputs": []
    },
    {
      "cell_type": "markdown",
      "metadata": {
        "id": "AVA28X6_L_UE"
      },
      "source": [
        "### 토크나이저 테스트"
      ]
    },
    {
      "cell_type": "code",
      "metadata": {
        "id": "um3Uyw6sL_UF",
        "outputId": "2efe4e83-40f0-49d5-cd76-d3e72beb415e",
        "colab": {
          "base_uri": "https://localhost:8080/",
          "height": 51
        }
      },
      "source": [
        "test_sentence = \"안녕하세요, 반갑습니다.\"\n",
        "\n",
        "encode = tokenizer.encode(test_sentence)\n",
        "token_print = [tokenizer.decode(token) for token in encode]\n",
        "\n",
        "print(encode)\n",
        "print(token_print)"
      ],
      "execution_count": 33,
      "outputs": [
        {
          "output_type": "stream",
          "text": [
            "[101, 9521, 118741, 35506, 24982, 48549, 117, 9321, 118610, 119081, 48345, 119, 102]\n",
            "['[ C L S ]', '안', '# # 녕', '# # 하', '# # 세', '# # 요', ',', '반', '# # 갑', '# # 습', '# # 니 다', '.', '[ S E P ]']\n"
          ],
          "name": "stdout"
        }
      ]
    },
    {
      "cell_type": "code",
      "metadata": {
        "id": "Nhg3buN2L_UN",
        "outputId": "7ccdf6aa-4590-407e-d339-eec100bf978e",
        "colab": {
          "base_uri": "https://localhost:8080/",
          "height": 119
        }
      },
      "source": [
        "# 스페셜 토큰\n",
        "print(tokenizer.all_special_tokens, \"\\n\", tokenizer.all_special_ids)\n",
        "\n",
        "# 토크나이저 테스트하기\n",
        "kor_encode = tokenizer.encode(\"안녕하세요, 반갑습니다. \")\n",
        "eng_encode = tokenizer.encode(\"Hello world\")\n",
        "\n",
        "kor_decode = tokenizer.decode(kor_encode)\n",
        "eng_decode = tokenizer.decode(eng_encode)\n",
        "\n",
        "print(kor_encode)\n",
        "print(eng_encode)\n",
        "print(kor_decode)\n",
        "print(eng_decode)"
      ],
      "execution_count": 34,
      "outputs": [
        {
          "output_type": "stream",
          "text": [
            "['[UNK]', '[SEP]', '[PAD]', '[CLS]', '[MASK]'] \n",
            " [100, 102, 0, 101, 103]\n",
            "[101, 9521, 118741, 35506, 24982, 48549, 117, 9321, 118610, 119081, 48345, 119, 102]\n",
            "[101, 31178, 11356, 102]\n",
            "[CLS] 안녕하세요, 반갑습니다. [SEP]\n",
            "[CLS] Hello world [SEP]\n"
          ],
          "name": "stdout"
        }
      ]
    },
    {
      "cell_type": "markdown",
      "metadata": {
        "id": "LADqGwjyL_UK"
      },
      "source": [
        "### Symptom to Specialty Classification (SSC)"
      ]
    },
    {
      "cell_type": "code",
      "metadata": {
        "id": "teTPLjiCL_UP"
      },
      "source": [
        "# Bert Tokenizer\n",
        "\n",
        "# 참조: https://huggingface.co/transformers/main_classes/tokenizer.html?highlight=encode_plus#transformers.PreTrainedTokenizer.encode_plus\n",
        "\n",
        "def bert_tokenizer(sent, MAX_LEN, truncation=True):\n",
        "    \n",
        "    encoded_dict = tokenizer.encode_plus(\n",
        "        text = sent,\n",
        "        add_special_tokens = True, # Add '[CLS]' and '[SEP]'\n",
        "        max_length = MAX_LEN,           # Pad & truncate all sentences.  \n",
        "        pad_to_max_length = True,\n",
        "        return_attention_mask = True,\n",
        "        truncation = True   # Construct attn. masks.\n",
        "        \n",
        "    )\n",
        "    \n",
        "    input_id = encoded_dict['input_ids']\n",
        "    attention_mask = encoded_dict['attention_mask'] # And its attention mask (simply differentiates padding from non-padding).\n",
        "    token_type_id = encoded_dict['token_type_ids'] # differentiate two sentences\n",
        "    \n",
        "    return input_id, attention_mask, token_type_id"
      ],
      "execution_count": 35,
      "outputs": []
    },
    {
      "cell_type": "code",
      "metadata": {
        "id": "YNYfpctLL_UR",
        "outputId": "0ecad38d-1fb8-4e06-8e23-410d4e4c914f",
        "colab": {
          "base_uri": "https://localhost:8080/",
          "height": 105
        }
      },
      "source": [
        "# train_data \n",
        "\n",
        "input_ids = []\n",
        "attention_masks = []\n",
        "token_type_ids = []\n",
        "train_data_labels = []\n",
        "\n",
        "for train_sent, train_label in tqdm(zip(train_data[\"symptom\"], train_data[\"label\"]), total=len(train_data)):\n",
        "    try:\n",
        "        input_id, attention_mask, token_type_id = bert_tokenizer(train_sent, MAX_LEN)\n",
        "        \n",
        "        input_ids.append(input_id)\n",
        "        attention_masks.append(attention_mask)\n",
        "        token_type_ids.append(token_type_id)\n",
        "        train_data_labels.append(train_label)\n",
        "\n",
        "    except Exception as e:\n",
        "        print(e)\n",
        "        print(train_sent)\n",
        "        pass\n",
        "\n",
        "## check... convert 'movie' to 'symptom'\n",
        "train_symptom_input_ids = np.array(input_ids, dtype=int)\n",
        "train_symptom_attention_masks = np.array(attention_masks, dtype=int)\n",
        "train_symptom_type_ids = np.array(token_type_ids, dtype=int)\n",
        "train_symptom_inputs = (train_symptom_input_ids, train_symptom_attention_masks, train_symptom_type_ids)\n",
        "\n",
        "train_data_labels = np.asarray(train_data_labels, dtype=np.int32) #레이블 토크나이징 리스트\n",
        "\n",
        "print(\"# sents: {}, # labels: {}\".format(len(train_symptom_input_ids), len(train_data_labels)))"
      ],
      "execution_count": 36,
      "outputs": [
        {
          "output_type": "stream",
          "text": [
            "  0%|          | 0/54480 [00:00<?, ?it/s]/usr/local/lib/python3.6/dist-packages/transformers/tokenization_utils_base.py:1944: FutureWarning: The `pad_to_max_length` argument is deprecated and will be removed in a future version, use `padding=True` or `padding='longest'` to pad to the longest sequence in the batch, or use `padding='max_length'` to pad to a max length. In this case, you can give a specific length with `max_length` (e.g. `max_length=45`) or leave max_length to None to pad to the maximal input size of the model (e.g. 512 for Bert).\n",
            "  FutureWarning,\n",
            "100%|██████████| 54480/54480 [00:11<00:00, 4671.61it/s]"
          ],
          "name": "stderr"
        },
        {
          "output_type": "stream",
          "text": [
            "# sents: 54480, # labels: 54480\n"
          ],
          "name": "stdout"
        },
        {
          "output_type": "stream",
          "text": [
            "\n"
          ],
          "name": "stderr"
        }
      ]
    },
    {
      "cell_type": "code",
      "metadata": {
        "id": "gna_Qkr0yMQ0",
        "outputId": "ee198457-3906-40ea-8470-209f7332d9e5",
        "colab": {
          "base_uri": "https://localhost:8080/",
          "height": 105
        }
      },
      "source": [
        "# test_data\n",
        "input_ids = []\n",
        "attention_masks = []\n",
        "token_type_ids = []\n",
        "test_data_labels = []\n",
        "\n",
        "for test_sent, test_label in tqdm(zip(test_data[\"symptom\"], test_data[\"label\"])):\n",
        "    try:\n",
        "        input_id, attention_mask, token_type_id = bert_tokenizer(test_sent, MAX_LEN)\n",
        "\n",
        "        input_ids.append(input_id)\n",
        "        attention_masks.append(attention_mask)\n",
        "        token_type_ids.append(token_type_id)\n",
        "        test_data_labels.append(test_label)\n",
        "    except Exception as e:\n",
        "        print(e)\n",
        "        print(test_sent)\n",
        "        pass\n",
        "\n",
        "test_symptom_input_ids = np.array(input_ids, dtype=int)\n",
        "test_symptom_attention_masks = np.array(attention_masks, dtype=int)\n",
        "test_symptom_type_ids = np.array(token_type_ids, dtype=int)\n",
        "test_symptom_inputs = (test_symptom_input_ids, test_symptom_attention_masks, test_symptom_type_ids)\n",
        "\n",
        "test_data_labels = np.asarray(test_data_labels, dtype=np.int32) #레이블 토크나이징 리스트\n",
        "\n",
        "print(\"num sents, labels {}, {}\".format(len(test_symptom_input_ids), len(test_data_labels)))"
      ],
      "execution_count": 37,
      "outputs": [
        {
          "output_type": "stream",
          "text": [
            "0it [00:00, ?it/s]/usr/local/lib/python3.6/dist-packages/transformers/tokenization_utils_base.py:1944: FutureWarning: The `pad_to_max_length` argument is deprecated and will be removed in a future version, use `padding=True` or `padding='longest'` to pad to the longest sequence in the batch, or use `padding='max_length'` to pad to a max length. In this case, you can give a specific length with `max_length` (e.g. `max_length=45`) or leave max_length to None to pad to the maximal input size of the model (e.g. 512 for Bert).\n",
            "  FutureWarning,\n",
            "13621it [00:02, 4828.39it/s]"
          ],
          "name": "stderr"
        },
        {
          "output_type": "stream",
          "text": [
            "num sents, labels 13621, 13621\n"
          ],
          "name": "stdout"
        },
        {
          "output_type": "stream",
          "text": [
            "\n"
          ],
          "name": "stderr"
        }
      ]
    },
    {
      "cell_type": "code",
      "metadata": {
        "id": "UZL3jOmDL_UT",
        "outputId": "bb0d9e84-ff41-46e8-ea65-81e6a03b8be2",
        "colab": {
          "base_uri": "https://localhost:8080/",
          "height": 139
        }
      },
      "source": [
        "# 최대 길이: 40\n",
        "input_id = train_symptom_input_ids[1]\n",
        "attention_mask = train_symptom_attention_masks[1]\n",
        "token_type_id = train_symptom_type_ids[1]\n",
        "\n",
        "print(input_id)\n",
        "print(attention_mask)\n",
        "print(token_type_id)\n",
        "print(tokenizer.decode(input_id))"
      ],
      "execution_count": 38,
      "outputs": [
        {
          "output_type": "stream",
          "text": [
            "[   101   9151  41521  21614   9299   9450 101322  10014   9709  25934\n",
            "    102      0      0      0      0      0      0      0      0      0\n",
            "      0      0      0      0      0      0      0      0      0      0]\n",
            "[1 1 1 1 1 1 1 1 1 1 1 0 0 0 0 0 0 0 0 0 0 0 0 0 0 0 0 0 0 0]\n",
            "[0 0 0 0 0 0 0 0 0 0 0 0 0 0 0 0 0 0 0 0 0 0 0 0 0 0 0 0 0 0]\n",
            "[CLS] 뜨거운 물 손등 흉 질문 [SEP] [PAD] [PAD] [PAD] [PAD] [PAD] [PAD] [PAD] [PAD] [PAD] [PAD] [PAD] [PAD] [PAD] [PAD] [PAD] [PAD] [PAD] [PAD] [PAD]\n"
          ],
          "name": "stdout"
        }
      ]
    },
    {
      "cell_type": "code",
      "metadata": {
        "id": "eGFGLK7YL_UW",
        "outputId": "460d1c54-eeab-43c8-affa-3f9e71346029",
        "colab": {
          "base_uri": "https://localhost:8080/",
          "height": 122
        }
      },
      "source": [
        "class TFBertClassifier(tf.keras.Model):\n",
        "    def __init__(self, model_name, dir_path, num_class):\n",
        "        super(TFBertClassifier, self).__init__()\n",
        "\n",
        "        self.bert = TFBertModel.from_pretrained(model_name, cache_dir=dir_path)\n",
        "        self.dropout = tf.keras.layers.Dropout(self.bert.config.hidden_dropout_prob)\n",
        "        self.classifier = tf.keras.layers.Dense(num_class, \n",
        "                                                kernel_initializer=tf.keras.initializers.TruncatedNormal(self.bert.config.initializer_range), \n",
        "                                                name=\"classifier\")\n",
        "        \n",
        "    def call(self, inputs, attention_mask=None, token_type_ids=None, training=False):\n",
        "        \n",
        "        #outputs 값: # sequence_output, pooled_output, (hidden_states), (attentions)\n",
        "        outputs = self.bert(inputs, attention_mask=attention_mask, token_type_ids=token_type_ids)\n",
        "        pooled_output = outputs[1] \n",
        "        pooled_output = self.dropout(pooled_output, training=training)\n",
        "        logits = self.classifier(pooled_output)\n",
        "\n",
        "        return logits\n",
        "\n",
        "cls_model = TFBertClassifier(model_name='bert-base-multilingual-cased',\n",
        "                                  dir_path='bert_ckpt',\n",
        "                                  num_class=num_classes)"
      ],
      "execution_count": 39,
      "outputs": [
        {
          "output_type": "stream",
          "text": [
            "Some layers from the model checkpoint at bert-base-multilingual-cased were not used when initializing TFBertModel: ['mlm___cls', 'nsp___cls']\n",
            "- This IS expected if you are initializing TFBertModel from the checkpoint of a model trained on another task or with another architecture (e.g. initializing a BertForSequenceClassification model from a BertForPretraining model).\n",
            "- This IS NOT expected if you are initializing TFBertModel from the checkpoint of a model that you expect to be exactly identical (initializing a BertForSequenceClassification model from a BertForSequenceClassification model).\n",
            "All the layers of TFBertModel were initialized from the model checkpoint at bert-base-multilingual-cased.\n",
            "If your task is similar to the task the model of the checkpoint was trained on, you can already use TFBertModel for predictions without further training.\n"
          ],
          "name": "stderr"
        }
      ]
    },
    {
      "cell_type": "code",
      "metadata": {
        "id": "oiffibEFL_UY"
      },
      "source": [
        "# 학습 준비하기\n",
        "optimizer = tf.keras.optimizers.Adam(3e-5)\n",
        "loss = tf.keras.losses.SparseCategoricalCrossentropy(from_logits=True)\n",
        "metric = tf.keras.metrics.SparseCategoricalAccuracy(name='accuracy')\n",
        "cls_model.compile(optimizer=optimizer, loss=loss, metrics=[metric], experimental_run_tf_function=False)"
      ],
      "execution_count": 40,
      "outputs": []
    },
    {
      "cell_type": "code",
      "metadata": {
        "id": "dDnJ81zcL_Ua",
        "outputId": "588e7728-5c7b-4edd-ea9f-e523e240384b",
        "colab": {
          "base_uri": "https://localhost:8080/",
          "height": 973
        }
      },
      "source": [
        "model_name = \"tf2_bert_symptom2class\"\n",
        "\n",
        "\n",
        "\n",
        "# overfitting을 막기 위한 earlystop 추가\n",
        "earlystop_callback = tf.keras.callbacks.EarlyStopping(monitor='val_accuracy', min_delta=0.0001,patience=2)\n",
        "# min_delta: the threshold that triggers the termination (acc should at least improve 0.0001)\n",
        "# patience: no improvment epochs (patience = 1, 1번 이상 상승이 없으면 종료)\\\n",
        "\n",
        "checkpoint_path = os.path.join(DATA_OUT_PATH, model_name, 'weights.h5')\n",
        "checkpoint_dir = os.path.dirname(checkpoint_path)\n",
        "\n",
        "# Create path if exists\n",
        "if os.path.exists(checkpoint_dir):\n",
        "    print(\"{} -- Folder already exists \\n\".format(checkpoint_dir))\n",
        "else:\n",
        "    os.makedirs(checkpoint_dir, exist_ok=True)\n",
        "    print(\"{} -- Folder create complete \\n\".format(checkpoint_dir))\n",
        "    \n",
        "cp_callback = tf.keras.callbacks.ModelCheckpoint(\n",
        "    checkpoint_path, monitor='val_accuracy', verbose=1, save_best_only=True, save_weights_only=True)\n",
        "\n",
        "# 학습과 eval 시작\n",
        "history = cls_model.fit(train_symptom_inputs, train_data_labels, epochs=NUM_EPOCHS, batch_size=BATCH_SIZE,\n",
        "                    validation_data=(test_symptom_inputs, test_data_labels),\n",
        "                    validation_steps=(len(test_data_labels)/BATCH_SIZE), \n",
        "                    callbacks=[cp_callback, earlystop_callback]) ## Cannot use in transformers of TF 2.3 -- NO. WE CAN USE THIS\n",
        "\n",
        "#steps_for_epoch\n",
        "\n",
        "print(history.history)"
      ],
      "execution_count": 41,
      "outputs": [
        {
          "output_type": "stream",
          "text": [
            "/content/drive/My Drive/DataCollection/OSAM/tf2_bert_symptom2class -- Folder already exists \n",
            "\n",
            "Epoch 1/10\n",
            "1703/1703 [==============================] - ETA: 0s - loss: 1.5376 - accuracy: 0.5744\n",
            "Epoch 00001: val_accuracy improved from -inf to 0.68196, saving model to /content/drive/My Drive/DataCollection/OSAM/tf2_bert_symptom2class/weights.h5\n",
            "1703/1703 [==============================] - 474s 278ms/step - loss: 1.5376 - accuracy: 0.5744 - val_loss: 1.1446 - val_accuracy: 0.6820\n",
            "Epoch 2/10\n",
            "1703/1703 [==============================] - ETA: 0s - loss: 1.0463 - accuracy: 0.7020\n",
            "Epoch 00002: val_accuracy improved from 0.68196 to 0.70722, saving model to /content/drive/My Drive/DataCollection/OSAM/tf2_bert_symptom2class/weights.h5\n",
            "1703/1703 [==============================] - 473s 278ms/step - loss: 1.0463 - accuracy: 0.7020 - val_loss: 1.0382 - val_accuracy: 0.7072\n",
            "Epoch 3/10\n",
            "1703/1703 [==============================] - ETA: 0s - loss: 0.8817 - accuracy: 0.7426\n",
            "Epoch 00003: val_accuracy improved from 0.70722 to 0.70824, saving model to /content/drive/My Drive/DataCollection/OSAM/tf2_bert_symptom2class/weights.h5\n",
            "1703/1703 [==============================] - 473s 278ms/step - loss: 0.8817 - accuracy: 0.7426 - val_loss: 1.0238 - val_accuracy: 0.7082\n",
            "Epoch 4/10\n",
            "1703/1703 [==============================] - ETA: 0s - loss: 0.7522 - accuracy: 0.7752\n",
            "Epoch 00004: val_accuracy improved from 0.70824 to 0.71441, saving model to /content/drive/My Drive/DataCollection/OSAM/tf2_bert_symptom2class/weights.h5\n",
            "1703/1703 [==============================] - 473s 278ms/step - loss: 0.7522 - accuracy: 0.7752 - val_loss: 1.0313 - val_accuracy: 0.7144\n",
            "Epoch 5/10\n",
            "1703/1703 [==============================] - ETA: 0s - loss: 0.6418 - accuracy: 0.8021\n",
            "Epoch 00005: val_accuracy improved from 0.71441 to 0.71588, saving model to /content/drive/My Drive/DataCollection/OSAM/tf2_bert_symptom2class/weights.h5\n",
            "1703/1703 [==============================] - 472s 277ms/step - loss: 0.6418 - accuracy: 0.8021 - val_loss: 1.0677 - val_accuracy: 0.7159\n",
            "Epoch 6/10\n",
            "1703/1703 [==============================] - ETA: 0s - loss: 0.5356 - accuracy: 0.8337\n",
            "Epoch 00006: val_accuracy improved from 0.71588 to 0.71647, saving model to /content/drive/My Drive/DataCollection/OSAM/tf2_bert_symptom2class/weights.h5\n",
            "1703/1703 [==============================] - 472s 277ms/step - loss: 0.5356 - accuracy: 0.8337 - val_loss: 1.1115 - val_accuracy: 0.7165\n",
            "Epoch 7/10\n",
            "1703/1703 [==============================] - ETA: 0s - loss: 0.4435 - accuracy: 0.8595\n",
            "Epoch 00007: val_accuracy improved from 0.71647 to 0.71669, saving model to /content/drive/My Drive/DataCollection/OSAM/tf2_bert_symptom2class/weights.h5\n",
            "1703/1703 [==============================] - 472s 277ms/step - loss: 0.4435 - accuracy: 0.8595 - val_loss: 1.1881 - val_accuracy: 0.7167\n",
            "Epoch 8/10\n",
            " 432/1703 [======>.......................] - ETA: 5:26 - loss: 0.3378 - accuracy: 0.8925"
          ],
          "name": "stdout"
        },
        {
          "output_type": "error",
          "ename": "KeyboardInterrupt",
          "evalue": "ignored",
          "traceback": [
            "\u001b[0;31m---------------------------------------------------------------------------\u001b[0m",
            "\u001b[0;31mKeyboardInterrupt\u001b[0m                         Traceback (most recent call last)",
            "\u001b[0;32m<ipython-input-41-513b7a989c06>\u001b[0m in \u001b[0;36m<module>\u001b[0;34m()\u001b[0m\n\u001b[1;32m     25\u001b[0m                     \u001b[0mvalidation_data\u001b[0m\u001b[0;34m=\u001b[0m\u001b[0;34m(\u001b[0m\u001b[0mtest_symptom_inputs\u001b[0m\u001b[0;34m,\u001b[0m \u001b[0mtest_data_labels\u001b[0m\u001b[0;34m)\u001b[0m\u001b[0;34m,\u001b[0m\u001b[0;34m\u001b[0m\u001b[0;34m\u001b[0m\u001b[0m\n\u001b[1;32m     26\u001b[0m                     \u001b[0mvalidation_steps\u001b[0m\u001b[0;34m=\u001b[0m\u001b[0;34m(\u001b[0m\u001b[0mlen\u001b[0m\u001b[0;34m(\u001b[0m\u001b[0mtest_data_labels\u001b[0m\u001b[0;34m)\u001b[0m\u001b[0;34m/\u001b[0m\u001b[0mBATCH_SIZE\u001b[0m\u001b[0;34m)\u001b[0m\u001b[0;34m,\u001b[0m\u001b[0;34m\u001b[0m\u001b[0;34m\u001b[0m\u001b[0m\n\u001b[0;32m---> 27\u001b[0;31m                     callbacks=[cp_callback, earlystop_callback]) ## Cannot use in transformers of TF 2.3 -- NO. WE CAN USE THIS\n\u001b[0m\u001b[1;32m     28\u001b[0m \u001b[0;34m\u001b[0m\u001b[0m\n\u001b[1;32m     29\u001b[0m \u001b[0;31m#steps_for_epoch\u001b[0m\u001b[0;34m\u001b[0m\u001b[0;34m\u001b[0m\u001b[0;34m\u001b[0m\u001b[0m\n",
            "\u001b[0;32m/usr/local/lib/python3.6/dist-packages/tensorflow/python/keras/engine/training.py\u001b[0m in \u001b[0;36m_method_wrapper\u001b[0;34m(self, *args, **kwargs)\u001b[0m\n\u001b[1;32m    106\u001b[0m   \u001b[0;32mdef\u001b[0m \u001b[0m_method_wrapper\u001b[0m\u001b[0;34m(\u001b[0m\u001b[0mself\u001b[0m\u001b[0;34m,\u001b[0m \u001b[0;34m*\u001b[0m\u001b[0margs\u001b[0m\u001b[0;34m,\u001b[0m \u001b[0;34m**\u001b[0m\u001b[0mkwargs\u001b[0m\u001b[0;34m)\u001b[0m\u001b[0;34m:\u001b[0m\u001b[0;34m\u001b[0m\u001b[0;34m\u001b[0m\u001b[0m\n\u001b[1;32m    107\u001b[0m     \u001b[0;32mif\u001b[0m \u001b[0;32mnot\u001b[0m \u001b[0mself\u001b[0m\u001b[0;34m.\u001b[0m\u001b[0m_in_multi_worker_mode\u001b[0m\u001b[0;34m(\u001b[0m\u001b[0;34m)\u001b[0m\u001b[0;34m:\u001b[0m  \u001b[0;31m# pylint: disable=protected-access\u001b[0m\u001b[0;34m\u001b[0m\u001b[0;34m\u001b[0m\u001b[0m\n\u001b[0;32m--> 108\u001b[0;31m       \u001b[0;32mreturn\u001b[0m \u001b[0mmethod\u001b[0m\u001b[0;34m(\u001b[0m\u001b[0mself\u001b[0m\u001b[0;34m,\u001b[0m \u001b[0;34m*\u001b[0m\u001b[0margs\u001b[0m\u001b[0;34m,\u001b[0m \u001b[0;34m**\u001b[0m\u001b[0mkwargs\u001b[0m\u001b[0;34m)\u001b[0m\u001b[0;34m\u001b[0m\u001b[0;34m\u001b[0m\u001b[0m\n\u001b[0m\u001b[1;32m    109\u001b[0m \u001b[0;34m\u001b[0m\u001b[0m\n\u001b[1;32m    110\u001b[0m     \u001b[0;31m# Running inside `run_distribute_coordinator` already.\u001b[0m\u001b[0;34m\u001b[0m\u001b[0;34m\u001b[0m\u001b[0;34m\u001b[0m\u001b[0m\n",
            "\u001b[0;32m/usr/local/lib/python3.6/dist-packages/tensorflow/python/keras/engine/training.py\u001b[0m in \u001b[0;36mfit\u001b[0;34m(self, x, y, batch_size, epochs, verbose, callbacks, validation_split, validation_data, shuffle, class_weight, sample_weight, initial_epoch, steps_per_epoch, validation_steps, validation_batch_size, validation_freq, max_queue_size, workers, use_multiprocessing)\u001b[0m\n\u001b[1;32m   1096\u001b[0m                 batch_size=batch_size):\n\u001b[1;32m   1097\u001b[0m               \u001b[0mcallbacks\u001b[0m\u001b[0;34m.\u001b[0m\u001b[0mon_train_batch_begin\u001b[0m\u001b[0;34m(\u001b[0m\u001b[0mstep\u001b[0m\u001b[0;34m)\u001b[0m\u001b[0;34m\u001b[0m\u001b[0;34m\u001b[0m\u001b[0m\n\u001b[0;32m-> 1098\u001b[0;31m               \u001b[0mtmp_logs\u001b[0m \u001b[0;34m=\u001b[0m \u001b[0mtrain_function\u001b[0m\u001b[0;34m(\u001b[0m\u001b[0miterator\u001b[0m\u001b[0;34m)\u001b[0m\u001b[0;34m\u001b[0m\u001b[0;34m\u001b[0m\u001b[0m\n\u001b[0m\u001b[1;32m   1099\u001b[0m               \u001b[0;32mif\u001b[0m \u001b[0mdata_handler\u001b[0m\u001b[0;34m.\u001b[0m\u001b[0mshould_sync\u001b[0m\u001b[0;34m:\u001b[0m\u001b[0;34m\u001b[0m\u001b[0;34m\u001b[0m\u001b[0m\n\u001b[1;32m   1100\u001b[0m                 \u001b[0mcontext\u001b[0m\u001b[0;34m.\u001b[0m\u001b[0masync_wait\u001b[0m\u001b[0;34m(\u001b[0m\u001b[0;34m)\u001b[0m\u001b[0;34m\u001b[0m\u001b[0;34m\u001b[0m\u001b[0m\n",
            "\u001b[0;32m/usr/local/lib/python3.6/dist-packages/tensorflow/python/eager/def_function.py\u001b[0m in \u001b[0;36m__call__\u001b[0;34m(self, *args, **kwds)\u001b[0m\n\u001b[1;32m    778\u001b[0m       \u001b[0;32melse\u001b[0m\u001b[0;34m:\u001b[0m\u001b[0;34m\u001b[0m\u001b[0;34m\u001b[0m\u001b[0m\n\u001b[1;32m    779\u001b[0m         \u001b[0mcompiler\u001b[0m \u001b[0;34m=\u001b[0m \u001b[0;34m\"nonXla\"\u001b[0m\u001b[0;34m\u001b[0m\u001b[0;34m\u001b[0m\u001b[0m\n\u001b[0;32m--> 780\u001b[0;31m         \u001b[0mresult\u001b[0m \u001b[0;34m=\u001b[0m \u001b[0mself\u001b[0m\u001b[0;34m.\u001b[0m\u001b[0m_call\u001b[0m\u001b[0;34m(\u001b[0m\u001b[0;34m*\u001b[0m\u001b[0margs\u001b[0m\u001b[0;34m,\u001b[0m \u001b[0;34m**\u001b[0m\u001b[0mkwds\u001b[0m\u001b[0;34m)\u001b[0m\u001b[0;34m\u001b[0m\u001b[0;34m\u001b[0m\u001b[0m\n\u001b[0m\u001b[1;32m    781\u001b[0m \u001b[0;34m\u001b[0m\u001b[0m\n\u001b[1;32m    782\u001b[0m       \u001b[0mnew_tracing_count\u001b[0m \u001b[0;34m=\u001b[0m \u001b[0mself\u001b[0m\u001b[0;34m.\u001b[0m\u001b[0m_get_tracing_count\u001b[0m\u001b[0;34m(\u001b[0m\u001b[0;34m)\u001b[0m\u001b[0;34m\u001b[0m\u001b[0;34m\u001b[0m\u001b[0m\n",
            "\u001b[0;32m/usr/local/lib/python3.6/dist-packages/tensorflow/python/eager/def_function.py\u001b[0m in \u001b[0;36m_call\u001b[0;34m(self, *args, **kwds)\u001b[0m\n\u001b[1;32m    805\u001b[0m       \u001b[0;31m# In this case we have created variables on the first call, so we run the\u001b[0m\u001b[0;34m\u001b[0m\u001b[0;34m\u001b[0m\u001b[0;34m\u001b[0m\u001b[0m\n\u001b[1;32m    806\u001b[0m       \u001b[0;31m# defunned version which is guaranteed to never create variables.\u001b[0m\u001b[0;34m\u001b[0m\u001b[0;34m\u001b[0m\u001b[0;34m\u001b[0m\u001b[0m\n\u001b[0;32m--> 807\u001b[0;31m       \u001b[0;32mreturn\u001b[0m \u001b[0mself\u001b[0m\u001b[0;34m.\u001b[0m\u001b[0m_stateless_fn\u001b[0m\u001b[0;34m(\u001b[0m\u001b[0;34m*\u001b[0m\u001b[0margs\u001b[0m\u001b[0;34m,\u001b[0m \u001b[0;34m**\u001b[0m\u001b[0mkwds\u001b[0m\u001b[0;34m)\u001b[0m  \u001b[0;31m# pylint: disable=not-callable\u001b[0m\u001b[0;34m\u001b[0m\u001b[0;34m\u001b[0m\u001b[0m\n\u001b[0m\u001b[1;32m    808\u001b[0m     \u001b[0;32melif\u001b[0m \u001b[0mself\u001b[0m\u001b[0;34m.\u001b[0m\u001b[0m_stateful_fn\u001b[0m \u001b[0;32mis\u001b[0m \u001b[0;32mnot\u001b[0m \u001b[0;32mNone\u001b[0m\u001b[0;34m:\u001b[0m\u001b[0;34m\u001b[0m\u001b[0;34m\u001b[0m\u001b[0m\n\u001b[1;32m    809\u001b[0m       \u001b[0;31m# Release the lock early so that multiple threads can perform the call\u001b[0m\u001b[0;34m\u001b[0m\u001b[0;34m\u001b[0m\u001b[0;34m\u001b[0m\u001b[0m\n",
            "\u001b[0;32m/usr/local/lib/python3.6/dist-packages/tensorflow/python/eager/function.py\u001b[0m in \u001b[0;36m__call__\u001b[0;34m(self, *args, **kwargs)\u001b[0m\n\u001b[1;32m   2827\u001b[0m     \u001b[0;32mwith\u001b[0m \u001b[0mself\u001b[0m\u001b[0;34m.\u001b[0m\u001b[0m_lock\u001b[0m\u001b[0;34m:\u001b[0m\u001b[0;34m\u001b[0m\u001b[0;34m\u001b[0m\u001b[0m\n\u001b[1;32m   2828\u001b[0m       \u001b[0mgraph_function\u001b[0m\u001b[0;34m,\u001b[0m \u001b[0margs\u001b[0m\u001b[0;34m,\u001b[0m \u001b[0mkwargs\u001b[0m \u001b[0;34m=\u001b[0m \u001b[0mself\u001b[0m\u001b[0;34m.\u001b[0m\u001b[0m_maybe_define_function\u001b[0m\u001b[0;34m(\u001b[0m\u001b[0margs\u001b[0m\u001b[0;34m,\u001b[0m \u001b[0mkwargs\u001b[0m\u001b[0;34m)\u001b[0m\u001b[0;34m\u001b[0m\u001b[0;34m\u001b[0m\u001b[0m\n\u001b[0;32m-> 2829\u001b[0;31m     \u001b[0;32mreturn\u001b[0m \u001b[0mgraph_function\u001b[0m\u001b[0;34m.\u001b[0m\u001b[0m_filtered_call\u001b[0m\u001b[0;34m(\u001b[0m\u001b[0margs\u001b[0m\u001b[0;34m,\u001b[0m \u001b[0mkwargs\u001b[0m\u001b[0;34m)\u001b[0m  \u001b[0;31m# pylint: disable=protected-access\u001b[0m\u001b[0;34m\u001b[0m\u001b[0;34m\u001b[0m\u001b[0m\n\u001b[0m\u001b[1;32m   2830\u001b[0m \u001b[0;34m\u001b[0m\u001b[0m\n\u001b[1;32m   2831\u001b[0m   \u001b[0;34m@\u001b[0m\u001b[0mproperty\u001b[0m\u001b[0;34m\u001b[0m\u001b[0;34m\u001b[0m\u001b[0m\n",
            "\u001b[0;32m/usr/local/lib/python3.6/dist-packages/tensorflow/python/eager/function.py\u001b[0m in \u001b[0;36m_filtered_call\u001b[0;34m(self, args, kwargs, cancellation_manager)\u001b[0m\n\u001b[1;32m   1846\u001b[0m                            resource_variable_ops.BaseResourceVariable))],\n\u001b[1;32m   1847\u001b[0m         \u001b[0mcaptured_inputs\u001b[0m\u001b[0;34m=\u001b[0m\u001b[0mself\u001b[0m\u001b[0;34m.\u001b[0m\u001b[0mcaptured_inputs\u001b[0m\u001b[0;34m,\u001b[0m\u001b[0;34m\u001b[0m\u001b[0;34m\u001b[0m\u001b[0m\n\u001b[0;32m-> 1848\u001b[0;31m         cancellation_manager=cancellation_manager)\n\u001b[0m\u001b[1;32m   1849\u001b[0m \u001b[0;34m\u001b[0m\u001b[0m\n\u001b[1;32m   1850\u001b[0m   \u001b[0;32mdef\u001b[0m \u001b[0m_call_flat\u001b[0m\u001b[0;34m(\u001b[0m\u001b[0mself\u001b[0m\u001b[0;34m,\u001b[0m \u001b[0margs\u001b[0m\u001b[0;34m,\u001b[0m \u001b[0mcaptured_inputs\u001b[0m\u001b[0;34m,\u001b[0m \u001b[0mcancellation_manager\u001b[0m\u001b[0;34m=\u001b[0m\u001b[0;32mNone\u001b[0m\u001b[0;34m)\u001b[0m\u001b[0;34m:\u001b[0m\u001b[0;34m\u001b[0m\u001b[0;34m\u001b[0m\u001b[0m\n",
            "\u001b[0;32m/usr/local/lib/python3.6/dist-packages/tensorflow/python/eager/function.py\u001b[0m in \u001b[0;36m_call_flat\u001b[0;34m(self, args, captured_inputs, cancellation_manager)\u001b[0m\n\u001b[1;32m   1922\u001b[0m       \u001b[0;31m# No tape is watching; skip to running the function.\u001b[0m\u001b[0;34m\u001b[0m\u001b[0;34m\u001b[0m\u001b[0;34m\u001b[0m\u001b[0m\n\u001b[1;32m   1923\u001b[0m       return self._build_call_outputs(self._inference_function.call(\n\u001b[0;32m-> 1924\u001b[0;31m           ctx, args, cancellation_manager=cancellation_manager))\n\u001b[0m\u001b[1;32m   1925\u001b[0m     forward_backward = self._select_forward_and_backward_functions(\n\u001b[1;32m   1926\u001b[0m         \u001b[0margs\u001b[0m\u001b[0;34m,\u001b[0m\u001b[0;34m\u001b[0m\u001b[0;34m\u001b[0m\u001b[0m\n",
            "\u001b[0;32m/usr/local/lib/python3.6/dist-packages/tensorflow/python/eager/function.py\u001b[0m in \u001b[0;36mcall\u001b[0;34m(self, ctx, args, cancellation_manager)\u001b[0m\n\u001b[1;32m    548\u001b[0m               \u001b[0minputs\u001b[0m\u001b[0;34m=\u001b[0m\u001b[0margs\u001b[0m\u001b[0;34m,\u001b[0m\u001b[0;34m\u001b[0m\u001b[0;34m\u001b[0m\u001b[0m\n\u001b[1;32m    549\u001b[0m               \u001b[0mattrs\u001b[0m\u001b[0;34m=\u001b[0m\u001b[0mattrs\u001b[0m\u001b[0;34m,\u001b[0m\u001b[0;34m\u001b[0m\u001b[0;34m\u001b[0m\u001b[0m\n\u001b[0;32m--> 550\u001b[0;31m               ctx=ctx)\n\u001b[0m\u001b[1;32m    551\u001b[0m         \u001b[0;32melse\u001b[0m\u001b[0;34m:\u001b[0m\u001b[0;34m\u001b[0m\u001b[0;34m\u001b[0m\u001b[0m\n\u001b[1;32m    552\u001b[0m           outputs = execute.execute_with_cancellation(\n",
            "\u001b[0;32m/usr/local/lib/python3.6/dist-packages/tensorflow/python/eager/execute.py\u001b[0m in \u001b[0;36mquick_execute\u001b[0;34m(op_name, num_outputs, inputs, attrs, ctx, name)\u001b[0m\n\u001b[1;32m     58\u001b[0m     \u001b[0mctx\u001b[0m\u001b[0;34m.\u001b[0m\u001b[0mensure_initialized\u001b[0m\u001b[0;34m(\u001b[0m\u001b[0;34m)\u001b[0m\u001b[0;34m\u001b[0m\u001b[0;34m\u001b[0m\u001b[0m\n\u001b[1;32m     59\u001b[0m     tensors = pywrap_tfe.TFE_Py_Execute(ctx._handle, device_name, op_name,\n\u001b[0;32m---> 60\u001b[0;31m                                         inputs, attrs, num_outputs)\n\u001b[0m\u001b[1;32m     61\u001b[0m   \u001b[0;32mexcept\u001b[0m \u001b[0mcore\u001b[0m\u001b[0;34m.\u001b[0m\u001b[0m_NotOkStatusException\u001b[0m \u001b[0;32mas\u001b[0m \u001b[0me\u001b[0m\u001b[0;34m:\u001b[0m\u001b[0;34m\u001b[0m\u001b[0;34m\u001b[0m\u001b[0m\n\u001b[1;32m     62\u001b[0m     \u001b[0;32mif\u001b[0m \u001b[0mname\u001b[0m \u001b[0;32mis\u001b[0m \u001b[0;32mnot\u001b[0m \u001b[0;32mNone\u001b[0m\u001b[0;34m:\u001b[0m\u001b[0;34m\u001b[0m\u001b[0;34m\u001b[0m\u001b[0m\n",
            "\u001b[0;31mKeyboardInterrupt\u001b[0m: "
          ]
        }
      ]
    },
    {
      "cell_type": "code",
      "metadata": {
        "id": "La8mxTmYD3X8"
      },
      "source": [
        "plot_graphs(history, 'loss')"
      ],
      "execution_count": null,
      "outputs": []
    },
    {
      "cell_type": "code",
      "metadata": {
        "id": "7U1VvHZy0CFr"
      },
      "source": [
        "plot_graphs(history, 'accuracy')"
      ],
      "execution_count": null,
      "outputs": []
    },
    {
      "cell_type": "code",
      "metadata": {
        "id": "GhrMTI1ZCyng"
      },
      "source": [
        "## HOW TO SAVE... for tf 2.3\n",
        "# checkpoint_path = os.path.join(DATA_OUT_PATH, model_name, 'my_BERT_model.h5')\n",
        "# checkpoint_dir = os.path.dirname(checkpoint_path)\n",
        "\n",
        "# if os.path.exists(checkpoint_dir):\n",
        "#     print(\"{} -- Folder already exists \\n\".format(checkpoint_dir))\n",
        "# else:\n",
        "#     os.makedirs(checkpoint_dir, exist_ok=True)\n",
        "#     print(\"{} -- Folder create complete \\n\".format(checkpoint_dir))\n",
        "\n",
        "# cls_model.save_weights(checkpoint_path)    \n"
      ],
      "execution_count": null,
      "outputs": []
    },
    {
      "cell_type": "markdown",
      "metadata": {
        "id": "ciGaYsBmL_Ue"
      },
      "source": [
        "## Testing for new sentences"
      ]
    },
    {
      "cell_type": "code",
      "metadata": {
        "id": "3pyAqjwxvoVd"
      },
      "source": [
        "## To load a best weights from a saved file (.h5)  ====> for tf 2.1\n",
        "# cls_model.load_weights(checkpoint_path)\n",
        "\n",
        "## To load a model file )  ====> for tf 2.3\n",
        "#new_model = tf.keras.models.load_model('my_model.h5')"
      ],
      "execution_count": null,
      "outputs": []
    },
    {
      "cell_type": "code",
      "metadata": {
        "id": "9EygcsV4OTYx",
        "outputId": "ec976c00-c7a4-4397-fc4e-065e31e7d2c9",
        "colab": {
          "base_uri": "https://localhost:8080/",
          "height": 459
        }
      },
      "source": [
        "# exchanging key and value\n",
        "label_to_class = {v:k for k,v in class_to_label.items()} \n",
        "label_to_class"
      ],
      "execution_count": 42,
      "outputs": [
        {
          "output_type": "execute_result",
          "data": {
            "text/plain": [
              "{0: 'DERM',\n",
              " 1: 'GS',\n",
              " 2: 'IP',\n",
              " 3: 'GI',\n",
              " 4: 'OPH',\n",
              " 5: 'NR',\n",
              " 6: 'ENT',\n",
              " 7: 'PSY',\n",
              " 8: 'HEON',\n",
              " 9: 'RHEU',\n",
              " 10: 'REHM',\n",
              " 11: 'NS',\n",
              " 12: 'AN',\n",
              " 13: 'DENT',\n",
              " 14: 'PS',\n",
              " 15: 'CS',\n",
              " 16: 'INFC',\n",
              " 17: 'OS',\n",
              " 18: 'EMR',\n",
              " 19: 'ENDO',\n",
              " 20: 'CA',\n",
              " 21: 'KTM',\n",
              " 22: 'OBGY',\n",
              " 23: 'URO',\n",
              " 24: 'ALL',\n",
              " 25: 'NPH'}"
            ]
          },
          "metadata": {
            "tags": []
          },
          "execution_count": 42
        }
      ]
    },
    {
      "cell_type": "code",
      "metadata": {
        "id": "vebSBlXTL_Ui"
      },
      "source": [
        "def specialty_predict(new_sentence):\n",
        "  input_id, attention_mask, token_type_id = bert_tokenizer(new_sentence, MAX_LEN)\n",
        "\n",
        "  new_symptom_input_id = np.array(input_id, dtype=int)\n",
        "  new_symptom_attention_mask = np.array(attention_mask, dtype=int)\n",
        "  new_symptom_type_id = np.array(token_type_id, dtype=int)\n",
        "  new_symptom_input = (new_symptom_input_id, new_symptom_attention_mask, new_symptom_type_id)\n",
        "\n",
        "  new_symptom_input = np.asarray(new_symptom_input)  \n",
        "  result = cls_model(new_symptom_input, training=False)   # Do not use model.predict.\n",
        "  output_id = result[0] \n",
        "  output_prob = tf.nn.softmax(output_id)    # To show the probability of the label(class)\n",
        "  y_label = tf.argmax(output_prob).numpy()\n",
        "  y_prob = output_prob[y_label]\n",
        "  y_class = label_to_class.get(y_label)\n",
        "\n",
        "  # y_output = cls_model.predict(new_symptom_input) ##Hugging face document에 따라 predict를 빼고 진행함.\n",
        "  # y_pred = y_output[0]  # The last hidden-state is the first element of the output tuple\n",
        "  # y_label = y_pred.argmax(axis=-1)\n",
        "  # y_prob = y_pred[y_label] \n",
        "  # y_class = label_to_class.get(y_label)  ### normalize가 필요한 것으로 생각됨. (softmax함수가 아님..)\n",
        "  # loss, acc_score = cls_model.evaluate(new_symptom_input)\n",
        "  \n",
        "  if(y_prob > 0.5):\n",
        "    print(\"{:.2f}% 확률로 {}과를 방문하셔야합니다.\\n\".format(y_prob * 100, y_class))\n",
        "  else:\n",
        "    print(\"증상을 좀 더 자세히 적어주세요.\")\n"
      ],
      "execution_count": 43,
      "outputs": []
    },
    {
      "cell_type": "code",
      "metadata": {
        "id": "vDBo00krrw0A",
        "outputId": "26f3b5ab-d55f-41d0-9ab2-83ea00b381de",
        "colab": {
          "base_uri": "https://localhost:8080/",
          "height": 105
        }
      },
      "source": [
        "input_sentence = \"통풍으로 엄지발가락이 부었어요\"\n",
        "specialty_predict(input_sentence)"
      ],
      "execution_count": 52,
      "outputs": [
        {
          "output_type": "stream",
          "text": [
            "77.14% 확률로 DERM과를 방문하셔야합니다.\n",
            "\n"
          ],
          "name": "stdout"
        },
        {
          "output_type": "stream",
          "text": [
            "/usr/local/lib/python3.6/dist-packages/transformers/tokenization_utils_base.py:1944: FutureWarning: The `pad_to_max_length` argument is deprecated and will be removed in a future version, use `padding=True` or `padding='longest'` to pad to the longest sequence in the batch, or use `padding='max_length'` to pad to a max length. In this case, you can give a specific length with `max_length` (e.g. `max_length=45`) or leave max_length to None to pad to the maximal input size of the model (e.g. 512 for Bert).\n",
            "  FutureWarning,\n"
          ],
          "name": "stderr"
        }
      ]
    },
    {
      "cell_type": "code",
      "metadata": {
        "id": "6ujlK3dQbcG7",
        "outputId": "1654e3b6-91e2-43e4-da61-41e5323123ab",
        "colab": {
          "base_uri": "https://localhost:8080/",
          "height": 105
        }
      },
      "source": [
        "input_sentence = \"잠이 너무 안와서 다음날 몽롱해요\"\n",
        "specialty_predict(input_sentence)"
      ],
      "execution_count": 45,
      "outputs": [
        {
          "output_type": "stream",
          "text": [
            "99.92% 확률로 PSY과를 방문하셔야합니다.\n",
            "\n"
          ],
          "name": "stdout"
        },
        {
          "output_type": "stream",
          "text": [
            "/usr/local/lib/python3.6/dist-packages/transformers/tokenization_utils_base.py:1944: FutureWarning: The `pad_to_max_length` argument is deprecated and will be removed in a future version, use `padding=True` or `padding='longest'` to pad to the longest sequence in the batch, or use `padding='max_length'` to pad to a max length. In this case, you can give a specific length with `max_length` (e.g. `max_length=45`) or leave max_length to None to pad to the maximal input size of the model (e.g. 512 for Bert).\n",
            "  FutureWarning,\n"
          ],
          "name": "stderr"
        }
      ]
    },
    {
      "cell_type": "code",
      "metadata": {
        "id": "o9gFndtobcaK",
        "outputId": "c5b6d2ed-67c2-4a40-acdc-f350ddffe81a",
        "colab": {
          "base_uri": "https://localhost:8080/",
          "height": 105
        }
      },
      "source": [
        "input_sentence = \"오래된 이명과 비염이 있어요\"\n",
        "specialty_predict(input_sentence)"
      ],
      "execution_count": 46,
      "outputs": [
        {
          "output_type": "stream",
          "text": [
            "/usr/local/lib/python3.6/dist-packages/transformers/tokenization_utils_base.py:1944: FutureWarning: The `pad_to_max_length` argument is deprecated and will be removed in a future version, use `padding=True` or `padding='longest'` to pad to the longest sequence in the batch, or use `padding='max_length'` to pad to a max length. In this case, you can give a specific length with `max_length` (e.g. `max_length=45`) or leave max_length to None to pad to the maximal input size of the model (e.g. 512 for Bert).\n",
            "  FutureWarning,\n"
          ],
          "name": "stderr"
        },
        {
          "output_type": "stream",
          "text": [
            "65.45% 확률로 ENT과를 방문하셔야합니다.\n",
            "\n"
          ],
          "name": "stdout"
        }
      ]
    },
    {
      "cell_type": "code",
      "metadata": {
        "id": "Sl3DcNhwbcoR",
        "outputId": "0faff72d-8c2e-4880-b2b8-1af154392253",
        "colab": {
          "base_uri": "https://localhost:8080/",
          "height": 105
        }
      },
      "source": [
        "input_sentence = \"뇌경색 이후에 어떤 운동을 하는게 좋은가요\"\n",
        "specialty_predict(input_sentence)"
      ],
      "execution_count": 47,
      "outputs": [
        {
          "output_type": "stream",
          "text": [
            "/usr/local/lib/python3.6/dist-packages/transformers/tokenization_utils_base.py:1944: FutureWarning: The `pad_to_max_length` argument is deprecated and will be removed in a future version, use `padding=True` or `padding='longest'` to pad to the longest sequence in the batch, or use `padding='max_length'` to pad to a max length. In this case, you can give a specific length with `max_length` (e.g. `max_length=45`) or leave max_length to None to pad to the maximal input size of the model (e.g. 512 for Bert).\n",
            "  FutureWarning,\n"
          ],
          "name": "stderr"
        },
        {
          "output_type": "stream",
          "text": [
            "57.81% 확률로 REHM과를 방문하셔야합니다.\n",
            "\n"
          ],
          "name": "stdout"
        }
      ]
    },
    {
      "cell_type": "code",
      "metadata": {
        "id": "frbgza-tbc9p",
        "outputId": "98c7bf72-62e8-42d9-e4bf-f033f395efc9",
        "colab": {
          "base_uri": "https://localhost:8080/",
          "height": 105
        }
      },
      "source": [
        "input_sentence = \"항문 주변이 따가워요\"\n",
        "specialty_predict(input_sentence)"
      ],
      "execution_count": 48,
      "outputs": [
        {
          "output_type": "stream",
          "text": [
            "/usr/local/lib/python3.6/dist-packages/transformers/tokenization_utils_base.py:1944: FutureWarning: The `pad_to_max_length` argument is deprecated and will be removed in a future version, use `padding=True` or `padding='longest'` to pad to the longest sequence in the batch, or use `padding='max_length'` to pad to a max length. In this case, you can give a specific length with `max_length` (e.g. `max_length=45`) or leave max_length to None to pad to the maximal input size of the model (e.g. 512 for Bert).\n",
            "  FutureWarning,\n"
          ],
          "name": "stderr"
        },
        {
          "output_type": "stream",
          "text": [
            "96.29% 확률로 GS과를 방문하셔야합니다.\n",
            "\n"
          ],
          "name": "stdout"
        }
      ]
    },
    {
      "cell_type": "code",
      "metadata": {
        "id": "e2I4-4WVJuPX"
      },
      "source": [
        "# 2000개까지 정리: val_acc = 0.6608\n",
        "# 20571개까지 정리: val_acc = 0.6671"
      ],
      "execution_count": 49,
      "outputs": []
    },
    {
      "cell_type": "code",
      "metadata": {
        "id": "OISfXtrW6AeJ"
      },
      "source": [
        " # keras 2.1의 predict나 evaluate에 문제가 있거나..아니면 데이터 부족의 문제인듯.\n",
        "# 아무리 심한 Overfit이라고해도 acc 0.00은...\n",
        "## 어떤 sentence를 입력해도 5번 신경과나 나옴... 어떻게 학습되냐에 따라 과가 결정되어져 버림..\n",
        "\n",
        "#   # w_count= {}\n",
        "  # # for lb in y_label:\n",
        "  # #     try: w_count[lb]+= 1\n",
        "  # #     except: w_count[lb]=1\n",
        "  # # print(w_count)"
      ],
      "execution_count": 50,
      "outputs": []
    },
    {
      "cell_type": "code",
      "metadata": {
        "id": "FjHZ1GMFJs7P"
      },
      "source": [
        "#imbalanced data... focal loss OR weighted cross entropy OR class_weight arguement in model.fit.   \n",
        "## focal loss: https://3months.tistory.com/414"
      ],
      "execution_count": null,
      "outputs": []
    },
    {
      "cell_type": "code",
      "metadata": {
        "id": "k0LPQJDpbZ-0"
      },
      "source": [
        "\n"
      ],
      "execution_count": null,
      "outputs": []
    }
  ]
}