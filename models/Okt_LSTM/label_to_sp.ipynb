{
  "nbformat": 4,
  "nbformat_minor": 0,
  "metadata": {
    "colab": {
      "name": "label_to_sp.ipynb",
      "provenance": []
    },
    "kernelspec": {
      "name": "python3",
      "display_name": "Python 3"
    }
  },
  "cells": [
    {
      "cell_type": "code",
      "metadata": {
        "id": "TVz34IOb4754",
        "outputId": "6342e503-85de-4f34-9450-fa7a72a0e2d3",
        "colab": {
          "base_uri": "https://localhost:8080/",
          "height": 503
        }
      },
      "source": [
        "# DERM: 피부과 / GS: 외과 / IP: 호흡기내과 / GI: 소화기내과 / OPH: 안과\n",
        "# NR: 신경과 / ENT: 이비인후과 / PSY : 신경정신과 / HEON: 혈액종양내과 / RHEU: 류마티스내과\n",
        "# REHM: 재활의학과 / NS: 신경외과 / AN: 마취통증의학과 / DENT: 치과 / PS: 성형외과\n",
        "# CS: 흉부외과 / INFC: 감염내과 / OS: 정형외과 \n",
        "# EMR: 응급의학과 / ENDO: 내분비내과 / CA: 순환기내과 / KTM: 한방과 / OBGY: 산부인과\n",
        "# URO: 비뇨기과 / ALL: 알레르기 내과 / NPH: 신장내과\n",
        "\n",
        "class_to_label = {'DERM': 0, 'GS': 1, 'IP': 2, 'GI':3, 'OPH':4,\n",
        "                'NR': 5, 'ENT': 6, 'PSY': 7, 'HEON': 8, 'RHEU': 9,\n",
        "                'REHM': 10, 'NS': 11, 'AN': 12, 'DENT': 13, 'PS': 14,\n",
        "                'CS': 15, 'INFC': 16, 'OS': 17,\n",
        "                'EMR': 18, 'ENDO': 19, 'CA': 20, 'KTM': 21, 'OBGY': 22,\n",
        "                'URO': 23, 'ALL': 24, 'NPH': 25}\n",
        "sps = '피부과 외과 호흡기내과 소화기내과 안과 신경과 이비인후과 신경정신과 혈액종양내과 류마티스내과 재활의학과 신경외과 마취통증의학과 치과 성형외과 흉부외과 감염내과 정형외과 응급의학과 내분비내과 순환기내과 한방과 산부인과 비뇨기과 알레르기내과 신장내과'\n",
        "sp = sps.split()\n",
        "sp, len(sp)"
      ],
      "execution_count": 2,
      "outputs": [
        {
          "output_type": "execute_result",
          "data": {
            "text/plain": [
              "(['피부과',\n",
              "  '외과',\n",
              "  '호흡기내과',\n",
              "  '소화기내과',\n",
              "  '안과',\n",
              "  '신경과',\n",
              "  '이비인후과',\n",
              "  '신경정신과',\n",
              "  '혈액종양내과',\n",
              "  '류마티스내과',\n",
              "  '재활의학과',\n",
              "  '신경외과',\n",
              "  '마취통증의학과',\n",
              "  '치과',\n",
              "  '성형외과',\n",
              "  '흉부외과',\n",
              "  '감염내과',\n",
              "  '정형외과',\n",
              "  '응급의학과',\n",
              "  '내분비내과',\n",
              "  '순환기내과',\n",
              "  '한방과',\n",
              "  '산부인과',\n",
              "  '비뇨기과',\n",
              "  '알레르기내과',\n",
              "  '신장내과'],\n",
              " 26)"
            ]
          },
          "metadata": {
            "tags": []
          },
          "execution_count": 2
        }
      ]
    },
    {
      "cell_type": "code",
      "metadata": {
        "id": "GSz4ZpFv50_i",
        "outputId": "40f79002-ddca-4b74-8176-ca6521ecebac",
        "colab": {
          "base_uri": "https://localhost:8080/",
          "height": 485
        }
      },
      "source": [
        "dic = {}\n",
        "for i, where in enumerate(sp):\n",
        "    dic[i] = where\n",
        "dic "
      ],
      "execution_count": 3,
      "outputs": [
        {
          "output_type": "execute_result",
          "data": {
            "text/plain": [
              "{0: '피부과',\n",
              " 1: '외과',\n",
              " 2: '호흡기내과',\n",
              " 3: '소화기내과',\n",
              " 4: '안과',\n",
              " 5: '신경과',\n",
              " 6: '이비인후과',\n",
              " 7: '신경정신과',\n",
              " 8: '혈액종양내과',\n",
              " 9: '류마티스내과',\n",
              " 10: '재활의학과',\n",
              " 11: '신경외과',\n",
              " 12: '마취통증의학과',\n",
              " 13: '치과',\n",
              " 14: '성형외과',\n",
              " 15: '흉부외과',\n",
              " 16: '감염내과',\n",
              " 17: '정형외과',\n",
              " 18: '응급의학과',\n",
              " 19: '내분비내과',\n",
              " 20: '순환기내과',\n",
              " 21: '한방과',\n",
              " 22: '산부인과',\n",
              " 23: '비뇨기과',\n",
              " 24: '알레르기내과',\n",
              " 25: '신장내과'}"
            ]
          },
          "metadata": {
            "tags": []
          },
          "execution_count": 3
        }
      ]
    },
    {
      "cell_type": "code",
      "metadata": {
        "id": "NObeKAHW6HxI"
      },
      "source": [
        ""
      ],
      "execution_count": null,
      "outputs": []
    }
  ]
}