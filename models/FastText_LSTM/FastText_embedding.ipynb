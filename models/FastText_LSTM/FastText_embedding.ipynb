{
  "nbformat": 4,
  "nbformat_minor": 0,
  "metadata": {
    "kernelspec": {
      "display_name": "Python 3",
      "language": "python",
      "name": "python3"
    },
    "language_info": {
      "codemirror_mode": {
        "name": "ipython",
        "version": 3
      },
      "file_extension": ".py",
      "mimetype": "text/x-python",
      "name": "python",
      "nbconvert_exporter": "python",
      "pygments_lexer": "ipython3",
      "version": "3.6.8"
    },
    "pycharm": {
      "stem_cell": {
        "cell_type": "raw",
        "metadata": {
          "collapsed": false
        },
        "source": []
      }
    },
    "colab": {
      "name": "Q2Q_FastText.ipynb",
      "provenance": [],
      "collapsed_sections": [],
      "toc_visible": true
    },
    "accelerator": "GPU"
  },
  "cells": [
    {
      "cell_type": "markdown",
      "metadata": {
        "id": "7yDz-z2xOttO"
      },
      "source": [
        "## 1. EDA"
      ]
    },
    {
      "cell_type": "code",
      "metadata": {
        "id": "QkYqRRxePBrs",
        "outputId": "db3988a4-2e32-4e47-d036-1087048cbfb9",
        "colab": {
          "base_uri": "https://localhost:8080/"
        }
      },
      "source": [
        "from google.colab import drive\n",
        "drive.mount('/content/drive')"
      ],
      "execution_count": 1,
      "outputs": [
        {
          "output_type": "stream",
          "text": [
            "Mounted at /content/drive\n"
          ],
          "name": "stdout"
        }
      ]
    },
    {
      "cell_type": "code",
      "metadata": {
        "pycharm": {
          "is_executing": false
        },
        "id": "-g4iLcZ6OttQ"
      },
      "source": [
        "import numpy as np \n",
        "import pandas as pd\n",
        "import sklearn \n",
        "from sklearn import model_selection\n",
        "import os\n",
        "import matplotlib.pyplot as plt\n",
        "import seaborn as sns\n",
        "from wordcloud import WordCloud\n",
        "%matplotlib inline"
      ],
      "execution_count": 2,
      "outputs": []
    },
    {
      "cell_type": "code",
      "metadata": {
        "id": "dKe3Ps53RQWS"
      },
      "source": [
        "# randsom seed\n",
        "seed=1234\n",
        "np.random.seed(seed)"
      ],
      "execution_count": 3,
      "outputs": []
    },
    {
      "cell_type": "code",
      "metadata": {
        "id": "ikYl6zF_Z4tF"
      },
      "source": [
        "num_classes=26"
      ],
      "execution_count": 4,
      "outputs": []
    },
    {
      "cell_type": "code",
      "metadata": {
        "pycharm": {
          "is_executing": false
        },
        "id": "iuwiWb5sOttT"
      },
      "source": [
        "DATA_IN_PATH = '/content/drive/My Drive/DataCollection/OSAM/'"
      ],
      "execution_count": 5,
      "outputs": []
    },
    {
      "cell_type": "code",
      "metadata": {
        "pycharm": {
          "is_executing": false
        },
        "id": "2bD6dyZdOttW",
        "outputId": "3ee0c26c-66e2-42f6-9572-20229fd614dd",
        "colab": {
          "base_uri": "https://localhost:8080/"
        }
      },
      "source": [
        "print(\"파일 크기 : \")\n",
        "for file in os.listdir(DATA_IN_PATH):\n",
        "    if 'csv' in file :\n",
        "        print(file.ljust(30) + str(round(os.path.getsize(DATA_IN_PATH + file) / 1000000, 2)) + 'MB')"
      ],
      "execution_count": 6,
      "outputs": [
        {
          "output_type": "stream",
          "text": [
            "파일 크기 : \n",
            "combined.csv                  6.62MB\n",
            "combined_dup(-2000).csv       4.55MB\n",
            "combined_clean(-2300).csv     4.51MB\n",
            "combined_clean(6000)_sam.csv  3.98MB\n",
            "OSAM33000.csv                 3.95MB\n",
            "OSAM39800.csv                 3.93MB\n",
            "OSAM42111.csv                 3.87MB\n",
            "OSAM51135.csv                 2.9MB\n"
          ],
          "name": "stdout"
        }
      ]
    },
    {
      "cell_type": "code",
      "metadata": {
        "id": "QVXwU5ySQrqy",
        "outputId": "fa73c42a-3de7-418b-a01d-6cf1fe944331",
        "colab": {
          "base_uri": "https://localhost:8080/",
          "height": 204
        }
      },
      "source": [
        "#loading csv data\n",
        "all_data = pd.read_csv(DATA_IN_PATH + 'OSAM51135.csv', quoting = 2)\n",
        "all_data.head()"
      ],
      "execution_count": 7,
      "outputs": [
        {
          "output_type": "execute_result",
          "data": {
            "text/html": [
              "<div>\n",
              "<style scoped>\n",
              "    .dataframe tbody tr th:only-of-type {\n",
              "        vertical-align: middle;\n",
              "    }\n",
              "\n",
              "    .dataframe tbody tr th {\n",
              "        vertical-align: top;\n",
              "    }\n",
              "\n",
              "    .dataframe thead th {\n",
              "        text-align: right;\n",
              "    }\n",
              "</style>\n",
              "<table border=\"1\" class=\"dataframe\">\n",
              "  <thead>\n",
              "    <tr style=\"text-align: right;\">\n",
              "      <th></th>\n",
              "      <th>symptom</th>\n",
              "      <th>class</th>\n",
              "    </tr>\n",
              "  </thead>\n",
              "  <tbody>\n",
              "    <tr>\n",
              "      <th>0</th>\n",
              "      <td>질문하겠습니다. 이어폰을 음량을 0으로 하고 끼고만 있어도 귀에 안 좋나요?</td>\n",
              "      <td>ENT</td>\n",
              "    </tr>\n",
              "    <tr>\n",
              "      <th>1</th>\n",
              "      <td>독감예방주사</td>\n",
              "      <td>IP</td>\n",
              "    </tr>\n",
              "    <tr>\n",
              "      <th>2</th>\n",
              "      <td>목에 음식물 그대로 끼어서 계속 이물감이 있습니다</td>\n",
              "      <td>ENT</td>\n",
              "    </tr>\n",
              "    <tr>\n",
              "      <th>3</th>\n",
              "      <td>케겔운동 궁금한것</td>\n",
              "      <td>REHM</td>\n",
              "    </tr>\n",
              "    <tr>\n",
              "      <th>4</th>\n",
              "      <td>등 통증 관련문의</td>\n",
              "      <td>NS</td>\n",
              "    </tr>\n",
              "  </tbody>\n",
              "</table>\n",
              "</div>"
            ],
            "text/plain": [
              "                                      symptom class\n",
              "0  질문하겠습니다. 이어폰을 음량을 0으로 하고 끼고만 있어도 귀에 안 좋나요?   ENT\n",
              "1                                      독감예방주사    IP\n",
              "2                 목에 음식물 그대로 끼어서 계속 이물감이 있습니다   ENT\n",
              "3                                   케겔운동 궁금한것  REHM\n",
              "4                                   등 통증 관련문의    NS"
            ]
          },
          "metadata": {
            "tags": []
          },
          "execution_count": 7
        }
      ]
    },
    {
      "cell_type": "code",
      "metadata": {
        "id": "YijzGlUvQ7qw",
        "outputId": "7a0bdcbb-8d38-4677-f35f-1c77fbfbd512",
        "colab": {
          "base_uri": "https://localhost:8080/"
        }
      },
      "source": [
        "# all_data의 전체 길이\n",
        "len(all_data)"
      ],
      "execution_count": 8,
      "outputs": [
        {
          "output_type": "execute_result",
          "data": {
            "text/plain": [
              "51134"
            ]
          },
          "metadata": {
            "tags": []
          },
          "execution_count": 8
        }
      ]
    },
    {
      "cell_type": "code",
      "metadata": {
        "id": "ViZsnvi3VB68"
      },
      "source": [
        "#stratififed split to train_data, test_data\n",
        "from sklearn.model_selection import StratifiedShuffleSplit\n",
        "\n",
        "split = StratifiedShuffleSplit(n_splits=1, test_size=0.2, random_state=seed)\n",
        "\n",
        "for train_idx, test_idx in split.split(all_data, all_data[\"class\"]):\n",
        "    train_data = all_data.loc[train_idx]\n",
        "    test_data = all_data.loc[test_idx]"
      ],
      "execution_count": 9,
      "outputs": []
    },
    {
      "cell_type": "code",
      "metadata": {
        "pycharm": {
          "is_executing": false
        },
        "id": "ZYjVSSndOttc",
        "outputId": "39b5c989-abb5-449b-e72c-f0f6cdd6b745",
        "colab": {
          "base_uri": "https://localhost:8080/"
        }
      },
      "source": [
        "print('전체 학습데이터의 개수: {}'.format(len(train_data)))\n",
        "print('전체 학습데이터의 개수: {}'.format(len(test_data)))"
      ],
      "execution_count": 10,
      "outputs": [
        {
          "output_type": "stream",
          "text": [
            "전체 학습데이터의 개수: 40907\n",
            "전체 학습데이터의 개수: 10227\n"
          ],
          "name": "stdout"
        }
      ]
    },
    {
      "cell_type": "code",
      "metadata": {
        "pycharm": {
          "is_executing": false
        },
        "id": "cBkv_j7iOttf"
      },
      "source": [
        "train_length = train_data['symptom'].astype(str).apply(len)"
      ],
      "execution_count": 11,
      "outputs": []
    },
    {
      "cell_type": "code",
      "metadata": {
        "pycharm": {
          "is_executing": false
        },
        "id": "lj0T4cRyOtth",
        "outputId": "e6eeaf24-3971-46c8-eddb-795b5ee3e98f",
        "colab": {
          "base_uri": "https://localhost:8080/"
        }
      },
      "source": [
        "train_length.head()"
      ],
      "execution_count": 12,
      "outputs": [
        {
          "output_type": "execute_result",
          "data": {
            "text/plain": [
              "18266    50\n",
              "21585    14\n",
              "33379    14\n",
              "781      12\n",
              "681      12\n",
              "Name: symptom, dtype: int64"
            ]
          },
          "metadata": {
            "tags": []
          },
          "execution_count": 12
        }
      ]
    },
    {
      "cell_type": "code",
      "metadata": {
        "pycharm": {
          "is_executing": false
        },
        "id": "aIzKM-8DOttk",
        "outputId": "3f273af4-bcce-4516-90d7-6bba1cefcc93",
        "colab": {
          "base_uri": "https://localhost:8080/",
          "height": 367
        }
      },
      "source": [
        "# 그래프에 대한 이미지 사이즈 선언\n",
        "# figsize: (가로, 세로) 형태의 튜플로 입력\n",
        "plt.figure(figsize=(12, 5))\n",
        "# 히스토그램 선언\n",
        "# bins: 히스토그램 값들에 대한 버켓 범위\n",
        "# range: x축 값의 범위\n",
        "# alpha: 그래프 색상 투명도\n",
        "# color: 그래프 색상\n",
        "# label: 그래프에 대한 라벨\n",
        "plt.hist(train_length, bins=200, alpha=0.5, color= 'r', label='word')\n",
        "plt.yscale('log', nonposy='clip')\n",
        "# 그래프 제목\n",
        "plt.title('Log-Histogram of length of symptom')\n",
        "# 그래프 x 축 라벨\n",
        "plt.xlabel('Length of symptom')\n",
        "# 그래프 y 축 라벨\n",
        "plt.ylabel('Number of symptom')"
      ],
      "execution_count": 13,
      "outputs": [
        {
          "output_type": "execute_result",
          "data": {
            "text/plain": [
              "Text(0, 0.5, 'Number of symptom')"
            ]
          },
          "metadata": {
            "tags": []
          },
          "execution_count": 13
        },
        {
          "output_type": "display_data",
          "data": {
            "image/png": "[encoded data removed]",
            "text/plain": [
              "<Figure size 864x360 with 1 Axes>"
            ]
          },
          "metadata": {
            "tags": [],
            "needs_background": "light"
          }
        }
      ]
    },
    {
      "cell_type": "code",
      "metadata": {
        "pycharm": {
          "is_executing": false
        },
        "id": "aj9sdLCIOttp",
        "outputId": "e8995488-4360-4250-9a88-7e00cff61b3b",
        "colab": {
          "base_uri": "https://localhost:8080/"
        }
      },
      "source": [
        "print('증상 길이 최대 값: {}'.format(np.max(train_length)))\n",
        "print('증상 길이 최소 값: {}'.format(np.min(train_length)))\n",
        "print('증상 길이 평균 값: {:.2f}'.format(np.mean(train_length)))\n",
        "print('증상 길이 표준편차: {:.2f}'.format(np.std(train_length)))\n",
        "print('증상 길이 중간 값: {}'.format(np.median(train_length)))\n",
        "# 사분위의 대한 경우는 0~100 스케일로 되어있음\n",
        "print('증상 길이 제 1 사분위: {}'.format(np.percentile(train_length, 25)))\n",
        "print('증상 길이 제 3 사분위: {}'.format(np.percentile(train_length, 75)))"
      ],
      "execution_count": 14,
      "outputs": [
        {
          "output_type": "stream",
          "text": [
            "증상 길이 최대 값: 156\n",
            "증상 길이 최소 값: 1\n",
            "증상 길이 평균 값: 20.14\n",
            "증상 길이 표준편차: 11.03\n",
            "증상 길이 중간 값: 18.0\n",
            "증상 길이 제 1 사분위: 12.0\n",
            "증상 길이 제 3 사분위: 27.0\n"
          ],
          "name": "stdout"
        }
      ]
    },
    {
      "cell_type": "code",
      "metadata": {
        "pycharm": {
          "is_executing": false
        },
        "id": "ONRYrEiPOttr",
        "outputId": "688dc9ac-9c3f-41f6-ecc1-1e61dc1598ac",
        "colab": {
          "base_uri": "https://localhost:8080/",
          "height": 456
        }
      },
      "source": [
        "plt.figure(figsize=(12, 5))\n",
        "# 박스플롯 생성\n",
        "# 첫번째 파라메터: 여러 분포에 대한 데이터 리스트를 입력\n",
        "# labels: 입력한 데이터에 대한 라벨\n",
        "# showmeans: 평균값을 마크함\n",
        "\n",
        "plt.boxplot(train_length,\n",
        "             labels=['counts'],\n",
        "             showmeans=True)"
      ],
      "execution_count": 15,
      "outputs": [
        {
          "output_type": "execute_result",
          "data": {
            "text/plain": [
              "{'boxes': [<matplotlib.lines.Line2D at 0x7f8aa75792e8>],\n",
              " 'caps': [<matplotlib.lines.Line2D at 0x7f8aa7579cf8>,\n",
              "  <matplotlib.lines.Line2D at 0x7f8aa75830b8>],\n",
              " 'fliers': [<matplotlib.lines.Line2D at 0x7f8aa7583b00>],\n",
              " 'means': [<matplotlib.lines.Line2D at 0x7f8aa75837b8>],\n",
              " 'medians': [<matplotlib.lines.Line2D at 0x7f8aa7583438>],\n",
              " 'whiskers': [<matplotlib.lines.Line2D at 0x7f8aa75795f8>,\n",
              "  <matplotlib.lines.Line2D at 0x7f8aa7579978>]}"
            ]
          },
          "metadata": {
            "tags": []
          },
          "execution_count": 15
        },
        {
          "output_type": "display_data",
          "data": {
            "image/png": "[encoded data removed]",
            "text/plain": [
              "<Figure size 864x360 with 1 Axes>"
            ]
          },
          "metadata": {
            "tags": [],
            "needs_background": "light"
          }
        }
      ]
    },
    {
      "cell_type": "code",
      "metadata": {
        "pycharm": {
          "is_executing": false
        },
        "id": "XH2S7EVuOttu"
      },
      "source": [
        "# 보통은 문자열이 아닌 데이터는 삭제하나, 증상의 경우 발열, 체중 등과 같은 내용이 중요하므로 숫자도 살려둔다.\n",
        "train_symptom = [symptom for symptom in train_data['symptom'] if type(symptom) is (str or int or float)]"
      ],
      "execution_count": 16,
      "outputs": []
    },
    {
      "cell_type": "code",
      "metadata": {
        "pycharm": {
          "is_executing": false
        },
        "id": "M-0Fv2mtOttz",
        "outputId": "d7397d38-5168-490d-820f-011e8f4cfab1",
        "colab": {
          "base_uri": "https://localhost:8080/",
          "height": 268
        }
      },
      "source": [
        "fig, axe = plt.subplots(ncols=1)\n",
        "fig.set_size_inches(20, 3)\n",
        "sns.countplot(train_data['class'])"
      ],
      "execution_count": 17,
      "outputs": [
        {
          "output_type": "stream",
          "text": [
            "/usr/local/lib/python3.6/dist-packages/seaborn/_decorators.py:43: FutureWarning: Pass the following variable as a keyword arg: x. From version 0.12, the only valid positional argument will be `data`, and passing other arguments without an explicit keyword will result in an error or misinterpretation.\n",
            "  FutureWarning\n"
          ],
          "name": "stderr"
        },
        {
          "output_type": "execute_result",
          "data": {
            "text/plain": [
              "<matplotlib.axes._subplots.AxesSubplot at 0x7f8aa7535e80>"
            ]
          },
          "metadata": {
            "tags": []
          },
          "execution_count": 17
        },
        {
          "output_type": "display_data",
          "data": {
            "image/png": "[encoded data removed]",
            "text/plain": [
              "<Figure size 1440x216 with 1 Axes>"
            ]
          },
          "metadata": {
            "tags": [],
            "needs_background": "light"
          }
        }
      ]
    },
    {
      "cell_type": "code",
      "metadata": {
        "id": "dm7YB7_foxpq"
      },
      "source": [
        "# DERM: 피부과 / GS: 외과 / IP: 호흡기내과 / FM: 가정의학과 / GI: 소화기내과 / OPH: 안과\n",
        "# NR: 신경과 / ENT: 이비인후과 / PSY : 신경정신과 / HEON: 혈액종양내과 / RHEU: 류마티스내과\n",
        "# REHM: 재활의학과 / NS: 신경외과 / AN: 마취통증의학과 / DENT: 치과 / PS: 성형외과\n",
        "# RAD: 영상의학과 / CS: 흉부외과 / INFC: 감염내과 / RAON: 방사선종양학과 / OS: 정형외과 \n",
        "# EMR: 응급의학과 / ENDO: 내분비내과 / CA: 순환기내과 / KTM: 한방과 / OBGY: 산부인과\n",
        "# URO: 비뇨기과 / ALL: 알레르기 내과 / NPH: 신장내과 / OEM:직업환경의학과 / COAN: 대장항문외과\n",
        "# LAB: 진단검사의학과 "
      ],
      "execution_count": 18,
      "outputs": []
    },
    {
      "cell_type": "code",
      "metadata": {
        "id": "xebYAPY8tVri",
        "outputId": "ab64953a-0adf-44de-bd8d-bc430e059632",
        "colab": {
          "base_uri": "https://localhost:8080/",
          "height": 204
        }
      },
      "source": [
        "# convert class from string to integer\n",
        "class_to_label = {'DERM': 0, 'GS': 1, 'IP': 2, 'GI':3, 'OPH':4,\n",
        "                  'NR': 5, 'ENT': 6, 'PSY': 7, 'HEON': 8, 'RHEU': 9,\n",
        "                  'REHM': 10, 'NS': 11, 'AN': 12, 'DENT': 13, 'PS': 14,\n",
        "                  'CS': 15, 'INFC': 16, 'OS': 17,\n",
        "                  'EMR': 18, 'ENDO': 19, 'CA': 20, 'KTM': 21, 'OBGY': 22,\n",
        "                  'URO': 23, 'ALL': 24, 'NPH': 25}\n",
        "\n",
        "train_data['label'] = train_data['class'].map(class_to_label)\n",
        "test_data['label'] = test_data['class'].map(class_to_label)\n",
        "train_data.head()"
      ],
      "execution_count": 19,
      "outputs": [
        {
          "output_type": "execute_result",
          "data": {
            "text/html": [
              "<div>\n",
              "<style scoped>\n",
              "    .dataframe tbody tr th:only-of-type {\n",
              "        vertical-align: middle;\n",
              "    }\n",
              "\n",
              "    .dataframe tbody tr th {\n",
              "        vertical-align: top;\n",
              "    }\n",
              "\n",
              "    .dataframe thead th {\n",
              "        text-align: right;\n",
              "    }\n",
              "</style>\n",
              "<table border=\"1\" class=\"dataframe\">\n",
              "  <thead>\n",
              "    <tr style=\"text-align: right;\">\n",
              "      <th></th>\n",
              "      <th>symptom</th>\n",
              "      <th>class</th>\n",
              "      <th>label</th>\n",
              "    </tr>\n",
              "  </thead>\n",
              "  <tbody>\n",
              "    <tr>\n",
              "      <th>18266</th>\n",
              "      <td>4번 요추 디스크가 있고 엉덩이와 종아리 통증이 있는데.  어떤 치료를  받아야  ...</td>\n",
              "      <td>NS</td>\n",
              "      <td>11</td>\n",
              "    </tr>\n",
              "    <tr>\n",
              "      <th>21585</th>\n",
              "      <td>왼쪽 팔 통증과 저림 증상</td>\n",
              "      <td>NR</td>\n",
              "      <td>5</td>\n",
              "    </tr>\n",
              "    <tr>\n",
              "      <th>33379</th>\n",
              "      <td>발바닥 갈색 반점 뭔가요?</td>\n",
              "      <td>DERM</td>\n",
              "      <td>0</td>\n",
              "    </tr>\n",
              "    <tr>\n",
              "      <th>781</th>\n",
              "      <td>요가 운동할때 위 신물</td>\n",
              "      <td>GI</td>\n",
              "      <td>3</td>\n",
              "    </tr>\n",
              "    <tr>\n",
              "      <th>681</th>\n",
              "      <td>이유없이 흉부가 아파요</td>\n",
              "      <td>CA</td>\n",
              "      <td>20</td>\n",
              "    </tr>\n",
              "  </tbody>\n",
              "</table>\n",
              "</div>"
            ],
            "text/plain": [
              "                                                 symptom class  label\n",
              "18266  4번 요추 디스크가 있고 엉덩이와 종아리 통증이 있는데.  어떤 치료를  받아야  ...    NS     11\n",
              "21585                                     왼쪽 팔 통증과 저림 증상    NR      5\n",
              "33379                                     발바닥 갈색 반점 뭔가요?  DERM      0\n",
              "781                                         요가 운동할때 위 신물    GI      3\n",
              "681                                         이유없이 흉부가 아파요    CA     20"
            ]
          },
          "metadata": {
            "tags": []
          },
          "execution_count": 19
        }
      ]
    },
    {
      "cell_type": "code",
      "metadata": {
        "pycharm": {
          "is_executing": false
        },
        "id": "Qp8FFTGtOtt1",
        "outputId": "b8fa1505-738f-485a-c70b-c4e512428bc3",
        "colab": {
          "base_uri": "https://localhost:8080/"
        }
      },
      "source": [
        "# severe imbalenced data가 확인되지만 real-world로 반영한다고 생각하고 그대로 진행한다.\n",
        "# 단, FM(가정의학과)의 비중이 너무 높고 오히려 OS 비중이 낮은 것은 본 프로젝트가 군인 대상인 점을 감안하여 조정이 필요할 것 같다.\n",
        "for i in range(num_classes):\n",
        "  print(\"증상 개수: {}\".format(train_data['class'].value_counts()[i]))"
      ],
      "execution_count": 20,
      "outputs": [
        {
          "output_type": "stream",
          "text": [
            "증상 개수: 8138\n",
            "증상 개수: 4923\n",
            "증상 개수: 4064\n",
            "증상 개수: 2902\n",
            "증상 개수: 2477\n",
            "증상 개수: 2452\n",
            "증상 개수: 2282\n",
            "증상 개수: 1622\n",
            "증상 개수: 1547\n",
            "증상 개수: 1312\n",
            "증상 개수: 1067\n",
            "증상 개수: 1034\n",
            "증상 개수: 982\n",
            "증상 개수: 936\n",
            "증상 개수: 892\n",
            "증상 개수: 880\n",
            "증상 개수: 776\n",
            "증상 개수: 570\n",
            "증상 개수: 523\n",
            "증상 개수: 417\n",
            "증상 개수: 334\n",
            "증상 개수: 226\n",
            "증상 개수: 218\n",
            "증상 개수: 182\n",
            "증상 개수: 94\n",
            "증상 개수: 57\n"
          ],
          "name": "stdout"
        }
      ]
    },
    {
      "cell_type": "code",
      "metadata": {
        "pycharm": {
          "is_executing": false
        },
        "id": "TjeHWcoZOtt3"
      },
      "source": [
        "# 각 증상 서술의 단어 수를 확인.\n",
        "# 데이터를 띄어쓰기 기준으로 나눠서 그 개수를 하나의 변수로 할당한다.\n",
        "train_word_counts = train_data['symptom'].astype(str).apply(lambda x:len(x.split(' ')))"
      ],
      "execution_count": 21,
      "outputs": []
    },
    {
      "cell_type": "code",
      "metadata": {
        "pycharm": {
          "is_executing": false
        },
        "id": "B7NsExhPOtt5",
        "outputId": "b02436a3-84d4-4ba7-8f79-bf6559fc8946",
        "colab": {
          "base_uri": "https://localhost:8080/",
          "height": 645
        }
      },
      "source": [
        "plt.figure(figsize=(15, 10))\n",
        "plt.hist(train_word_counts, bins=50, facecolor='r',label='train')\n",
        "plt.title('Log-Histogram of word count in symptom', fontsize=15)\n",
        "plt.yscale('log', nonposy='clip')\n",
        "plt.legend()\n",
        "plt.xlabel('Number of symptom', fontsize=15)\n",
        "plt.ylabel('Number of symptom', fontsize=15)"
      ],
      "execution_count": 22,
      "outputs": [
        {
          "output_type": "execute_result",
          "data": {
            "text/plain": [
              "Text(0, 0.5, 'Number of symptom')"
            ]
          },
          "metadata": {
            "tags": []
          },
          "execution_count": 22
        },
        {
          "output_type": "display_data",
          "data": {
            "image/png": "[encoded data removed]",
            "text/plain": [
              "<Figure size 1080x720 with 1 Axes>"
            ]
          },
          "metadata": {
            "tags": [],
            "needs_background": "light"
          }
        }
      ]
    },
    {
      "cell_type": "code",
      "metadata": {
        "pycharm": {
          "is_executing": false
        },
        "id": "aSjyoSNQOtt8",
        "outputId": "44334a1c-ead4-4639-bb07-bf4b264c9a8f",
        "colab": {
          "base_uri": "https://localhost:8080/"
        }
      },
      "source": [
        "print('증상 단어 개수 최대 값: {}'.format(np.max(train_word_counts)))\n",
        "print('증상 단어 개수 최소 값: {}'.format(np.min(train_word_counts)))\n",
        "print('증상 단어 개수 평균 값: {:.2f}'.format(np.mean(train_word_counts)))\n",
        "print('증상 단어 개수 표준편차: {:.2f}'.format(np.std(train_word_counts)))\n",
        "print('증상 단어 개수 중간 값: {}'.format(np.median(train_word_counts)))\n",
        "# 사분위의 대한 경우는 0~100 스케일로 되어있음\n",
        "print('증상 단어 개수 제 1 사분위: {}'.format(np.percentile(train_word_counts, 25)))\n",
        "print('증상 단어 개수 제 3 사분위: {}'.format(np.percentile(train_word_counts, 75)))"
      ],
      "execution_count": 23,
      "outputs": [
        {
          "output_type": "stream",
          "text": [
            "증상 단어 개수 최대 값: 52\n",
            "증상 단어 개수 최소 값: 1\n",
            "증상 단어 개수 평균 값: 4.68\n",
            "증상 단어 개수 표준편차: 2.78\n",
            "증상 단어 개수 중간 값: 4.0\n",
            "증상 단어 개수 제 1 사분위: 3.0\n",
            "증상 단어 개수 제 3 사분위: 6.0\n"
          ],
          "name": "stdout"
        }
      ]
    },
    {
      "cell_type": "code",
      "metadata": {
        "pycharm": {
          "is_executing": false
        },
        "id": "0g2X2ZxHOtt9",
        "outputId": "39df0eb6-0768-4815-de33-d9ad60e742b2",
        "colab": {
          "base_uri": "https://localhost:8080/"
        }
      },
      "source": [
        "# 특수문자 확인하기\n",
        "qmarks = np.mean(train_data['symptom'].astype(str).apply(lambda x: '?' in x)) # 물음표가 구두점으로 쓰임\n",
        "fullstop = np.mean(train_data['symptom'].astype(str).apply(lambda x: '.' in x)) # 마침표\n",
        "                  \n",
        "print('물음표가있는 질문: {:.2f}%'.format(qmarks * 100))\n",
        "print('마침표가 있는 질문: {:.2f}%'.format(fullstop * 100))"
      ],
      "execution_count": 24,
      "outputs": [
        {
          "output_type": "stream",
          "text": [
            "물음표가있는 질문: 18.89%\n",
            "마침표가 있는 질문: 29.00%\n"
          ],
          "name": "stdout"
        }
      ]
    },
    {
      "cell_type": "markdown",
      "metadata": {
        "id": "hcAJvcUQOtt_"
      },
      "source": [
        "## 2. FastText"
      ]
    },
    {
      "cell_type": "code",
      "metadata": {
        "id": "_Ucx5zEiL_T4"
      },
      "source": [
        "import re\n",
        "from tqdm import tqdm\n",
        "\n",
        "import tensorflow as tf "
      ],
      "execution_count": 25,
      "outputs": []
    },
    {
      "cell_type": "markdown",
      "metadata": {
        "id": "-E8RqPgPXdap"
      },
      "source": [
        "### Hyperparameters"
      ]
    },
    {
      "cell_type": "code",
      "metadata": {
        "id": "w7eBrZJrL_T_"
      },
      "source": [
        "#random seed 고정\n",
        "tf.random.set_seed(seed)\n",
        "\n",
        "BATCH_SIZE = 32\n",
        "NUM_EPOCHS = 50\n",
        " \n",
        "DATA_OUT_PATH = \"/content/drive/My Drive/DataCollection/OSAM\""
      ],
      "execution_count": 26,
      "outputs": []
    },
    {
      "cell_type": "markdown",
      "metadata": {
        "id": "fTK4Lp5xXhdp"
      },
      "source": [
        "### Tokenizers"
      ]
    },
    {
      "cell_type": "code",
      "metadata": {
        "id": "VBQlQ90nVSCv"
      },
      "source": [
        "from tensorflow.keras.preprocessing.text import Tokenizer\n",
        "from tensorflow.keras.preprocessing.sequence import pad_sequences"
      ],
      "execution_count": 27,
      "outputs": []
    },
    {
      "cell_type": "code",
      "metadata": {
        "id": "zbDorY1aWDGL"
      },
      "source": [
        "train_sentence, train_label = train_data[\"symptom\"], train_data[\"label\"]\n",
        "test_sentence, test_label = test_data[\"symptom\"], test_data[\"label\"]"
      ],
      "execution_count": 28,
      "outputs": []
    },
    {
      "cell_type": "code",
      "metadata": {
        "id": "9zPeEP0QVpal",
        "outputId": "ec8345f4-f8bc-4110-b72b-2a51c52af68d",
        "colab": {
          "base_uri": "https://localhost:8080/"
        }
      },
      "source": [
        "t = Tokenizer()\n",
        "t.fit_on_texts(train_sentence)\n",
        "\n",
        "vocab_size = len(t.word_index)+1\n",
        "vocab_size"
      ],
      "execution_count": 29,
      "outputs": [
        {
          "output_type": "execute_result",
          "data": {
            "text/plain": [
              "54219"
            ]
          },
          "metadata": {
            "tags": []
          },
          "execution_count": 29
        }
      ]
    },
    {
      "cell_type": "code",
      "metadata": {
        "id": "Wpga0Or7WfsE",
        "outputId": "c9c1b475-33b9-474b-b032-902ff0ec4040",
        "colab": {
          "base_uri": "https://localhost:8080/"
        }
      },
      "source": [
        "X_encoded = t.texts_to_sequences(train_sentence)\n",
        "X_encoded"
      ],
      "execution_count": 30,
      "outputs": [
        {
          "output_type": "execute_result",
          "data": {
            "text/plain": [
              "[[2597, 1471, 2115, 201, 5264, 197, 7, 23, 58, 252, 198, 2324],\n",
              " [6, 156, 327, 230, 24],\n",
              " [272, 1472, 405, 223],\n",
              " [15445, 3279, 301, 15446],\n",
              " [760, 9346, 13],\n",
              " [48, 116, 3280, 638, 2598, 1225, 2599],\n",
              " [15447, 218, 258],\n",
              " [675],\n",
              " [456],\n",
              " [89, 2600, 1110, 467, 894, 122],\n",
              " [3762, 1944, 289, 15448, 715, 15449],\n",
              " [3281, 393],\n",
              " [8, 3282, 13],\n",
              " [44, 85, 1046, 6724, 124],\n",
              " [116, 2116, 6725, 657, 113, 15450, 309, 15451],\n",
              " [9347, 163],\n",
              " [3283, 30, 1, 15452],\n",
              " [1165, 15453, 6726, 990, 715, 15454],\n",
              " [3763, 15455, 15456, 9348, 9349],\n",
              " [2325, 9350, 51, 1558, 9351, 19],\n",
              " [1303, 3284, 895],\n",
              " [2906, 364],\n",
              " [420, 2117, 946, 15457],\n",
              " [6727, 15458, 1, 15459, 117],\n",
              " [105, 789, 241],\n",
              " [5265, 1473],\n",
              " [365, 1381, 2326, 2327, 15460, 2328],\n",
              " [1680, 340, 15461, 2329, 15462, 181, 1559, 1560, 15463, 2118, 1945, 15464],\n",
              " [1226, 25],\n",
              " [9352, 6728, 248, 19, 716],\n",
              " [51, 5266, 228, 947, 4353, 2119, 1382, 15465, 5267, 3285],\n",
              " [2330, 6729],\n",
              " [318, 15466, 372],\n",
              " [15467],\n",
              " [105, 15468, 9353, 15469, 341],\n",
              " [639, 95, 211],\n",
              " [543, 1383, 1166, 58, 46, 15470],\n",
              " [105, 3764, 2331],\n",
              " [9354, 1681, 1561],\n",
              " [15471, 302, 2601, 600],\n",
              " [51, 318, 27, 2332, 28, 9355],\n",
              " [1682, 5268, 91],\n",
              " [54, 4354, 33, 9356, 4355, 9357, 6730, 1047],\n",
              " [303, 1167, 1384, 616, 559],\n",
              " [373, 15472, 374, 421],\n",
              " [44, 15473, 24],\n",
              " [1048, 3286, 457, 117, 348, 15474, 6731, 1946, 349],\n",
              " [6732],\n",
              " [4356, 717, 410, 15475],\n",
              " [52, 6733, 375, 155, 4357],\n",
              " [15476, 19, 12],\n",
              " [2907, 15477, 15478, 15479, 58, 518, 9358],\n",
              " [90, 44, 45, 205],\n",
              " [15480, 15481, 15482],\n",
              " [480, 1385, 1111, 9359],\n",
              " [9360, 18, 2602],\n",
              " [2120],\n",
              " [8, 830, 1227, 15483, 8, 74, 4358, 1227, 2908],\n",
              " [15484, 279, 790, 9361, 6734, 71, 1474],\n",
              " [4359, 15485, 9362],\n",
              " [2333, 1386, 5269, 31, 2334, 640],\n",
              " [991, 147, 110, 641, 4],\n",
              " [168, 589, 1812, 5270],\n",
              " [458, 6735, 3765, 857, 44, 1168, 6736, 1169, 24],\n",
              " [15486, 190],\n",
              " [1475, 4360, 15487, 2909],\n",
              " [15488, 164, 194],\n",
              " [1562, 15489, 169, 136, 578],\n",
              " [47, 155],\n",
              " [896, 1947],\n",
              " [165, 32, 3766, 15490],\n",
              " [170, 15491, 15492],\n",
              " [15493, 2910],\n",
              " [15494, 6737, 13],\n",
              " [791, 3287, 15495],\n",
              " [15496, 590, 4361, 6738, 2911, 1304, 445, 17, 15497],\n",
              " [9363, 9364, 1112, 506],\n",
              " [15498, 342],\n",
              " [2912, 266, 166],\n",
              " [430, 9365],\n",
              " [897, 1563],\n",
              " [9366, 181, 2121, 740, 9367, 15499, 1387],\n",
              " [35, 858, 202],\n",
              " [333, 617, 15500, 98, 2913, 15501],\n",
              " [2914, 267, 618, 139],\n",
              " [792, 6739, 15502, 125, 411, 15503],\n",
              " [3288, 15504, 15505, 15506, 15507, 6740, 185],\n",
              " [15508],\n",
              " [15509, 3767],\n",
              " [1476, 1564, 1305, 544, 164, 34, 20, 14],\n",
              " [6741, 50, 2, 658],\n",
              " [1015, 1113, 2122, 9368, 394],\n",
              " [54, 327, 114, 2603, 24, 85, 195],\n",
              " [2604, 73, 284, 1306, 137],\n",
              " [15510, 9369, 15511, 15512, 2602],\n",
              " [115],\n",
              " [15513, 395, 859, 15514, 2915, 15515, 15516, 3289, 16, 5],\n",
              " [15, 6, 78, 13, 3290, 15517, 15518, 459],\n",
              " [2123, 15519, 2124],\n",
              " [6742, 676, 32, 1813],\n",
              " [52, 181, 2605, 1565, 3768, 741, 36],\n",
              " [9370, 1307, 1308, 1477, 1683],\n",
              " [35, 619, 1814, 11, 437],\n",
              " [2606, 122],\n",
              " [6, 143, 15520, 158, 304, 507, 3769, 15521, 15522],\n",
              " [15523, 15524, 150, 6743, 15525],\n",
              " [2916, 15526],\n",
              " [117, 3291, 1049, 359, 1684],\n",
              " [422, 9371, 9372, 15527, 2917, 15528, 22],\n",
              " [543, 15529, 23, 15530, 1016, 4362],\n",
              " [9373, 2607, 460, 4363],\n",
              " [9374, 406, 259, 1566, 1815, 86, 15531, 1948],\n",
              " [373, 20, 14, 49],\n",
              " [5271, 3292, 34, 4364],\n",
              " [15532],\n",
              " [328, 528, 43, 860, 460, 98, 68],\n",
              " [15, 105, 95, 15533, 789, 315],\n",
              " [15534],\n",
              " [6, 991, 285, 13, 86],\n",
              " [446, 1478, 15535, 15536, 9375, 6744, 15537],\n",
              " [5272, 29],\n",
              " [6745, 1114],\n",
              " [186, 30, 447],\n",
              " [153, 6746],\n",
              " [1115, 15538],\n",
              " [699, 15539, 5273],\n",
              " [481, 15540, 620, 3293, 4365, 203, 5274, 38],\n",
              " [3770, 2335, 107, 6747, 3771, 92, 15541],\n",
              " [170, 9376, 1, 15542, 9377],\n",
              " [15543, 1816, 4366, 793],\n",
              " [6748, 2918],\n",
              " [6749, 601, 591, 794, 15544],\n",
              " [1685, 15545, 9378, 3772, 861, 1685, 15546, 9379],\n",
              " [896, 20, 11],\n",
              " [15547, 15548],\n",
              " [1817, 3294, 1170],\n",
              " [1818, 482],\n",
              " [15549],\n",
              " [15550, 47, 602, 84, 6750, 1116],\n",
              " [52, 15, 60, 1309, 4367, 946, 3773, 46, 241],\n",
              " [15551, 102, 1388, 31, 163],\n",
              " [6751, 9380],\n",
              " [1567, 4368, 96],\n",
              " [483, 1050, 123],\n",
              " [9381, 761, 15552, 9382, 9383],\n",
              " [2125, 545],\n",
              " [1819, 1389, 6752, 762, 6753, 898],\n",
              " [15553],\n",
              " [1686, 2, 2919],\n",
              " [15554, 948],\n",
              " [15555],\n",
              " [9384, 5275, 560, 15556, 15557, 101],\n",
              " [286, 3774, 5276, 366, 15558, 167, 2126, 95, 862],\n",
              " [9385, 15559],\n",
              " [5277, 21, 2336, 831, 5278, 9386, 921, 561, 15560, 28, 718],\n",
              " [9387, 205],\n",
              " [2337, 795],\n",
              " [1228, 423, 1820, 1687, 1949, 3295, 15561, 9388],\n",
              " [15562, 41, 129, 1051, 396, 39],\n",
              " [15563, 224],\n",
              " [1310, 15564, 15565, 519, 350],\n",
              " [52, 1390, 1229, 15566, 15567],\n",
              " [15568],\n",
              " [9389, 9390, 1688, 9391, 15569, 15570],\n",
              " [290, 15571, 296, 15572, 9392, 15573, 15574, 86],\n",
              " [199, 60, 3296, 15575, 468, 4369, 15576, 5279, 241],\n",
              " [136, 5280, 121, 9393, 15577, 832, 1950],\n",
              " [89, 37, 2127, 351],\n",
              " [168, 763],\n",
              " [1052, 136, 127, 3],\n",
              " [15578, 15579, 4],\n",
              " [367, 3297, 15580, 20],\n",
              " [9394, 2907, 9395, 98, 26],\n",
              " [15581, 621, 15582, 124, 9396],\n",
              " [469, 19, 287],\n",
              " [121, 319, 7, 15583],\n",
              " [15584, 19],\n",
              " [105, 359, 2920, 86],\n",
              " [253, 15585, 309, 15586, 93, 3298],\n",
              " [5281, 579],\n",
              " [6754, 15587, 55, 11],\n",
              " [764, 5282, 863],\n",
              " [6755],\n",
              " [365, 260, 9397],\n",
              " [1821, 1, 15588],\n",
              " [5283, 1568, 1559, 15589, 273, 15590, 15591, 2608],\n",
              " [617, 191, 15, 470, 123],\n",
              " [8, 15592, 765, 15593, 1051, 61, 2609],\n",
              " [922, 9398, 268],\n",
              " [6756, 9399, 9400, 6757, 15594, 899, 51, 15595],\n",
              " [1230, 279, 9401, 923],\n",
              " [15596, 1016, 261],\n",
              " [6758, 15597],\n",
              " [235, 39, 34, 4370, 9402, 137, 1117],\n",
              " [15598, 1118, 3299, 15599],\n",
              " [15600, 15601, 242, 9403, 949, 6759],\n",
              " [15602, 1822, 5284, 2610, 1017, 4371, 1559, 15603, 111, 123, 28, 9404],\n",
              " [2128, 766, 5285, 15604, 367, 9405, 6760],\n",
              " [9406, 1053, 791, 236, 9407],\n",
              " [900, 2921, 157, 57, 2611, 508, 9408, 1569, 796],\n",
              " [797, 47, 39, 103, 6761, 484],\n",
              " [15605, 1560],\n",
              " [21, 798, 1311, 482],\n",
              " [1391, 6762, 5286, 9409, 38],\n",
              " [2338, 124],\n",
              " [119, 15606, 1570, 15607, 15608],\n",
              " [116, 15609, 15610, 15611, 244, 15612, 15613],\n",
              " [15614, 190, 580, 3],\n",
              " [17, 15615],\n",
              " [15616],\n",
              " [896, 8, 1171, 622],\n",
              " [5287, 1, 5288],\n",
              " [164, 412, 9410, 5289],\n",
              " [15617],\n",
              " [2129, 9411],\n",
              " [2922, 2612, 291, 719, 178, 15618, 310, 1571],\n",
              " [108, 1951, 1312, 15619, 2923],\n",
              " [286, 562],\n",
              " [2339, 5290, 55],\n",
              " [992, 520, 3300, 193, 2924],\n",
              " [15620, 15621, 38],\n",
              " [15622, 15623],\n",
              " [224, 1119, 343],\n",
              " [63, 1952],\n",
              " [379, 6763, 9412, 1313, 69],\n",
              " [2613, 225, 30, 4372],\n",
              " [993, 45, 15624],\n",
              " [15625, 1953, 3301, 431],\n",
              " [15626],\n",
              " [1165, 15627, 97, 2614, 231, 9413, 950],\n",
              " [15628, 15629, 236, 9414, 1689, 12],\n",
              " [5291, 1479, 6764, 37, 2130, 1018, 15630, 344, 2615],\n",
              " [44, 6765, 67, 40],\n",
              " [15631, 15632],\n",
              " [4373, 1120],\n",
              " [153, 15633],\n",
              " [79, 112, 223, 6766],\n",
              " [799, 1, 9415, 15634],\n",
              " [623, 15635, 15636, 438, 15, 485, 15637],\n",
              " [17, 1572, 15638, 15639, 15640, 413, 2340],\n",
              " [5292, 461, 15641],\n",
              " [6767, 73, 1, 151, 87, 101],\n",
              " [274, 589, 15642],\n",
              " [9416, 6768],\n",
              " [1386, 173, 2341],\n",
              " [1019, 5293, 27, 2131, 394],\n",
              " [15643, 13, 15644],\n",
              " [5294, 720, 14],\n",
              " [2342, 6769, 252, 9417, 144, 4374, 529, 1954, 3775],\n",
              " [15645, 624, 659, 642, 16, 36],\n",
              " [15646, 767],\n",
              " [200, 27, 742, 9418, 9419],\n",
              " [15647],\n",
              " [15648, 104, 15649, 113],\n",
              " [2343, 1955, 30, 139],\n",
              " [15650, 55, 22],\n",
              " [15651, 215, 9420, 15652, 1314, 9421],\n",
              " [4375, 375, 245, 15653, 4376],\n",
              " [50, 15654],\n",
              " [219,\n",
              "  6770,\n",
              "  2925,\n",
              "  2926,\n",
              "  5295,\n",
              "  2,\n",
              "  6771,\n",
              "  62,\n",
              "  15655,\n",
              "  273,\n",
              "  2927,\n",
              "  2344,\n",
              "  171,\n",
              "  15656],\n",
              " [530, 9422, 45, 15657, 126],\n",
              " [15658, 49],\n",
              " [15659, 1690, 15660, 1823, 15661, 15662],\n",
              " [15663, 15664, 15665, 20],\n",
              " [3776, 15666, 15667, 15668],\n",
              " [8, 272, 439, 222, 151, 397, 5296, 5297, 15669],\n",
              " [5298, 15670, 15671],\n",
              " [48, 15672],\n",
              " [700, 7, 721, 1315, 901],\n",
              " [9423, 2345, 15673],\n",
              " [15674, 9424, 1054, 15675, 6772, 15676],\n",
              " [9425, 110, 1824, 2346, 15677, 154, 15678, 9, 67, 40],\n",
              " [2616, 334, 448, 136, 69],\n",
              " [1172, 486, 343, 580, 3],\n",
              " [764, 1480, 9426, 3777, 9427],\n",
              " [1231, 6773, 55],\n",
              " [643, 176],\n",
              " [414, 15679, 19, 42],\n",
              " [4377, 864, 208, 15680, 15681, 235, 600],\n",
              " [9428, 383, 2928, 9429, 380, 9430, 15682],\n",
              " [8, 259, 9431, 581, 6774, 81, 58, 15683],\n",
              " [15684],\n",
              " [1956, 6775, 305, 63, 3],\n",
              " [15685],\n",
              " [170, 9432, 113],\n",
              " [105, 15686, 15687, 15688, 96, 37],\n",
              " [52, 1173, 82, 9433, 8, 6, 161, 439],\n",
              " [15689],\n",
              " [4378, 24, 14],\n",
              " [39, 15690, 43, 124],\n",
              " [15691],\n",
              " [5299, 563, 341],\n",
              " [156, 15692, 15693, 15694],\n",
              " [4379, 15695, 15696, 6776, 15697, 3778],\n",
              " [9434, 15698],\n",
              " [8, 15699, 3779, 132, 4380, 440, 15700, 145],\n",
              " [15701, 15702],\n",
              " [300, 951, 5300],\n",
              " [15703, 15704, 15705, 15706],\n",
              " [6777, 15707, 9435],\n",
              " [89, 458, 9436, 58, 15708],\n",
              " [1690, 924, 112, 2347, 9437, 203],\n",
              " [6778, 50, 15709, 1392, 123],\n",
              " [15710, 374, 6779, 15711, 5301, 5302],\n",
              " [9438, 1],\n",
              " [6780, 15712, 19, 1393, 17, 15713],\n",
              " [345, 530],\n",
              " [9439, 5303, 4381, 1055, 26],\n",
              " [722, 15714, 6781, 16, 33, 6782, 134, 423, 95, 36],\n",
              " [15715],\n",
              " [367, 1232, 701, 456],\n",
              " [1056, 2929, 15716, 58, 9440, 5],\n",
              " [1825, 275, 3302, 15717, 2930, 15718],\n",
              " [1394, 702, 101, 119, 2132, 86],\n",
              " [1395, 5304, 15719, 1957, 43, 15720],\n",
              " [94, 865, 329, 50, 3303, 6783, 6784],\n",
              " [15721, 2617, 15722],\n",
              " [564, 1691, 9441, 335, 330],\n",
              " [15723, 6785, 2133],\n",
              " [2348, 475, 18, 82, 300, 304, 1481, 717, 15724],\n",
              " [9442,\n",
              "  6786,\n",
              "  5305,\n",
              "  1174,\n",
              "  1958,\n",
              "  254,\n",
              "  329,\n",
              "  15725,\n",
              "  15726,\n",
              "  162,\n",
              "  150,\n",
              "  15727,\n",
              "  376,\n",
              "  58,\n",
              "  15728,\n",
              "  334,\n",
              "  45,\n",
              "  68],\n",
              " [660, 368, 229],\n",
              " [311, 15729, 1396, 15730, 7, 3],\n",
              " [92, 352, 15731, 15732, 1482, 15733, 15734],\n",
              " [1230, 15735, 360, 26],\n",
              " [15736, 15737],\n",
              " [90, 35, 4382, 6787],\n",
              " [509, 397, 2349, 15738, 77],\n",
              " [15739],\n",
              " [1233, 592, 31, 1573],\n",
              " [866, 15740, 6788, 546, 90, 715, 152],\n",
              " [743, 15741, 151, 101],\n",
              " [9443, 1483, 1, 237, 405],\n",
              " [15742],\n",
              " [897, 2350],\n",
              " [54, 4383],\n",
              " [744, 15743, 6789, 15744, 21, 13],\n",
              " [952, 34],\n",
              " [6, 830, 27, 6790, 15745, 32, 15746],\n",
              " [15747],\n",
              " [6791, 2351],\n",
              " [155, 173, 9444, 37, 1571],\n",
              " [1959, 9445, 2352, 64],\n",
              " [1175, 15748, 3780, 15749, 145, 9446],\n",
              " [745, 15750, 4384],\n",
              " [9447, 15751, 15752, 6792, 2618, 398, 287],\n",
              " [5306, 677],\n",
              " [15753],\n",
              " [3781, 15754],\n",
              " [35, 9448, 17, 15755, 340, 15756, 6793],\n",
              " [603, 27, 1960, 902, 2134, 2353, 6794, 467, 9449, 1484],\n",
              " [565, 15757, 1316, 6795, 565],\n",
              " [15758, 6796, 5307, 72, 312, 5],\n",
              " [1234, 1316],\n",
              " [2135, 661, 2619],\n",
              " [212, 43, 72, 20],\n",
              " [3304, 2354, 2931, 1235, 703, 69],\n",
              " [644, 5308, 1692, 6797, 2, 15759, 15760],\n",
              " [15761, 495, 15762, 98, 26],\n",
              " [15763],\n",
              " [859],\n",
              " [469, 111, 269, 56, 9450],\n",
              " [167, 867, 181, 15764],\n",
              " [4385, 15765, 15766, 3302, 6798, 1121],\n",
              " [2136, 9451, 3782],\n",
              " [2932, 15767],\n",
              " [2933],\n",
              " [1485, 462, 15768, 9452, 384],\n",
              " [994, 5309, 2620, 15769, 6799, 7, 38, 458, 3783],\n",
              " [275, 1176, 2137, 9453, 6800],\n",
              " [662, 903, 24],\n",
              " [15770, 6801, 9454, 5],\n",
              " [430, 625, 30, 1, 6802, 306],\n",
              " [15771, 4386, 15772, 15773],\n",
              " [1961, 15774, 15775, 7, 38],\n",
              " [992, 9455, 15776, 800, 2934],\n",
              " [15777],\n",
              " [15778, 218, 15779],\n",
              " [9456],\n",
              " [15780, 130],\n",
              " [2138, 1, 213],\n",
              " [15781, 15782],\n",
              " [4387, 566, 701, 103, 463, 547],\n",
              " [153, 15783],\n",
              " [328, 2621, 4388, 12],\n",
              " [8, 168],\n",
              " [2622, 5310, 424, 179],\n",
              " [415, 47, 868, 27, 319, 84, 441, 6803, 226],\n",
              " [1177, 15784, 2623, 6804, 3781, 15785, 15786],\n",
              " [15787, 15788, 2355, 193, 15789, 3305],\n",
              " [475, 6805, 292, 22],\n",
              " [15790, 9457, 6806, 521, 219, 5311, 15791, 9458, 289],\n",
              " [3762, 15792, 15793],\n",
              " [393, 6807, 2356, 1486],\n",
              " [17, 15794, 1693, 2357, 995, 1397, 6808, 2358, 289],\n",
              " [5312, 6755],\n",
              " [6809, 15795, 55],\n",
              " [216, 564, 2, 29],\n",
              " [213, 174],\n",
              " [797, 3784, 15796, 4, 31, 522],\n",
              " [15797],\n",
              " [9459],\n",
              " [15, 62, 9460, 9461],\n",
              " [1694, 4],\n",
              " [4389, 167, 9462, 6810, 3785, 626, 15798, 1695],\n",
              " [416, 953, 104, 6811],\n",
              " [15799, 15800, 4390, 44, 6812, 312, 1962, 91, 166],\n",
              " [1307, 103, 9463, 411, 206],\n",
              " [5313, 15801, 9464, 8, 1317],\n",
              " [15802, 15803, 218, 15804],\n",
              " [954, 3306, 175, 15805],\n",
              " [15806, 232, 510],\n",
              " [97, 238, 178, 6813, 13],\n",
              " [415, 530],\n",
              " [9465, 5314],\n",
              " [766, 15807, 15808, 1474],\n",
              " [15809, 201, 311, 4391, 97, 173, 29],\n",
              " [9466, 224, 2935, 15810],\n",
              " [9467, 5315, 9, 26],\n",
              " [107, 131, 9468, 224],\n",
              " [2928, 15811, 159],\n",
              " [353, 114, 15812, 54, 9469, 4392, 3307, 869, 1178, 717, 7, 350],\n",
              " [15813, 11],\n",
              " [83, 417, 4],\n",
              " [9470, 5316, 1236, 399],\n",
              " [239, 186],\n",
              " [9471, 5317, 15, 136, 548, 160, 114, 5318, 202],\n",
              " [17, 1018, 15814],\n",
              " [6814, 15815, 15816, 9472],\n",
              " [6815, 15817, 5319],\n",
              " [15818, 214],\n",
              " [5320, 15819, 15820],\n",
              " [63, 15821, 179],\n",
              " [132, 15822, 15823, 4],\n",
              " [141, 9473, 15824, 15825],\n",
              " [6816, 3786, 19, 25],\n",
              " [2936, 440, 6817, 996, 833, 2937, 5321, 38],\n",
              " [15826, 663],\n",
              " [15827, 1237, 51, 32, 15828],\n",
              " [54, 870, 549],\n",
              " [15829, 15830],\n",
              " [15831, 20, 12],\n",
              " [120, 2938],\n",
              " [199, 209, 6818],\n",
              " [1234, 1020, 1, 385],\n",
              " [15832],\n",
              " [15833],\n",
              " [1574, 4393, 2939, 9474],\n",
              " [15834, 139],\n",
              " [148, 9475, 31, 3787, 9476],\n",
              " [9477, 11],\n",
              " [15835, 567, 2940, 5322, 9478, 15836],\n",
              " [336, 12],\n",
              " [3308, 1575, 1963, 3788, 4394, 1021, 5323, 65, 111, 61],\n",
              " [15837, 6, 75, 1318, 5324, 4395, 75, 1319, 15838, 9479, 46, 1487],\n",
              " [256, 50, 276],\n",
              " [105, 3309, 78, 1238, 37, 23, 1398, 5325, 64],\n",
              " [15839, 15840],\n",
              " [15841, 19, 232, 510],\n",
              " [15842, 9480, 15843],\n",
              " [5326, 2941, 9481, 15, 5326, 3767, 4396, 1964, 15844],\n",
              " [3789, 2139, 15845, 15846],\n",
              " [318, 15, 60, 240, 15847],\n",
              " [48, 15848],\n",
              " [1179, 834, 15849, 955, 1, 224, 801, 15850, 6819, 6820],\n",
              " [12, 15851],\n",
              " [44, 559],\n",
              " [1483, 1, 15852],\n",
              " [280, 417, 15853, 15854, 2359, 18, 2360, 46],\n",
              " [9482, 2361, 109, 9483],\n",
              " [168, 4397],\n",
              " [220, 9484, 1488, 582],\n",
              " [415, 6821, 104, 81, 153, 6822],\n",
              " [2125, 15855],\n",
              " [235, 43, 72, 1, 593, 15856, 129, 9, 67, 40],\n",
              " [216, 664, 162, 150, 15857, 485, 15858, 6823, 3],\n",
              " [15859, 204, 15860, 5],\n",
              " [63, 27, 3790, 6824, 15861, 15862, 4398, 6825, 9485, 29],\n",
              " [1965, 275, 5327, 15863, 15864, 15865],\n",
              " [162, 150, 449, 802, 112, 467, 4399, 3791, 1239, 3791, 69],\n",
              " [239, 293, 320, 9486],\n",
              " [200, 204, 18, 15866, 4400, 15867, 15868],\n",
              " [15869, 522],\n",
              " [15870, 2624, 2942],\n",
              " [15871],\n",
              " [353, 5328, 15872, 5329, 6826, 7, 2625],\n",
              " [3310, 115, 85, 1240, 15873],\n",
              " [9487, 281],\n",
              " [15874, 1688, 19, 716],\n",
              " [262, 1057, 15875, 400],\n",
              " [15876, 602, 280, 1180, 46, 123],\n",
              " [243, 678, 3768, 6827, 95, 398, 69],\n",
              " [953, 4401, 15877],\n",
              " [6828, 793, 15878],\n",
              " [422, 15879, 73],\n",
              " [303, 15880, 1181],\n",
              " [496, 6829],\n",
              " [723, 15881, 1696, 4402, 450],\n",
              " [15882, 1, 4403],\n",
              " [6748, 281, 174, 211],\n",
              " [8, 3792, 2943, 563, 15883, 6830, 1826, 3],\n",
              " [3311, 1399, 31, 4404, 20, 14],\n",
              " [9488, 15884, 15885, 365, 2626],\n",
              " [6831, 418, 15886],\n",
              " [3793, 6, 156, 154, 9489, 531, 9490, 796],\n",
              " [15887, 15888, 2627, 15889, 206],\n",
              " [15890],\n",
              " [15891],\n",
              " [197, 956, 957, 318, 413, 197, 4355],\n",
              " [15892, 15893, 6832, 1697, 620, 3771, 6833, 206],\n",
              " [497, 15894, 126],\n",
              " [83, 7, 296, 1122, 4405],\n",
              " [594, 1400, 1058, 2944, 233, 15895, 425, 5],\n",
              " [386, 6834, 1320],\n",
              " [9491],\n",
              " [6835, 164, 9492],\n",
              " [511, 15896, 1241, 15897, 2362],\n",
              " [56, 997, 15898, 3],\n",
              " [2363, 15899, 15900],\n",
              " [15901, 768],\n",
              " [15902, 137, 958, 9493],\n",
              " [8, 220, 15903, 145],\n",
              " [15904, 475, 15905, 240, 9494, 15906, 103, 37, 871],\n",
              " [6836, 6837, 102, 120, 1576],\n",
              " [9495, 4406],\n",
              " [3312],\n",
              " [104, 15907],\n",
              " [2628, 580, 1577],\n",
              " [168, 15908],\n",
              " [1578, 313, 5330, 9496, 3],\n",
              " [15909, 182],\n",
              " [426, 2945, 468, 7, 38],\n",
              " [1966, 15910],\n",
              " [287, 74, 1579, 1166, 58, 46, 3313],\n",
              " [442, 2629, 15911, 15912, 9497, 15913, 15914],\n",
              " [15915, 1698, 3794, 6838],\n",
              " [9498, 15916, 1401, 15917, 16, 5],\n",
              " [1321, 2364, 31, 57, 109, 1, 1321, 15918],\n",
              " [15919, 14, 437],\n",
              " [665, 666, 73],\n",
              " [57, 15920],\n",
              " [2946, 1242, 15921],\n",
              " [1402, 9499, 11],\n",
              " [792, 1699, 42],\n",
              " [2947, 4407, 9, 67, 240, 3314],\n",
              " [15922, 9500, 4408, 15923, 10, 3315, 1827, 627, 36],\n",
              " [1243, 10, 15924, 1, 63, 23, 15925, 351],\n",
              " [4409, 1700, 131, 6839],\n",
              " [15926, 15927, 15928],\n",
              " [5331, 15929, 15930, 5332, 6840, 15931],\n",
              " [9501, 6841, 1489, 15932, 381, 3795, 2630],\n",
              " [9502, 297, 1182, 9503, 424, 61],\n",
              " [354, 1403, 1019, 15933, 15934],\n",
              " [196, 3796, 134, 109, 91, 45, 69],\n",
              " [9504],\n",
              " [460, 72, 20, 14, 437],\n",
              " [311, 2631, 2365, 9505, 64, 532, 11],\n",
              " [481, 2366],\n",
              " [15935, 432, 151, 620, 4410, 157, 1490, 2140],\n",
              " [835, 9506, 77],\n",
              " [533],\n",
              " [6842, 795],\n",
              " [15936, 13],\n",
              " [2367, 331],\n",
              " [1018, 9507, 9508],\n",
              " [15937, 457, 475, 15938, 40],\n",
              " [9509, 1967, 1968],\n",
              " [54, 870],\n",
              " [9510],\n",
              " [285, 4411, 5333, 9511, 80, 15939, 5],\n",
              " [15940, 15941, 197, 9512, 5334, 15942],\n",
              " [1828, 1829],\n",
              " [355, 9513, 92, 2, 1059],\n",
              " [126, 9514],\n",
              " [148, 2368, 1244, 4412, 204, 335, 6843],\n",
              " [15943, 15944, 16, 5],\n",
              " [523, 239, 15945, 451, 2350, 31, 4],\n",
              " [60, 240, 5335, 1830],\n",
              " [15, 496, 6844, 2632, 512, 15946, 6845],\n",
              " [15947, 116, 15948],\n",
              " [270, 439, 15949, 15950, 15951, 6846, 361, 205],\n",
              " [568, 10, 152, 9515, 99],\n",
              " [836, 12],\n",
              " [1404, 9516, 15952, 3797, 5336, 15953, 3798],\n",
              " [513, 119, 2369, 37, 6847, 1580],\n",
              " [56, 321, 121, 1245],\n",
              " [679, 661, 6, 245, 798, 803, 7, 3],\n",
              " [1060, 9517, 15954, 228, 15955, 9518, 15956, 1491, 15957, 15958],\n",
              " [9519, 6848, 15959, 5337],\n",
              " [1115, 15960, 183, 9520],\n",
              " [2948, 959, 201, 724, 9521],\n",
              " [9522, 10, 1123, 997, 10, 4413],\n",
              " [15961, 1492, 6849, 15962, 3316, 2949, 900],\n",
              " [1969, 2356],\n",
              " [3799, 11, 437, 520, 1061, 15963, 960],\n",
              " [2370, 1405, 9523, 377, 18, 487],\n",
              " [160, 259, 15964, 15965, 1970, 211],\n",
              " [1581, 1124, 96],\n",
              " [6850, 3800, 566, 15966, 15967],\n",
              " [5338, 15968, 3317, 1962, 9524, 5339, 2371],\n",
              " [15969, 496, 242, 3801, 15970, 15971, 1183],\n",
              " [15972],\n",
              " [275, 9525, 205, 15973, 76, 68],\n",
              " [3318, 59, 322, 4382, 205, 214],\n",
              " [2950, 108, 200, 15974, 1493, 37, 15975, 901],\n",
              " [720, 1246, 55, 14, 53],\n",
              " [1971, 11, 49],\n",
              " [2372, 8, 121, 45, 27, 9526, 28, 5340],\n",
              " [15976, 122],\n",
              " [6851, 337, 6852, 9527, 15977, 518, 15978],\n",
              " [407, 12],\n",
              " [1247, 5341, 904, 14],\n",
              " [51, 32, 15979, 2373, 9528, 9529, 32, 15980],\n",
              " [303, 50, 865],\n",
              " [1951, 8, 2951, 639, 7, 231, 9530],\n",
              " [961, 288, 139],\n",
              " [90, 37, 433, 804, 1494],\n",
              " [300, 801, 559, 1248, 9531, 5342, 470],\n",
              " [17, 50, 6853, 2374],\n",
              " [149, 15981, 1184, 6854],\n",
              " [15982, 221, 2, 6855],\n",
              " [100, 214, 34],\n",
              " [5343, 663, 837],\n",
              " [15983, 9, 15984, 15985, 9532],\n",
              " [15986, 7, 15987],\n",
              " [9533, 9534, 194, 20, 42],\n",
              " [416, 9535, 5344, 15988, 15989, 6856],\n",
              " [4414, 15990],\n",
              " [3319, 322, 2952, 1125, 15991, 2953, 1831, 518, 4415, 2375, 2954],\n",
              " [15992, 15993],\n",
              " [2376, 122],\n",
              " [15994, 15995, 518, 9536, 583],\n",
              " [9537, 182],\n",
              " [15996, 216, 6857],\n",
              " [1062, 15997, 15998],\n",
              " [1972, 6858, 15999, 11],\n",
              " [1063, 676, 16000, 449, 96],\n",
              " [16001],\n",
              " [16002, 805, 1, 16003, 16004],\n",
              " [6, 16005, 16006, 174, 659, 53],\n",
              " [1832, 73],\n",
              " [744, 16007],\n",
              " [1582, 769],\n",
              " [1406, 521, 2633, 340, 1833, 377, 1249, 550, 9538, 95, 862],\n",
              " [196, 3796, 334, 448, 109, 91, 45, 69],\n",
              " [15, 16008],\n",
              " [322, 1125, 11],\n",
              " [16009, 6859, 60, 1126, 41, 103, 46, 5345],\n",
              " [1250, 998, 219, 1701, 16010, 9, 16011, 68],\n",
              " [1702, 331, 72, 544, 14],\n",
              " [16012, 9539, 9540, 962, 200, 1251, 6860, 329, 3802],\n",
              " [44, 3320, 3803, 22],\n",
              " [280, 1064, 4],\n",
              " [1973, 119, 16013],\n",
              " [16014, 16015, 2618, 187, 16016, 62, 2],\n",
              " [6861, 16017, 221, 33, 145],\n",
              " [9541],\n",
              " [963, 16018, 1834, 366, 16019, 1974, 16020],\n",
              " [156, 327, 838, 4416, 2634],\n",
              " [304, 830, 1407, 548, 12, 133],\n",
              " [16021, 16022, 16023, 858, 110],\n",
              " [9542, 746, 6862],\n",
              " [16024],\n",
              " [925, 24],\n",
              " [16025, 5346, 57, 66, 2377, 1583],\n",
              " [1065, 896, 680, 1322, 50, 16026, 3321, 5347],\n",
              " [9543, 16027],\n",
              " [271, 16028, 16029, 1948, 43, 2955, 9544, 1323, 187],\n",
              " [5348, 85, 3804, 16030, 9545],\n",
              " [5349, 16031, 16032, 16033, 16034],\n",
              " [2141],\n",
              " [280, 4417, 16035, 592, 2635, 9546],\n",
              " [3290, 16036, 1046, 1, 543, 183, 16037, 3],\n",
              " [9547, 16038, 6863, 2378, 2142, 91, 45, 137],\n",
              " [5350, 9548, 20, 42],\n",
              " [662, 1835, 5351, 1022, 1252, 92, 234, 9, 1253, 40],\n",
              " [16039, 551],\n",
              " [9549, 9550, 9551, 6864, 1495],\n",
              " [6865, 16040, 16041, 16042, 950, 16043, 5352],\n",
              " [286, 2143, 14],\n",
              " [16044],\n",
              " [16045, 5353, 905, 2144, 9552],\n",
              " [16046, 16047, 3805],\n",
              " [964, 16048, 156, 100, 110, 338, 226],\n",
              " [1836, 111, 61],\n",
              " [54, 9553, 16049, 13],\n",
              " [414, 704, 4418],\n",
              " [16050, 16051, 16052, 16053, 16054],\n",
              " [872, 16055],\n",
              " [16056, 590, 16057, 165, 6866, 16058],\n",
              " [16059, 3322],\n",
              " [16060, 59, 16061, 16062, 16063, 16064, 16065],\n",
              " [6867, 16066, 9554],\n",
              " [452, 799, 14],\n",
              " [112, 1312, 5354],\n",
              " [117, 16067, 16068, 16069, 16070],\n",
              " [9555, 102, 1837],\n",
              " [16071, 144, 9556, 2145, 2636, 304, 178, 18],\n",
              " [1173, 16072, 16073, 61],\n",
              " [16074, 16075, 248, 55, 6868],\n",
              " [16076],\n",
              " [9557, 16077, 16078],\n",
              " [16079, 16080],\n",
              " [300, 7, 2, 96],\n",
              " [5355, 1066, 2146, 335, 16081, 1496, 23, 667, 1185, 64],\n",
              " [156, 188, 387],\n",
              " [6869, 16082, 216, 9558, 16083, 16084],\n",
              " [16085, 450],\n",
              " [16086, 2956, 125, 98, 26],\n",
              " [16087, 5356, 129, 16088, 129, 1584, 9559],\n",
              " [9560, 130, 1838],\n",
              " [52, 63, 806, 249, 9561, 413, 6870, 9562],\n",
              " [408, 42],\n",
              " [705, 488, 2957, 81, 28, 16089],\n",
              " [16090, 6871, 140, 218, 45, 770],\n",
              " [7, 16091, 9563, 137],\n",
              " [16092],\n",
              " [16093, 16094, 16095],\n",
              " [2348, 1829],\n",
              " [2958, 3806, 767],\n",
              " [3323, 5357],\n",
              " [16096, 4419, 19],\n",
              " [4420, 239, 327, 3807],\n",
              " [5358, 16097, 1839, 16098],\n",
              " [498, 1840, 307, 6872],\n",
              " [16099, 4421, 1186, 4422, 51, 32, 1408],\n",
              " [604, 147, 4, 14],\n",
              " [514, 16100],\n",
              " [6873, 16101, 6874, 16102, 2379, 9564, 2637, 45, 68],\n",
              " [5359, 4423, 3808],\n",
              " [668, 1688, 55],\n",
              " [511, 9565, 2638, 122],\n",
              " [35, 1585, 47, 1409, 9, 258],\n",
              " [373, 1187],\n",
              " [680, 417, 44, 1188, 965, 174, 1975, 3],\n",
              " [16103],\n",
              " [2348, 9566, 16104, 77],\n",
              " [311, 10, 2380],\n",
              " [9567, 155, 16105, 16106, 6875, 16107],\n",
              " [16108, 628, 9568, 1565, 1703, 4424],\n",
              " [438, 5360, 666, 73, 257, 5361, 3809],\n",
              " [275, 4425, 2381, 747, 966, 1976],\n",
              " [16109, 3324, 5],\n",
              " [300, 1127, 302, 3810, 1185, 40],\n",
              " [5362, 21, 13],\n",
              " [9569, 16110, 1977, 141, 263, 2639, 595, 445],\n",
              " [16111, 771, 873],\n",
              " [5363, 2, 748, 6876],\n",
              " [272, 2959, 112, 128],\n",
              " [2960, 807, 2382, 136, 6877, 16112, 16113],\n",
              " [35, 3325, 9570],\n",
              " [764, 5364, 14],\n",
              " [16114, 1814, 225, 388, 1],\n",
              " [2961, 3811, 140],\n",
              " [2958, 2147, 12, 16115, 4426, 4427, 16116, 5365],\n",
              " [1254, 645, 167, 38],\n",
              " [1067, 157, 6, 16117, 213, 174, 1189, 1128, 28, 246, 203],\n",
              " [9571, 3812, 534, 16118, 16119, 22],\n",
              " [16120],\n",
              " [6878, 83, 16121],\n",
              " [2640, 1236, 3],\n",
              " [6879, 6880],\n",
              " [54, 202, 6881, 11],\n",
              " [16122, 1023, 16123, 4428, 16124],\n",
              " [4429, 5366, 250, 264],\n",
              " [9572, 19],\n",
              " [16125, 84, 499, 552, 552],\n",
              " [16126, 2148],\n",
              " [16127, 16128, 6882, 1476, 16129, 395, 859, 999, 6740, 5367],\n",
              " [16130, 77],\n",
              " [16131, 4430, 16132, 16133],\n",
              " [16134, 859, 282, 16135],\n",
              " [3326, 16136, 248, 19, 22],\n",
              " [5368, 9573, 535, 12],\n",
              " [54, 4431, 194, 808, 6883, 1255, 64],\n",
              " [244, 16137, 839, 4432, 2383, 16138],\n",
              " [1497, 1978, 16139, 9574, 9575, 22],\n",
              " [9576, 3813],\n",
              " [9577, 360, 16140, 16141],\n",
              " [16142],\n",
              " [4433, 5369, 16143],\n",
              " [9578, 5370, 681, 33, 3814, 749],\n",
              " [136, 3327, 16144, 9579, 16145, 16146, 2618, 1324],\n",
              " [2384, 307],\n",
              " [496, 204, 2962, 2632, 23, 112, 223],\n",
              " [4434, 16147, 9580, 2, 16148, 2954],\n",
              " [1704, 310, 6884, 16149, 16150],\n",
              " [78, 251, 165, 32, 5371, 46, 241],\n",
              " [9581, 1256, 2385, 105, 1979],\n",
              " [226, 160, 6885, 13],\n",
              " [2963, 336, 16151, 629, 16152],\n",
              " [16153, 2, 1705, 99, 2149],\n",
              " [50, 16154, 6886, 2386, 276],\n",
              " [16155, 275, 16156, 16157, 21, 3815],\n",
              " [5372, 131, 682, 368],\n",
              " [16158, 16159, 50, 451, 4435, 155, 524, 16160],\n",
              " [48, 2641, 646, 1841, 2642, 16161],\n",
              " [52, 594, 1706, 92, 10, 61],\n",
              " [21, 1410, 9582, 16162],\n",
              " [1411, 16163, 16164, 16165, 1586, 9, 16166],\n",
              " [44, 682, 229],\n",
              " [760, 16167, 5373, 142, 5374],\n",
              " [1587, 55],\n",
              " [110, 154, 27, 9583, 2643, 16168],\n",
              " [16169, 9584],\n",
              " [3328, 1412, 21, 3303, 864, 330],\n",
              " [17, 16170],\n",
              " [5310, 33, 16171, 9585],\n",
              " [605, 3294, 873, 14],\n",
              " [39, 5375, 1, 16172, 101],\n",
              " [9586],\n",
              " [3816, 60, 9587, 1488, 46, 123],\n",
              " [906, 6887, 6888, 2361, 109, 9482, 109, 172, 2638, 16173],\n",
              " [528, 1248, 381, 24],\n",
              " [3817, 1842, 256, 16174, 41, 20, 2644, 45, 69],\n",
              " [5376, 256, 1843],\n",
              " [16175, 535, 1, 94, 553, 236, 9588, 80, 234, 138, 569],\n",
              " [395, 16176, 926, 5377, 4436],\n",
              " [16177, 16178, 16179, 2645, 67, 64],\n",
              " [468, 305, 131],\n",
              " [3818, 995, 3819, 86],\n",
              " [3820, 16180, 88, 6889],\n",
              " [5378, 1844, 6890],\n",
              " [2964, 16181, 98, 9589, 16182],\n",
              " [74, 1707, 174, 725],\n",
              " [16183, 16184, 10, 6891],\n",
              " [16185, 19, 25],\n",
              " [679, 31, 2965, 500],\n",
              " [1980, 2387, 1129, 15, 16186],\n",
              " [16187, 37],\n",
              " [16188, 5379, 55],\n",
              " [16189,\n",
              "  6892,\n",
              "  2388,\n",
              "  157,\n",
              "  6893,\n",
              "  6894,\n",
              "  2646,\n",
              "  2966,\n",
              "  2338,\n",
              "  72,\n",
              "  16190,\n",
              "  1190,\n",
              "  1067,\n",
              "  157,\n",
              "  16191,\n",
              "  1000,\n",
              "  110,\n",
              "  801,\n",
              "  750,\n",
              "  803,\n",
              "  427,\n",
              "  647,\n",
              "  6895,\n",
              "  4437,\n",
              "  16192],\n",
              " [2150, 2, 648],\n",
              " [3821, 19, 195],\n",
              " [16193, 16194, 16195],\n",
              " [16196, 16197, 93, 141, 5380, 967, 5380],\n",
              " [9590, 6896, 16198],\n",
              " [1244, 2967, 726, 2968, 90, 156, 9591, 2151],\n",
              " [9592, 9593, 6897],\n",
              " [16199],\n",
              " [9594],\n",
              " [212, 3306, 387, 372, 124],\n",
              " [1483, 280],\n",
              " [809, 9, 76, 26],\n",
              " [4438, 9595, 16200],\n",
              " [2389, 16201],\n",
              " [16202, 9, 4439],\n",
              " [6898, 42],\n",
              " [16203, 6899],\n",
              " [5381, 9596, 16204],\n",
              " [342, 73],\n",
              " [6900],\n",
              " [6901, 47, 16205, 77],\n",
              " [16206, 344, 1981],\n",
              " [6902, 16207, 4440],\n",
              " [275, 1231, 73, 20, 25],\n",
              " [6903, 73, 2152, 19, 5382, 159],\n",
              " [2647, 16208],\n",
              " [17, 16209, 2153, 38],\n",
              " [1588, 30, 2154, 233, 34, 91, 264],\n",
              " [1325],\n",
              " [15, 374, 3329, 25],\n",
              " [1589, 16210],\n",
              " [16211],\n",
              " [1250, 96],\n",
              " [2390, 3330],\n",
              " [8, 54, 6904, 18, 29],\n",
              " [1024, 3331, 189],\n",
              " [1390, 6905, 424, 61],\n",
              " [97, 182],\n",
              " [16212, 4],\n",
              " [1498, 1845, 1234, 5383],\n",
              " [16213, 16214],\n",
              " [9597],\n",
              " [6, 97, 173, 16215, 13],\n",
              " [16216, 306],\n",
              " [5384, 9598, 16217, 34, 1982, 4441, 6906, 16218],\n",
              " [63, 4442, 3332, 1708],\n",
              " [313, 519, 245, 359, 38],\n",
              " [16219, 606, 6750, 6907, 16220, 446, 2969],\n",
              " [570, 4443, 14],\n",
              " [286, 4359, 16221, 1709],\n",
              " [16222, 16223, 9599],\n",
              " [16224],\n",
              " [5348, 37, 3822, 3],\n",
              " [6908, 2155],\n",
              " [2648, 9600, 476, 15, 63, 350],\n",
              " [6909, 6910, 16225, 307],\n",
              " [2970, 16226, 16227],\n",
              " [16228, 11],\n",
              " [16229, 2649, 571, 16230, 9601],\n",
              " [477, 237, 16231, 106, 9602, 9603, 53],\n",
              " [9604, 16232, 9605],\n",
              " [52, 9606, 16233, 16234, 16235],\n",
              " [5385, 21, 6911],\n",
              " [412, 810, 811, 229],\n",
              " [4444],\n",
              " [16236, 245, 9607, 1844, 968],\n",
              " [244, 3823, 9608, 1, 571, 2115],\n",
              " [216, 1326, 1846, 772, 6912, 38],\n",
              " [16237, 16238, 9609, 3824, 208, 1407],\n",
              " [907, 16239, 252, 1413, 7, 1846, 6897],\n",
              " [2650],\n",
              " [16240, 16241, 2971, 217, 448, 16242, 22],\n",
              " [117, 2148],\n",
              " [16243, 55, 126],\n",
              " [16244],\n",
              " [107, 16245, 234, 16246, 6913],\n",
              " [2391, 683, 2156, 16247],\n",
              " [9610, 18, 262, 209, 2651],\n",
              " [16248, 16249, 6914, 2652, 16250, 98, 26],\n",
              " [480, 9611, 7, 1962],\n",
              " [52, 607, 1252, 16251, 470, 234, 28, 921, 203],\n",
              " [97, 2653, 82, 16252, 208, 16253, 45],\n",
              " [142, 8, 382, 2972, 9612, 6901, 16254, 727, 16255],\n",
              " [15, 5386, 2392, 1050, 9613, 9614, 608, 88, 14],\n",
              " [16256, 16257, 65, 16258, 16259, 1710, 594],\n",
              " [5387, 3333, 859],\n",
              " [1019, 5388, 55, 22],\n",
              " [16260, 16261],\n",
              " [3334, 676, 32, 1191, 145],\n",
              " [51, 10, 609, 16262],\n",
              " [3825, 16263],\n",
              " [6797, 16264],\n",
              " [9615, 1326, 969, 3],\n",
              " [16265, 16266],\n",
              " [16267, 16268, 81, 16269, 16270, 2930, 5389],\n",
              " [520, 147, 9616, 16271],\n",
              " [5390, 1001, 151, 3],\n",
              " [16272, 16273, 5, 1414],\n",
              " [75, 1499, 147, 1847],\n",
              " [386, 8, 16274, 16275, 5391, 57, 2654, 89, 15, 13],\n",
              " [415, 51, 947, 51, 32, 16276],\n",
              " [4445, 9617, 514, 572, 684, 23, 18, 1055, 206],\n",
              " [676, 2121, 1192, 4446, 16277, 9618, 484],\n",
              " [640, 3335, 70],\n",
              " [16278, 6915, 16279, 9619, 2331],\n",
              " [6916, 2655],\n",
              " [16280, 16281, 16282],\n",
              " [16283],\n",
              " [566, 16284, 16285, 16286],\n",
              " [16287, 6917, 16288, 1193, 5],\n",
              " [16289],\n",
              " [471, 2393, 5392, 16290, 16291, 9620, 6918, 77],\n",
              " [2656, 242, 589, 1415, 248, 190],\n",
              " [381, 122],\n",
              " [513, 1114, 296, 2394, 927, 99],\n",
              " [373, 3336, 112, 128],\n",
              " [16292, 127, 399, 16293, 192, 2157],\n",
              " [6919, 401, 277, 2639, 1500, 4447, 5393, 58, 421, 1848],\n",
              " [300, 6920],\n",
              " [16294],\n",
              " [16295, 102, 6921, 6922, 3826, 11],\n",
              " [970, 214, 9621, 24],\n",
              " [511, 536, 514, 1257, 5394, 622],\n",
              " [9622, 402, 16296, 16297, 6923, 361, 6924, 16298],\n",
              " [397, 16299, 90, 1849, 6855],\n",
              " [63, 6768, 18, 685],\n",
              " [5395, 1, 6925, 16300],\n",
              " [1414, 16301, 497],\n",
              " [1416, 2973, 928, 1711],\n",
              " [4448, 3827, 535],\n",
              " [16302, 1258, 16303, 9, 2974, 3828],\n",
              " [9623, 6751, 66, 6926, 6, 468, 7, 840],\n",
              " [8, 54, 9624, 4449, 522],\n",
              " [1395, 1, 4450, 16304, 9625, 310, 369],\n",
              " [946, 16305],\n",
              " [483, 95, 547],\n",
              " [16306, 3, 9626, 686],\n",
              " [9627, 9628, 323],\n",
              " [6, 1002, 75, 1259, 230],\n",
              " [16307],\n",
              " [104, 6927],\n",
              " [16308, 226, 16309, 6928, 1501, 15, 2969, 354, 5389],\n",
              " [16310],\n",
              " [3829, 16311, 16312, 535],\n",
              " [272, 1839, 6929, 6930, 6931],\n",
              " [16313, 16314, 306, 580, 3],\n",
              " [4451, 16315, 4452],\n",
              " [16316, 206],\n",
              " [97, 9629, 3830, 38],\n",
              " [751, 11],\n",
              " [475, 2657, 2658, 7, 315],\n",
              " [5396, 5397, 5398],\n",
              " [3337, 6932, 155, 9630, 16317, 725],\n",
              " [3831, 16318, 271, 8, 146, 2130, 1983, 16319, 627, 36],\n",
              " [566, 33, 16320, 16321, 16322, 290],\n",
              " [16323, 1481, 537, 13],\n",
              " [356, 793],\n",
              " [5399],\n",
              " [9631, 9632, 3338, 2975, 16324],\n",
              " [16325, 4453],\n",
              " [16326],\n",
              " [2654, 4],\n",
              " [971, 361, 9633, 18, 9634],\n",
              " [16327, 109],\n",
              " [16328],\n",
              " [5396],\n",
              " [16329],\n",
              " [746, 16330, 16331, 16332, 16333, 225, 400],\n",
              " ...]"
            ]
          },
          "metadata": {
            "tags": []
          },
          "execution_count": 30
        }
      ]
    },
    {
      "cell_type": "code",
      "metadata": {
        "id": "0_3euExhruuv",
        "outputId": "fdaca22d-ece1-459d-a16c-55676a26e9ac",
        "colab": {
          "base_uri": "https://localhost:8080/"
        }
      },
      "source": [
        "t_X_encoded = t.texts_to_sequences(test_sentence)\n",
        "t_X_encoded"
      ],
      "execution_count": 31,
      "outputs": [
        {
          "output_type": "execute_result",
          "data": {
            "text/plain": [
              "[[],\n",
              " [7733, 1, 485, 29],\n",
              " [3337, 1714],\n",
              " [3573, 168, 701, 39, 394],\n",
              " [745, 225, 14],\n",
              " [566, 305, 428, 3],\n",
              " [2654, 4, 31, 65, 4],\n",
              " [8812, 2588, 5153, 10, 298, 2732],\n",
              " [3165, 58, 203],\n",
              " [26384, 4742, 45036, 1322, 95, 176],\n",
              " [186],\n",
              " [],\n",
              " [8616, 40776, 638, 1216, 47],\n",
              " [15826, 5792],\n",
              " [286, 62, 3029, 39270, 515],\n",
              " [],\n",
              " [8, 5079, 5573, 401, 1067, 228, 487],\n",
              " [1747, 2, 13],\n",
              " [148, 9633, 580, 3],\n",
              " [1062, 3933],\n",
              " [2343, 638, 302, 3421, 8, 1213, 237],\n",
              " [5645, 278, 28004, 406],\n",
              " [204, 451, 23, 128],\n",
              " [433],\n",
              " [4200, 1392, 123],\n",
              " [146, 305, 342, 4094],\n",
              " [3876, 4],\n",
              " [6399, 1882],\n",
              " [],\n",
              " [978, 1195, 4101, 978],\n",
              " [326, 1500],\n",
              " [11782, 213],\n",
              " [604, 322, 22617, 1463, 25],\n",
              " [9859, 343, 716],\n",
              " [136, 333, 217, 1243, 76],\n",
              " [39353, 1449],\n",
              " [1505, 359, 11871, 685, 9],\n",
              " [47267, 30797],\n",
              " [510],\n",
              " [57, 630, 10460],\n",
              " [14760, 134, 134, 423, 11443, 32, 16676, 267, 423, 5688],\n",
              " [],\n",
              " [138, 73, 4634, 19, 195],\n",
              " [2058, 1273, 2099, 145, 538, 5158, 31],\n",
              " [50, 2, 635],\n",
              " [14712, 2522, 15029, 2, 82, 882, 7, 3],\n",
              " [3547, 1681, 1831, 2162, 2122, 38],\n",
              " [17, 8460],\n",
              " [45495, 45496, 65, 4005, 45497],\n",
              " [263, 5],\n",
              " [4923, 539],\n",
              " [],\n",
              " [661, 183, 1151, 2140],\n",
              " [253, 793],\n",
              " [129],\n",
              " [3188, 9739, 1],\n",
              " [2413, 16608, 1056, 53],\n",
              " [414, 34, 172, 11, 49],\n",
              " [3011, 406, 215, 656, 3141, 1788, 41, 757, 594, 13],\n",
              " [6603, 990, 454, 13974, 15308],\n",
              " [3522, 6325, 2075, 6577],\n",
              " [1275, 46144, 3399, 1847],\n",
              " [31178, 735, 407, 364],\n",
              " [],\n",
              " [],\n",
              " [173, 2036],\n",
              " [1497, 122, 1817, 72, 26],\n",
              " [2250, 605],\n",
              " [164, 49909, 2481, 137],\n",
              " [9379, 717, 3046, 3794],\n",
              " [215, 31142, 48554, 111, 112, 3111],\n",
              " [1357, 904, 143, 34074, 134, 8255, 8539, 152],\n",
              " [1008, 5942, 4, 999, 34, 250, 264],\n",
              " [57, 2171, 24, 2915, 844, 4941],\n",
              " [675, 2471, 1733, 29],\n",
              " [8599, 11725],\n",
              " [],\n",
              " [2466, 347, 177],\n",
              " [52, 18, 692, 181, 1361],\n",
              " [9179, 1012, 6150, 24363, 113],\n",
              " [138, 266, 45, 137, 86],\n",
              " [50198, 35, 1811, 1003, 9403, 636, 7270, 282, 1517, 64],\n",
              " [677, 229],\n",
              " [291, 684, 360, 3857, 13925, 642, 16, 5],\n",
              " [3073],\n",
              " [41756, 9426, 10607],\n",
              " [],\n",
              " [505, 2, 13],\n",
              " [4232, 2, 170, 41, 77],\n",
              " [30006, 32, 26194, 7010],\n",
              " [],\n",
              " [1129],\n",
              " [3536, 7529, 360, 71, 786, 64, 133],\n",
              " [291, 154, 71, 17515],\n",
              " [],\n",
              " [75, 1576],\n",
              " [1468, 1698, 34010, 11954, 31211, 183, 234, 715, 152, 5],\n",
              " [3120, 31, 7654, 5163, 6238, 3],\n",
              " [26660],\n",
              " [576],\n",
              " [170, 326, 672, 1, 78, 251, 724, 254],\n",
              " [639, 41567],\n",
              " [11, 53],\n",
              " [231],\n",
              " [278, 2029, 121, 251, 2040, 32910, 111, 234, 28, 584],\n",
              " [],\n",
              " [22160, 694],\n",
              " [],\n",
              " [946, 45483, 87, 42815, 13913, 9, 67, 26],\n",
              " [1397, 45, 205],\n",
              " [393, 335, 204, 4638, 5],\n",
              " [7158, 346],\n",
              " [304, 7186, 431],\n",
              " [1098, 2019, 44, 108, 178],\n",
              " [74, 2124, 35, 458],\n",
              " [1453, 763],\n",
              " [1935, 169, 569, 993, 884, 1333, 737, 6363, 2994],\n",
              " [135, 439, 4],\n",
              " [175, 173, 23],\n",
              " [1006, 31, 109, 389, 4095, 19, 42],\n",
              " [2896],\n",
              " [34914, 11],\n",
              " [152, 1617],\n",
              " [],\n",
              " [50, 18, 635],\n",
              " [679, 31, 4842, 1527, 25],\n",
              " [12971, 749, 423, 6306, 209, 2, 10, 61],\n",
              " [2097, 70],\n",
              " [7420],\n",
              " [328, 4796],\n",
              " [8, 8735, 8, 338, 521, 5573, 7266, 75, 804, 487],\n",
              " [7185, 509, 398],\n",
              " [90, 4040, 205],\n",
              " [277, 6262, 1373, 19508, 228, 915],\n",
              " [136, 2940, 2069, 774, 30061, 380, 1038, 5504, 2450],\n",
              " [7829, 11133],\n",
              " [39744, 21708, 4674, 560, 2563, 69],\n",
              " [8019, 1346, 648],\n",
              " [63, 27, 374, 1110, 33524, 10833],\n",
              " [72],\n",
              " [2614, 30080, 283, 1904, 53],\n",
              " [1098, 2847, 665, 1107, 661, 49375, 2054],\n",
              " [2054, 210, 6555, 21894, 144, 2233, 209, 324, 1945, 87, 18832, 28, 1363],\n",
              " [903, 10952],\n",
              " [70, 25],\n",
              " [496, 16501, 288, 332, 68],\n",
              " [48, 52, 180, 2, 6648],\n",
              " [456, 2230],\n",
              " [3244, 5209, 5154, 1444],\n",
              " [893],\n",
              " [1149],\n",
              " [1441, 1393, 9604, 8374, 5],\n",
              " [146, 183, 34474, 46, 473],\n",
              " [44453, 2716, 29],\n",
              " [1754, 51, 7993, 429],\n",
              " [5322, 685, 1421, 10325, 4398],\n",
              " [12719, 522, 1193, 4242, 189],\n",
              " [15397, 27184, 372],\n",
              " [3792, 4377, 8190, 4, 4907, 11731],\n",
              " [8870, 34, 9, 67, 40],\n",
              " [1180, 11476, 8, 2403, 9666, 738, 65, 1854],\n",
              " [132],\n",
              " [6292, 11],\n",
              " [3154],\n",
              " [226, 1550, 1927, 81, 9, 1557, 185],\n",
              " [344, 11],\n",
              " [1448, 34509, 9883],\n",
              " [1731],\n",
              " [11404, 4860, 585, 400],\n",
              " [10897],\n",
              " [59, 48, 944, 1312, 1170],\n",
              " [20],\n",
              " [2629, 637, 25],\n",
              " [37597, 2822, 22905],\n",
              " [345, 93, 6240, 19682, 49945, 4937],\n",
              " [6, 2467, 2059],\n",
              " [20, 12],\n",
              " [5313, 1081, 4, 14192, 13],\n",
              " [62, 1216],\n",
              " [455, 136, 52173, 209, 277, 123, 28, 3875, 189],\n",
              " [1043, 31, 156, 1876],\n",
              " [100, 194, 1792, 169],\n",
              " [17, 21691, 30561],\n",
              " [511, 684, 360, 3857, 891, 642, 16, 5],\n",
              " [87, 361, 11, 49, 280, 624, 48145, 4491],\n",
              " [48, 192, 1775, 144, 911, 3],\n",
              " [105],\n",
              " [1252, 1252, 58, 31784, 93],\n",
              " [216, 125, 603, 1960, 1542, 3207, 7078, 3768, 91, 261],\n",
              " [],\n",
              " [1081, 8037, 282, 474, 571, 1081, 8037, 39886, 1618, 1892],\n",
              " [19],\n",
              " [3838, 13191, 470, 61],\n",
              " [504],\n",
              " [5897, 133],\n",
              " [3698, 13103, 4754, 130],\n",
              " [60, 26215, 11594, 7, 18],\n",
              " [188, 387, 31, 14, 49],\n",
              " [18501, 143],\n",
              " [1468, 6686, 3209, 3836, 38],\n",
              " [238, 121, 938],\n",
              " [],\n",
              " [142, 581, 3642, 255, 29370, 154, 13],\n",
              " [961, 3258, 1057],\n",
              " [2587],\n",
              " [19, 166],\n",
              " [1066, 6368, 1038, 6368, 106],\n",
              " [9260, 12],\n",
              " [2619],\n",
              " [1234, 25, 133, 133],\n",
              " [],\n",
              " [682, 122],\n",
              " [1373, 7, 4160],\n",
              " [115],\n",
              " [6, 420, 451, 204, 352, 223],\n",
              " [50, 9694, 4496, 11502],\n",
              " [3659],\n",
              " [13],\n",
              " [7, 315],\n",
              " [6392, 56, 374, 2193],\n",
              " [534],\n",
              " [7372, 25],\n",
              " [426, 27617, 149, 4677],\n",
              " [8730, 2250],\n",
              " [393, 5051],\n",
              " [1473, 3196],\n",
              " [1036, 23323, 157, 1731, 1131, 29],\n",
              " [761, 11],\n",
              " [272, 322, 4320, 139, 1402],\n",
              " [5070, 5115],\n",
              " [44, 51248, 24],\n",
              " [],\n",
              " [497, 378],\n",
              " [17611],\n",
              " [8, 5095, 8],\n",
              " [],\n",
              " [5639],\n",
              " [108, 417, 146, 8375, 310, 503],\n",
              " [20, 42],\n",
              " [1417, 1798],\n",
              " [36845],\n",
              " [],\n",
              " [1221, 1757],\n",
              " [162, 3245, 74, 1881, 23961],\n",
              " [909, 291, 1706, 47, 92, 1164],\n",
              " [3283, 53909, 41309],\n",
              " [235, 120, 10580],\n",
              " [160, 523, 693, 2, 487],\n",
              " [732, 364],\n",
              " [4946, 3738, 27, 53],\n",
              " [50180, 799, 2086],\n",
              " [623, 1178, 8716, 454, 1417, 3833, 32, 65, 521, 7, 3],\n",
              " [2569, 694, 268, 1792, 13615],\n",
              " [2397, 150, 7754, 1478, 30369, 48554, 111, 757, 49607, 26421, 77],\n",
              " [132, 10238, 1, 224, 10027, 412],\n",
              " [1225, 50393],\n",
              " [338, 5715],\n",
              " [3699, 11],\n",
              " [7353, 5041],\n",
              " [1165, 1424, 375, 1101, 7993, 369],\n",
              " [556, 2813, 2249, 1656, 369],\n",
              " [196, 1187],\n",
              " [6908, 2855],\n",
              " [824, 1, 2473, 2260],\n",
              " [],\n",
              " [1905, 14954, 75, 459],\n",
              " [216, 103, 3484, 51, 3495, 4232, 1708],\n",
              " [],\n",
              " [9986, 1017, 7074, 28858, 4354, 304, 458],\n",
              " [6727],\n",
              " [6, 83, 304, 300, 16412, 21793],\n",
              " [1920, 7, 3],\n",
              " [4779, 37547],\n",
              " [13306, 3768, 851, 261],\n",
              " [164, 1469, 608, 19, 14, 49],\n",
              " [7527, 25],\n",
              " [1732, 1433],\n",
              " [4569, 38223, 183, 450],\n",
              " [424, 434, 66],\n",
              " [103, 145],\n",
              " [1063, 2805, 5979],\n",
              " [3121, 122],\n",
              " [383, 39193, 65, 9, 40],\n",
              " [546],\n",
              " [5091],\n",
              " [498, 465, 2856],\n",
              " [116, 21894, 1014, 5129],\n",
              " [7, 3],\n",
              " [59, 358, 6176, 2113, 86],\n",
              " [115, 43, 37589],\n",
              " [4990, 1168, 489, 350],\n",
              " [207],\n",
              " [21, 910, 1184, 11550, 727, 14793, 145],\n",
              " [],\n",
              " [41018, 22],\n",
              " [1414, 31499, 113],\n",
              " [6, 78, 260, 648],\n",
              " [],\n",
              " [3120, 205],\n",
              " [509, 27, 2901, 864, 2, 10, 1174, 775, 47],\n",
              " [1971, 1187],\n",
              " [1751, 7],\n",
              " [1373, 4976],\n",
              " [115, 1041, 8680, 11586, 372, 39462],\n",
              " [121, 18, 81, 9, 578],\n",
              " [10695, 2517, 10696, 3978, 6833, 12729, 48559],\n",
              " [300, 13, 414],\n",
              " [1269, 848, 75, 2816],\n",
              " [51455, 44689, 38],\n",
              " [2388, 6184, 1673, 16584, 18, 43, 9155],\n",
              " [],\n",
              " [1962, 1925],\n",
              " [132, 633, 3558, 4563],\n",
              " [220, 111, 3003],\n",
              " [1789, 322, 1463, 137],\n",
              " [14788, 47582],\n",
              " [652, 3084, 134, 6631, 109, 95, 36],\n",
              " [1231],\n",
              " [780, 50, 6508],\n",
              " [],\n",
              " [1084, 10, 290],\n",
              " [414, 34, 1, 6, 468, 56, 7],\n",
              " [43901],\n",
              " [],\n",
              " [62, 16425, 5148],\n",
              " [207, 31],\n",
              " [1537, 2592, 5623, 227, 16, 5],\n",
              " [1194, 96],\n",
              " [1080, 43597, 65, 4],\n",
              " [5523, 15, 3437, 2091, 464, 61],\n",
              " [63, 2, 27, 827, 308, 2, 13, 913, 157, 1543, 117],\n",
              " [141, 6236, 7207, 988, 748, 31476],\n",
              " [805, 33741, 9, 34, 40],\n",
              " [469, 50122, 808, 108],\n",
              " [2059, 42],\n",
              " [20087, 124],\n",
              " [9243, 406, 80, 470, 6273],\n",
              " [1588, 9, 35756],\n",
              " [576, 97],\n",
              " [6474, 729],\n",
              " [180, 413, 82, 1077, 10, 53],\n",
              " [6, 1686, 688],\n",
              " [985, 1733, 5391, 27454],\n",
              " [220, 111, 123],\n",
              " [104, 43123, 742],\n",
              " [7463, 4037, 40235, 5],\n",
              " [4100, 3061, 1000, 858, 461, 12194],\n",
              " [24366, 5037, 2856],\n",
              " [14747],\n",
              " [52, 8, 35, 1102, 18, 688, 28, 584],\n",
              " [2970, 287],\n",
              " [],\n",
              " [6720, 22],\n",
              " [],\n",
              " [383, 1676, 612],\n",
              " [163, 363, 11],\n",
              " [259, 45189],\n",
              " [2338, 125, 98, 68],\n",
              " [47, 1992, 977],\n",
              " [807, 102, 6056, 24, 4528, 76, 37, 4026],\n",
              " [105, 784, 8858],\n",
              " [75, 13207, 3080],\n",
              " [3140],\n",
              " [17, 17, 52863],\n",
              " [13560, 3997, 1311, 82, 397, 27330, 7202],\n",
              " [1460, 4073, 29731],\n",
              " [27, 319, 57, 536, 10186],\n",
              " [43, 1931, 171, 11868],\n",
              " [1592, 6, 197, 7, 106, 802, 453, 269],\n",
              " [4389, 1542, 51, 1408],\n",
              " [744, 2243, 7184, 121, 482],\n",
              " [2295, 2924],\n",
              " [456, 37, 12759, 1611, 1719, 9427],\n",
              " [1172, 4191, 18133, 19],\n",
              " [408],\n",
              " [245, 611],\n",
              " [838, 24, 99],\n",
              " [2789],\n",
              " [4188, 4624],\n",
              " [346],\n",
              " [343, 12],\n",
              " [1401, 5619, 11],\n",
              " [1935, 528, 122, 476, 122],\n",
              " [33737],\n",
              " [43566, 27847, 507, 4],\n",
              " [19579, 12212, 53597, 206],\n",
              " [35, 348, 1159, 316, 776, 6566, 5688],\n",
              " [214, 892, 298, 265, 10, 58, 136, 67, 64],\n",
              " [849, 434, 167, 149, 29, 10, 983],\n",
              " [87, 13239, 4365, 370, 9, 6666],\n",
              " [6637, 7376],\n",
              " [10794,\n",
              "  71,\n",
              "  170,\n",
              "  41,\n",
              "  757,\n",
              "  63,\n",
              "  410,\n",
              "  46650,\n",
              "  361,\n",
              "  14631,\n",
              "  249,\n",
              "  9561,\n",
              "  413,\n",
              "  1044,\n",
              "  41,\n",
              "  77],\n",
              " [1425, 290],\n",
              " [2720, 3240, 167, 103, 801, 1141, 9602, 913, 1, 7479],\n",
              " [15, 165],\n",
              " [31289, 20770],\n",
              " [44218, 239, 1493, 419, 2638, 3791, 58, 282, 3028, 1087],\n",
              " [687, 1122, 350],\n",
              " [408, 1714],\n",
              " [2554, 1624, 12],\n",
              " [9300, 1906, 316, 2890, 2154, 233, 91, 264],\n",
              " [4549, 193, 866],\n",
              " [274, 763, 12],\n",
              " [1809, 5140, 1246, 19, 12],\n",
              " [7487, 95, 4244],\n",
              " [226, 6109, 8525, 1998],\n",
              " [26186, 76, 8592, 1077, 574, 153, 2067, 385],\n",
              " [2687],\n",
              " [45, 205],\n",
              " [124],\n",
              " [37475, 2540, 57, 481],\n",
              " [46180, 129, 312],\n",
              " [59, 2636, 37620],\n",
              " [1252, 6, 1751, 7, 399],\n",
              " [],\n",
              " [7682, 2700, 18, 77],\n",
              " [45353, 79, 2019, 432, 4892, 1059],\n",
              " [],\n",
              " [300, 2381, 30, 224, 12],\n",
              " [107, 51736, 11080, 2008, 13925, 642, 16, 5],\n",
              " [3039],\n",
              " [3352, 83, 4, 31, 6278],\n",
              " [766, 1034, 663, 49202, 9, 26],\n",
              " [3376, 238, 97, 120, 46, 276],\n",
              " [],\n",
              " [19, 981, 5102, 431, 47472],\n",
              " [386, 2285, 25],\n",
              " [1547, 793, 29023, 132],\n",
              " [37011],\n",
              " [14955, 4573],\n",
              " [916, 3041],\n",
              " [27, 4137, 26],\n",
              " [4503, 4859],\n",
              " [7402, 943, 4256, 256, 8603],\n",
              " [586, 36434, 133],\n",
              " [7, 2, 96],\n",
              " [50273, 50274, 166],\n",
              " [8, 2058, 37682],\n",
              " [39500, 19, 1925],\n",
              " [5819],\n",
              " [1536, 462, 312, 5],\n",
              " [42873, 13152],\n",
              " [783, 94, 2440, 3747],\n",
              " [4796, 112, 128],\n",
              " [1620, 138],\n",
              " [326, 1271, 755, 97, 302, 108, 178, 5602, 46, 241],\n",
              " [468, 3329],\n",
              " [37966, 22],\n",
              " [494, 4, 139],\n",
              " [1129, 25608],\n",
              " [1034, 351, 458, 361, 205],\n",
              " [160, 54, 858, 625, 4, 3],\n",
              " [6, 1581, 4],\n",
              " [],\n",
              " [38198, 677],\n",
              " [13542, 3236, 18, 21, 1332, 552],\n",
              " [13623, 7088, 450],\n",
              " [2070, 143, 3038],\n",
              " [],\n",
              " [644],\n",
              " [860, 4110, 41866, 1959, 98, 68],\n",
              " [],\n",
              " [63, 1889, 2925, 1726],\n",
              " [651, 47, 28, 583, 27441, 267],\n",
              " [5147, 6559, 24483, 882, 9574, 1217, 425, 5],\n",
              " [22410, 229],\n",
              " [],\n",
              " [],\n",
              " [2077],\n",
              " [2726, 413, 1367, 47565],\n",
              " [12344, 108, 1, 8, 485, 29],\n",
              " [143, 160, 479, 22975, 33808, 47, 4],\n",
              " [26748, 1, 240, 4581, 13913, 233, 41991],\n",
              " [2338, 2178, 1760, 124],\n",
              " [9, 1444],\n",
              " [15597],\n",
              " [357, 6773, 41759, 58, 252, 1623],\n",
              " [13212, 765, 377, 3029, 31796, 13059, 972, 5],\n",
              " [135, 439, 7, 3],\n",
              " [543, 2301, 2154, 1932, 103, 189],\n",
              " [909, 110, 4, 329, 731, 3381, 14, 49],\n",
              " [39319, 146, 453],\n",
              " [104, 273, 1712, 2490, 1545, 283, 1904, 53],\n",
              " [162, 150, 401, 319, 82, 38045],\n",
              " [1057, 539],\n",
              " [4818, 37797],\n",
              " [17, 4960, 2386, 582],\n",
              " [182, 21, 4172],\n",
              " [5854, 10, 2036],\n",
              " [7782, 5876, 92, 24857],\n",
              " [2075, 6087, 376],\n",
              " [160, 2636, 48361, 606, 29],\n",
              " [1043, 75, 1058, 43418, 7395],\n",
              " [276],\n",
              " [49270, 624, 5],\n",
              " [1060, 5242, 218, 192, 258],\n",
              " [2720, 231],\n",
              " [62, 2, 27, 499],\n",
              " [345, 1887, 20, 4158],\n",
              " [],\n",
              " [735, 21, 4398, 2620, 3660, 6823, 369],\n",
              " [1593, 1791, 111, 5457],\n",
              " [52, 607, 142, 15, 60, 1038, 3696, 2634],\n",
              " [45303, 14, 49],\n",
              " [],\n",
              " [75, 707],\n",
              " [],\n",
              " [17412, 1039],\n",
              " [247, 9206],\n",
              " [12],\n",
              " [14165, 1326, 18, 123],\n",
              " [89, 476, 3450],\n",
              " [44, 3143],\n",
              " [21, 1188, 12678, 110],\n",
              " [13641, 351],\n",
              " [11640, 8778],\n",
              " [15],\n",
              " [97],\n",
              " [59, 2430, 2772, 25],\n",
              " [1149, 31, 138],\n",
              " [298, 159],\n",
              " [1857],\n",
              " [62, 13],\n",
              " [4304, 1290, 20, 139],\n",
              " [992, 12, 992, 11878, 4685],\n",
              " [239, 876, 24],\n",
              " [1, 308, 4540, 173],\n",
              " [2106, 1202],\n",
              " [10233, 3460],\n",
              " [11534, 12823],\n",
              " [132, 45, 205],\n",
              " [16114, 1814, 225, 892, 177],\n",
              " [50019, 146, 118, 444, 421],\n",
              " [1060, 146, 4368, 96],\n",
              " [922, 621, 2953, 283, 1806, 77],\n",
              " [5157, 107, 470, 1189, 2295, 63, 6870, 3],\n",
              " [49],\n",
              " [],\n",
              " [48, 52, 7569, 4442, 3332, 71, 2095, 983],\n",
              " [303, 213],\n",
              " [6859, 6, 83, 11014, 7, 3],\n",
              " [6593, 108, 52438, 50404, 7920, 98, 68],\n",
              " [6, 100, 108, 4995, 81, 100, 214, 351],\n",
              " [9846, 331],\n",
              " [850, 210, 392, 1947, 2386, 1371, 2678, 1000, 1969, 789, 23, 18493],\n",
              " [146, 317, 7164],\n",
              " [7146, 7, 23, 1052, 7971, 921, 189],\n",
              " [47, 155, 692],\n",
              " [141, 150, 606, 1421, 104, 13],\n",
              " [414, 126],\n",
              " [2507, 5277, 84, 325, 5445, 35331],\n",
              " [2965, 83],\n",
              " [433, 274, 4],\n",
              " [54, 633],\n",
              " [178, 1493, 4988, 1446],\n",
              " [4894, 31, 41463, 385],\n",
              " [14595, 236],\n",
              " [36110, 826],\n",
              " [59, 52042, 12],\n",
              " [1743, 2831],\n",
              " [25200, 257, 26],\n",
              " [],\n",
              " [779, 161, 435, 2, 13],\n",
              " [125, 8866],\n",
              " [286, 2238, 368, 24],\n",
              " [11865, 2806, 2968, 627, 3654],\n",
              " [8, 1847],\n",
              " [3720, 9063, 3477, 68],\n",
              " [49476, 177],\n",
              " [53250, 1253, 40],\n",
              " [],\n",
              " [4586, 27, 5249, 19, 12949],\n",
              " [],\n",
              " [2855, 1618, 298, 93, 888, 4424],\n",
              " [336, 2601, 942],\n",
              " [3973, 549, 195],\n",
              " [1799, 48016, 1224, 6383, 3602, 108],\n",
              " [11568, 1399, 11],\n",
              " [1210, 515, 16, 444, 2226, 335, 38],\n",
              " [],\n",
              " [344, 14, 49],\n",
              " [377, 7, 23, 862],\n",
              " [1587, 19, 87, 12],\n",
              " [121, 2425],\n",
              " [521, 4583, 556, 158, 1053, 50],\n",
              " [319],\n",
              " [138, 1154, 4751, 10699, 2894],\n",
              " [],\n",
              " [],\n",
              " [3334, 32313, 251, 3789, 5058, 38],\n",
              " [8076, 276, 436, 2345, 600, 35552],\n",
              " [263, 4583, 89],\n",
              " [5776, 188, 1604, 182],\n",
              " [306],\n",
              " [2048, 1685, 10015, 595, 445],\n",
              " [93],\n",
              " [2932, 11],\n",
              " [3718, 39960, 3587, 7152, 140],\n",
              " [21, 27, 82, 25701, 5543],\n",
              " [275, 303, 680, 417, 14020, 418, 131],\n",
              " [594, 41077],\n",
              " [6657, 642, 291, 1322, 92, 10, 234, 9, 76, 1362, 16, 36],\n",
              " [1955, 30, 1, 360, 278, 40],\n",
              " [],\n",
              " [15, 50],\n",
              " [9121, 164, 412, 539, 49],\n",
              " [196, 9856, 1903],\n",
              " [],\n",
              " [14],\n",
              " [],\n",
              " [2418],\n",
              " [10539, 48061, 94, 45, 3377],\n",
              " [35, 20],\n",
              " [],\n",
              " [70, 85, 898],\n",
              " [1395, 1, 115],\n",
              " [608, 19],\n",
              " [53012, 28, 525],\n",
              " [349, 2204, 315],\n",
              " [2216, 14860, 88, 10437, 17946],\n",
              " [859],\n",
              " [202, 2948],\n",
              " [888, 23],\n",
              " [263, 613, 521, 4733, 38],\n",
              " [9136, 4],\n",
              " [1799, 106, 16435, 53],\n",
              " [8301, 4041, 14679, 15630, 6188, 95, 4242],\n",
              " [8, 78, 1047, 705, 8723, 6],\n",
              " [1075, 8, 2860, 727, 38488, 974, 29],\n",
              " [4446, 8594, 979],\n",
              " [92, 10, 352, 6373, 1848],\n",
              " [4372, 11, 3301, 431],\n",
              " [60, 277, 5192, 13760, 3110, 2081, 484],\n",
              " [1819, 10390, 240, 267, 91, 261],\n",
              " [1416, 54, 4, 6702, 1, 84, 8689, 914, 24],\n",
              " [3557, 1670, 2035, 3716, 24, 108, 3074, 205],\n",
              " [14969, 20, 42],\n",
              " [809, 1347, 297, 2207, 95, 1997, 5975],\n",
              " [768, 894],\n",
              " [4483, 657, 5165, 199, 2106],\n",
              " [90, 561, 2170, 129],\n",
              " [205],\n",
              " [1511, 2966, 72, 544, 124, 5],\n",
              " [4037, 457],\n",
              " [92, 2349, 37718, 834, 5654, 9, 34, 198, 40],\n",
              " [18376],\n",
              " [8407, 340, 1762, 3109, 10672],\n",
              " [154, 15, 9867, 265, 3570],\n",
              " [1644, 266, 137],\n",
              " [4583, 9, 578],\n",
              " [43, 4069, 210, 297, 333, 98, 180, 9874, 3438],\n",
              " [326, 298, 23, 115],\n",
              " [849],\n",
              " [814, 7511, 7976, 7511, 1068, 32, 5072],\n",
              " [545, 2012],\n",
              " [1744, 134, 1872, 261, 52078, 11034, 9160],\n",
              " [333, 2246, 165, 1870],\n",
              " [59, 287, 35834, 2777, 717, 2589, 46729],\n",
              " [407, 2686],\n",
              " [],\n",
              " [382, 441],\n",
              " [3424, 78, 1238, 610, 27, 1802, 2558],\n",
              " [2616, 134, 1872, 506],\n",
              " [55],\n",
              " [],\n",
              " [17, 41620, 152, 5],\n",
              " [163, 363, 45, 205, 86],\n",
              " [2384, 38526],\n",
              " [],\n",
              " [52509],\n",
              " [5257, 2126],\n",
              " [136, 884],\n",
              " [13036, 1495],\n",
              " [13966, 923],\n",
              " [367, 823],\n",
              " [66, 5954, 11973, 10088, 464, 317, 189],\n",
              " [1091, 3442],\n",
              " [80, 237, 18905],\n",
              " [9262],\n",
              " [164, 7017, 4494, 518, 1217, 16, 5],\n",
              " [1545, 31922, 516, 18, 923, 28, 583],\n",
              " [41399, 1512, 99],\n",
              " [17, 326, 10, 22],\n",
              " [163, 346],\n",
              " [9207, 4980],\n",
              " [90, 1799, 9623, 107, 6797, 45, 156],\n",
              " [773, 238, 3672, 82, 4686],\n",
              " [17, 4385, 1019, 7999, 1009, 295],\n",
              " [2535, 15, 675, 1853, 3426, 2340],\n",
              " [22],\n",
              " [1369, 226, 106, 4020, 204, 34633, 140],\n",
              " [104, 2, 29, 100, 479, 6],\n",
              " [9385, 527],\n",
              " [100, 1739, 7, 10489],\n",
              " [1690, 924, 112, 9437, 203],\n",
              " [3380, 18, 2352, 267, 221, 11617],\n",
              " [9660],\n",
              " [2115, 146, 7, 33, 370, 58, 136, 67, 40],\n",
              " [12779, 55, 17, 6718],\n",
              " [746, 9170],\n",
              " [7372, 1342],\n",
              " [31217, 183, 1151, 10757, 450],\n",
              " [33306, 5633, 613],\n",
              " [562, 20, 580, 3],\n",
              " [180, 2325, 13],\n",
              " [539, 4113],\n",
              " [48, 52933, 1527, 11, 49],\n",
              " [8192, 210, 764, 30, 8696, 199, 1299, 311, 13252, 37, 176, 2638, 1848],\n",
              " [],\n",
              " [7420],\n",
              " [94, 32294, 464, 2944, 58, 152, 33, 203],\n",
              " [1961, 10152],\n",
              " [1061, 175, 15430, 338, 19001, 5423, 47, 53],\n",
              " [5460, 12],\n",
              " [11382],\n",
              " [355, 1, 180, 13],\n",
              " [6994, 8920, 114, 46960, 152, 33300, 39986, 2411, 10, 482],\n",
              " [17948],\n",
              " [],\n",
              " [1176, 304, 8, 178],\n",
              " [2797, 1236, 35294, 310, 3097, 1880],\n",
              " [3665],\n",
              " [2932, 27164, 2213, 346],\n",
              " [838, 1794, 4],\n",
              " [31],\n",
              " [954, 27768, 1046, 1, 1523],\n",
              " [10591, 1651],\n",
              " [1562, 1779],\n",
              " [306],\n",
              " [313, 960, 13828],\n",
              " [7545],\n",
              " [199, 245, 7533, 31, 79, 1566, 443],\n",
              " [15217, 943],\n",
              " [236, 191, 852, 530, 871],\n",
              " [54],\n",
              " [2497, 174, 5],\n",
              " [5903, 1815],\n",
              " [3207, 4161, 19],\n",
              " [531, 22238, 2611, 7, 23, 302, 404, 6352, 185],\n",
              " [509, 2, 13, 16039, 20358],\n",
              " [47, 37856, 246, 701, 174, 234],\n",
              " [],\n",
              " [],\n",
              " [895],\n",
              " [149, 917, 169, 152, 32256],\n",
              " [11907, 945, 492, 1573, 347, 1255],\n",
              " [10095, 381],\n",
              " [796, 4590, 43607, 697],\n",
              " [8835, 80, 317, 1939],\n",
              " [8069, 13148, 129, 1028],\n",
              " [114, 139],\n",
              " [543, 1911, 12476, 58, 282, 578],\n",
              " [3424, 15, 8276, 52746, 2105, 4601, 1610, 61],\n",
              " [23700, 43, 8098, 11],\n",
              " [15215, 3017],\n",
              " [],\n",
              " [386, 858, 507, 95, 211],\n",
              " [45250, 4],\n",
              " [2502, 277],\n",
              " [8488, 45, 205],\n",
              " [99, 900, 13899, 6, 9497, 878, 310, 9774],\n",
              " [103, 8084, 28],\n",
              " [32304, 164, 2563, 5],\n",
              " [35602, 4326, 4454, 145],\n",
              " [1443, 30423],\n",
              " [14090, 13, 5391, 178, 38893],\n",
              " [5437, 421],\n",
              " [1388, 44255, 511, 7918, 537, 31505, 22310, 89, 3],\n",
              " [4314, 8664, 13009],\n",
              " [57, 348, 4],\n",
              " [87],\n",
              " [75, 265],\n",
              " [6474, 678, 19],\n",
              " [],\n",
              " [934, 4570, 225, 1, 545, 1120],\n",
              " [106, 29],\n",
              " [115, 71],\n",
              " [],\n",
              " [7080],\n",
              " [13681, 53, 6307, 966, 228],\n",
              " [],\n",
              " [],\n",
              " [1078, 955, 41, 130],\n",
              " [275, 550, 887],\n",
              " [617, 6306, 220, 111, 18, 61],\n",
              " [],\n",
              " [402, 379, 72, 2675, 2487, 43, 4129, 5671],\n",
              " [],\n",
              " [6138, 7, 969, 38],\n",
              " [605, 6189, 7955, 42, 12459, 1513, 36],\n",
              " [51918, 701],\n",
              " [21, 18, 759, 1879, 24798, 1442, 46, 3],\n",
              " [877, 329],\n",
              " [53109, 41982, 828, 266, 49],\n",
              " [1441, 1393, 62, 66, 8, 62, 4057, 46, 473],\n",
              " [4992],\n",
              " [],\n",
              " [642, 2717, 178, 3233],\n",
              " [4832, 535, 163, 624, 2516],\n",
              " [1032, 1773, 2633, 11516, 47, 165, 1073, 78],\n",
              " [],\n",
              " [6, 35, 348, 387],\n",
              " [636],\n",
              " [1406, 3871, 80, 118, 41, 130],\n",
              " [638],\n",
              " [5973, 4098],\n",
              " [25142, 55, 196, 298, 3875, 7552],\n",
              " [1588, 31, 43554],\n",
              " [],\n",
              " [6763, 12115, 686],\n",
              " [135, 536, 95, 352, 205, 86],\n",
              " [922, 26667, 98, 26],\n",
              " [1283, 8952, 12393, 137],\n",
              " [],\n",
              " [756, 13],\n",
              " [577, 242, 131],\n",
              " [132, 5193, 45623],\n",
              " [5651, 1042, 1050, 101],\n",
              " [543, 58, 2670, 4953, 265, 7271, 8615, 380, 4898, 46, 241],\n",
              " [52, 55, 2, 47, 445],\n",
              " [9604, 3921, 9, 26],\n",
              " [43, 8797],\n",
              " [395, 2084, 49730],\n",
              " [663, 1, 1358, 137],\n",
              " [105, 27391, 46, 473],\n",
              " [286, 7836, 1074, 1892],\n",
              " [14718, 60],\n",
              " [3243, 22594, 14325, 1502],\n",
              " [275, 4024, 300, 12081, 5155, 91, 6552],\n",
              " [],\n",
              " [],\n",
              " [449, 23, 1525, 2652, 175, 231, 8601],\n",
              " [1497, 447],\n",
              " [180, 1461, 4813],\n",
              " [377, 9975],\n",
              " [38208, 1730, 2032, 895],\n",
              " [15373],\n",
              " [117, 1538, 95, 140],\n",
              " [562, 11],\n",
              " [142, 18503, 60, 4532, 29],\n",
              " [],\n",
              " [239, 131, 3071, 282, 672, 2152, 19, 25],\n",
              " [2662, 776, 28134, 3],\n",
              " [4922, 117, 20, 42, 1518, 6668, 392],\n",
              " [],\n",
              " [93, 72, 1, 2922],\n",
              " [51041],\n",
              " [821],\n",
              " [12092, 11198],\n",
              " [160, 1320, 31, 230, 37, 3],\n",
              " [1530, 11476, 349, 19541],\n",
              " [2412, 30, 1, 21303, 1449, 20122],\n",
              " [8548, 43412, 205],\n",
              " [4162, 353, 297, 13],\n",
              " [469, 11129, 1222, 174, 38],\n",
              " [386, 23668, 418, 151, 397, 6377, 267, 2431, 2349, 11307, 41, 77],\n",
              " [148, 550, 652, 37, 346],\n",
              " [611, 80, 2658, 2409, 341],\n",
              " [888, 4245, 524],\n",
              " [43, 4550, 11632],\n",
              " [35, 4, 12],\n",
              " [187],\n",
              " [8745, 7710],\n",
              " [430, 40399, 186, 30],\n",
              " [],\n",
              " [6754, 440, 47855, 982],\n",
              " [4750, 2800, 919, 3342, 9342],\n",
              " [2729],\n",
              " [43655, 660],\n",
              " [],\n",
              " [3520, 10, 13349, 631, 794, 82, 2639],\n",
              " [7952, 44737, 669, 715, 71, 15308],\n",
              " [259, 432, 131],\n",
              " [45581, 89],\n",
              " [5765, 37947, 53],\n",
              " [393, 555, 33, 893, 1820, 5660, 169, 1548, 5],\n",
              " [38271, 51537, 4296, 294, 1091, 43563, 8779, 7288],\n",
              " [54, 322, 109, 217, 26],\n",
              " [6479, 2183, 1273, 31, 5205, 427, 145],\n",
              " [35238],\n",
              " [2459, 4217],\n",
              " [7741, 2221],\n",
              " [52188, 280, 1180, 463, 1027],\n",
              " [26866],\n",
              " [675, 1801, 606, 310, 5259],\n",
              " [97, 521, 35777, 209, 10, 234, 28, 583],\n",
              " [1023, 2542, 6708, 655, 50, 158],\n",
              " [2280, 20, 11],\n",
              " [17, 2073, 2238, 26835, 752, 24995],\n",
              " [1838, 2216, 17946, 1300],\n",
              " [575],\n",
              " [730],\n",
              " [495, 162, 495, 12290, 467, 23622, 518, 1217, 16, 36],\n",
              " [275, 1176, 2137, 560, 13614, 1099],\n",
              " [426, 3998, 1774, 936, 1629, 18, 38],\n",
              " [4161, 19, 6035, 229],\n",
              " [668, 7362],\n",
              " [873, 33297],\n",
              " [1096, 20430],\n",
              " [452, 126],\n",
              " [10274, 1702, 5177, 45, 6549, 26],\n",
              " [14978, 20, 53798],\n",
              " [3000, 1049, 281],\n",
              " [1356, 14],\n",
              " [322, 32959, 50040, 347, 187],\n",
              " [356, 720],\n",
              " [660],\n",
              " [1115, 12731, 5346, 38],\n",
              " [52, 21, 9984, 380],\n",
              " [992, 942, 905],\n",
              " [99, 116, 1638, 70, 89, 231, 5785],\n",
              " [104, 6228, 18, 81, 9, 227, 16, 264],\n",
              " [3534, 33, 6706],\n",
              " [917, 385, 8615, 3163],\n",
              " [],\n",
              " [19640, 894, 1013, 903, 1013, 7260, 19640],\n",
              " [313, 207],\n",
              " [744, 6061, 7173, 374, 292, 5],\n",
              " [116, 33137, 866, 7475, 550, 5562],\n",
              " [1194, 269, 60, 5518, 1267, 41, 757, 8364, 3146, 38253],\n",
              " [21425, 186, 4, 14, 49],\n",
              " [6, 2514, 3568, 2036],\n",
              " [3656, 29309, 4032, 34543],\n",
              " [],\n",
              " [338, 763, 2142, 91, 69],\n",
              " [769, 240, 5638, 71, 134, 1016, 264],\n",
              " [2312, 2759, 48366, 1671],\n",
              " [657, 644],\n",
              " [12793, 11182],\n",
              " [872, 514],\n",
              " [5765, 3414, 224, 31, 10476],\n",
              " [41908, 1168, 70],\n",
              " [23704],\n",
              " [6, 135, 2943, 230, 24, 11],\n",
              " [576, 43, 72, 385],\n",
              " [4033, 531, 149, 2, 1501, 3586, 2460, 618, 757],\n",
              " [1685, 82],\n",
              " [112, 1268, 5, 4337, 4338, 5],\n",
              " [48, 15, 477, 103],\n",
              " [220, 10289, 111, 61],\n",
              " [100, 214, 266, 770],\n",
              " [119, 89, 6497, 152, 2122, 5],\n",
              " [3275, 20, 42],\n",
              " [8, 161, 7, 231, 369],\n",
              " [274, 559],\n",
              " [3908, 331, 19, 195],\n",
              " [726, 1431, 3295, 21, 2311, 472],\n",
              " [15397],\n",
              " [30170],\n",
              " [1893, 506],\n",
              " [1310, 69],\n",
              " [52, 813, 2945, 46, 158, 3259],\n",
              " [60, 1180, 561, 58, 8353],\n",
              " [220],\n",
              " [2005, 1530, 3429, 289, 5942, 544, 2480, 96],\n",
              " [321, 78, 41050],\n",
              " [],\n",
              " [1242, 809, 264],\n",
              " [117, 102, 4, 31, 517, 25],\n",
              " [1562, 110, 57, 4, 14814, 2045],\n",
              " [30946],\n",
              " [43755, 404, 1297],\n",
              " [456],\n",
              " [21391, 242, 1867],\n",
              " [693, 1930],\n",
              " [6, 18004, 4464, 1011, 42],\n",
              " [148, 1301, 1131, 13],\n",
              " [13494, 10, 774, 8798, 1548, 17963, 3448],\n",
              " [138, 3636, 12],\n",
              " [32180],\n",
              " [200, 487],\n",
              " [3937],\n",
              " [22589],\n",
              " [1057, 978],\n",
              " [],\n",
              " [1476],\n",
              " [5884, 128],\n",
              " [22333, 48778],\n",
              " [9884, 1496, 2011, 2, 898],\n",
              " [63, 3],\n",
              " [294, 5146, 4246, 81, 5035],\n",
              " [3130],\n",
              " [153, 1573, 268],\n",
              " [1761, 5876, 4608, 95, 123],\n",
              " [13774, 248, 19, 11, 3],\n",
              " [5658, 982],\n",
              " [636],\n",
              " [8, 3051, 505, 2040, 13],\n",
              " [21322, 18],\n",
              " [9187, 2608],\n",
              " [23930, 54, 1652, 242, 41, 129, 9, 67, 64],\n",
              " [160, 35, 1318, 507, 41478, 41479, 3],\n",
              " [],\n",
              " [1307],\n",
              " [17039, 8098],\n",
              " [4434],\n",
              " [326, 3706],\n",
              " [994],\n",
              " [2665, 9307],\n",
              " [563, 23650, 2949, 8299],\n",
              " ...]"
            ]
          },
          "metadata": {
            "tags": []
          },
          "execution_count": 31
        }
      ]
    },
    {
      "cell_type": "code",
      "metadata": {
        "id": "CEb3XHU4Wu4l",
        "outputId": "ce39255e-af22-4ffa-e33b-e1ffe261bbc3",
        "colab": {
          "base_uri": "https://localhost:8080/"
        }
      },
      "source": [
        "max_len = max(len(i) for i in X_encoded)\n",
        "max_len"
      ],
      "execution_count": 32,
      "outputs": [
        {
          "output_type": "execute_result",
          "data": {
            "text/plain": [
              "28"
            ]
          },
          "metadata": {
            "tags": []
          },
          "execution_count": 32
        }
      ]
    },
    {
      "cell_type": "code",
      "metadata": {
        "id": "j7Myy3ANW7-D",
        "outputId": "b9af1889-6600-4000-ded4-0dadfad9dee8",
        "colab": {
          "base_uri": "https://localhost:8080/"
        }
      },
      "source": [
        "X_train = pad_sequences(X_encoded, maxlen=max_len, padding='post')\n",
        "Y_train = np.array(train_label)\n",
        "print(X_train.shape)\n",
        "Y_train.shape"
      ],
      "execution_count": 33,
      "outputs": [
        {
          "output_type": "stream",
          "text": [
            "(40907, 28)\n"
          ],
          "name": "stdout"
        },
        {
          "output_type": "execute_result",
          "data": {
            "text/plain": [
              "(40907,)"
            ]
          },
          "metadata": {
            "tags": []
          },
          "execution_count": 33
        }
      ]
    },
    {
      "cell_type": "code",
      "metadata": {
        "id": "8nh9XIFvr-Qq",
        "outputId": "7ff8b324-0ce2-4dea-c549-6f7f5504dc70",
        "colab": {
          "base_uri": "https://localhost:8080/"
        }
      },
      "source": [
        "X_test = pad_sequences(t_X_encoded, maxlen=max_len, padding='post')\n",
        "Y_test = np.array(test_label)\n",
        "print(X_test.shape)\n",
        "Y_test.shape"
      ],
      "execution_count": 34,
      "outputs": [
        {
          "output_type": "stream",
          "text": [
            "(10227, 28)\n"
          ],
          "name": "stdout"
        },
        {
          "output_type": "execute_result",
          "data": {
            "text/plain": [
              "(10227,)"
            ]
          },
          "metadata": {
            "tags": []
          },
          "execution_count": 34
        }
      ]
    },
    {
      "cell_type": "markdown",
      "metadata": {
        "id": "_nHkNQCQXqaH"
      },
      "source": [
        "### Pretrained FastText embedding for Korean"
      ]
    },
    {
      "cell_type": "code",
      "metadata": {
        "id": "UipGcZAXYRQD",
        "outputId": "9f7ddba4-1bb2-4466-cfc6-59c6e0cb3cd0",
        "colab": {
          "base_uri": "https://localhost:8080/"
        }
      },
      "source": [
        "!pip install fasttext"
      ],
      "execution_count": 35,
      "outputs": [
        {
          "output_type": "stream",
          "text": [
            "Collecting fasttext\n",
            "\u001b[?25l  Downloading https://files.pythonhosted.org/packages/f8/85/e2b368ab6d3528827b147fdb814f8189acc981a4bc2f99ab894650e05c40/fasttext-0.9.2.tar.gz (68kB)\n",
            "\r\u001b[K     |████▊                           | 10kB 20.0MB/s eta 0:00:01\r\u001b[K     |█████████▌                      | 20kB 2.1MB/s eta 0:00:01\r\u001b[K     |██████████████▎                 | 30kB 2.7MB/s eta 0:00:01\r\u001b[K     |███████████████████             | 40kB 2.9MB/s eta 0:00:01\r\u001b[K     |███████████████████████▉        | 51kB 2.4MB/s eta 0:00:01\r\u001b[K     |████████████████████████████▋   | 61kB 2.7MB/s eta 0:00:01\r\u001b[K     |████████████████████████████████| 71kB 2.3MB/s \n",
            "\u001b[?25hRequirement already satisfied: pybind11>=2.2 in /usr/local/lib/python3.6/dist-packages (from fasttext) (2.6.0)\n",
            "Requirement already satisfied: setuptools>=0.7.0 in /usr/local/lib/python3.6/dist-packages (from fasttext) (50.3.2)\n",
            "Requirement already satisfied: numpy in /usr/local/lib/python3.6/dist-packages (from fasttext) (1.18.5)\n",
            "Building wheels for collected packages: fasttext\n",
            "  Building wheel for fasttext (setup.py) ... \u001b[?25l\u001b[?25hdone\n",
            "  Created wheel for fasttext: filename=fasttext-0.9.2-cp36-cp36m-linux_x86_64.whl size=3024904 sha256=984a9a76354640c221dd7eab1d1defae4594a1768745a8402a6822376863123b\n",
            "  Stored in directory: /root/.cache/pip/wheels/98/ba/7f/b154944a1cf5a8cee91c154b75231136cc3a3321ab0e30f592\n",
            "Successfully built fasttext\n",
            "Installing collected packages: fasttext\n",
            "Successfully installed fasttext-0.9.2\n"
          ],
          "name": "stdout"
        }
      ]
    },
    {
      "cell_type": "code",
      "metadata": {
        "id": "9mpXMK03YIfg",
        "outputId": "3951a28d-0210-490c-ba0a-23f690e59eeb",
        "colab": {
          "base_uri": "https://localhost:8080/"
        }
      },
      "source": [
        "import fasttext.util\n",
        "fasttext.util.download_model('ko', if_exists='ignore')  # Korean\n",
        "ko_model = fasttext.load_model('cc.ko.300.bin')"
      ],
      "execution_count": 36,
      "outputs": [
        {
          "output_type": "stream",
          "text": [
            "Downloading https://dl.fbaipublicfiles.com/fasttext/vectors-crawl/cc.ko.300.bin.gz\n"
          ],
          "name": "stdout"
        },
        {
          "output_type": "stream",
          "text": [
            "Warning : `load_model` does not return WordVectorModel or SupervisedModel any more, but a `FastText` object which is very similar.\n"
          ],
          "name": "stderr"
        }
      ]
    },
    {
      "cell_type": "code",
      "metadata": {
        "id": "eiAMWU7AZe0T",
        "outputId": "feb8191c-e618-46d7-bc65-0f2adc99349f",
        "colab": {
          "base_uri": "https://localhost:8080/"
        }
      },
      "source": [
        "# To make embedding matrix\n",
        "N = ko_model.get_dimension()\n",
        "embedding_matrix = np.zeros((vocab_size, N))\n",
        "# 단어 집합 크기의 행과 N개 열을 가지는 행렬 생성. 값은 전부 0으로 채워진다.\n",
        "embedding_matrix.shape"
      ],
      "execution_count": 37,
      "outputs": [
        {
          "output_type": "execute_result",
          "data": {
            "text/plain": [
              "(54219, 300)"
            ]
          },
          "metadata": {
            "tags": []
          },
          "execution_count": 37
        }
      ]
    },
    {
      "cell_type": "code",
      "metadata": {
        "id": "ctVH_vnCnhSZ",
        "outputId": "63b967ad-c750-4406-b3ce-8666c7eeaa51",
        "colab": {
          "base_uri": "https://localhost:8080/"
        }
      },
      "source": [
        "ko_model.get_words"
      ],
      "execution_count": 38,
      "outputs": [
        {
          "output_type": "execute_result",
          "data": {
            "text/plain": [
              "<bound method _FastText.get_words of <fasttext.FastText._FastText object at 0x7f8a77e8cc50>>"
            ]
          },
          "metadata": {
            "tags": []
          },
          "execution_count": 38
        }
      ]
    },
    {
      "cell_type": "code",
      "metadata": {
        "id": "TAKtCYWRaJRZ"
      },
      "source": [
        "for word, i in t.word_index.items(): #훈련 데이터의 단어 집합에서 단어와 정수 인덱스르 1개씩 꺼내온다.\n",
        "  temp = ko_model.get_word_vector(word) #단어(key) 해당되는 임베딩 벡터의 300개의 값(value)를 임시 변수에 저장\n",
        "  if temp is not None:\n",
        "    embedding_matrix[i] = temp\n"
      ],
      "execution_count": 39,
      "outputs": []
    },
    {
      "cell_type": "markdown",
      "metadata": {
        "id": "EOhkIzYtauuo"
      },
      "source": [
        "### LSTM model"
      ]
    },
    {
      "cell_type": "code",
      "metadata": {
        "id": "dbahCb1Uu-aP"
      },
      "source": [
        "from keras.models import Model\n",
        "from keras.layers import Input, Dense, Embedding, SpatialDropout1D, add, concatenate\n",
        "from keras.layers import LSTM, Bidirectional, GlobalMaxPooling1D, GlobalAveragePooling1D"
      ],
      "execution_count": 40,
      "outputs": []
    },
    {
      "cell_type": "code",
      "metadata": {
        "id": "BX7V34zoasFW"
      },
      "source": [
        "embedding_dim = 16\n",
        "model = tf.keras.Sequential([\n",
        "tf.keras.layers.Embedding(vocab_size, N, weights=[embedding_matrix],\n",
        "              input_length=max_len, trainable=False),\n",
        "tf.keras.layers.Bidirectional(tf.keras.layers.LSTM(embedding_dim)),\n",
        "tf.keras.layers.Dense(embedding_dim, activation='relu'),\n",
        "tf.keras.layers.Dense(num_classes, activation='softmax')])"
      ],
      "execution_count": 41,
      "outputs": []
    },
    {
      "cell_type": "code",
      "metadata": {
        "id": "wAadqnFDvbOT",
        "outputId": "05f6080f-a4e7-4bd8-94e0-09f6e4b8f844",
        "colab": {
          "base_uri": "https://localhost:8080/"
        }
      },
      "source": [
        "model.summary()"
      ],
      "execution_count": 42,
      "outputs": [
        {
          "output_type": "stream",
          "text": [
            "Model: \"sequential\"\n",
            "_________________________________________________________________\n",
            "Layer (type)                 Output Shape              Param #   \n",
            "=================================================================\n",
            "embedding (Embedding)        (None, 28, 300)           16265700  \n",
            "_________________________________________________________________\n",
            "bidirectional (Bidirectional (None, 32)                40576     \n",
            "_________________________________________________________________\n",
            "dense (Dense)                (None, 16)                528       \n",
            "_________________________________________________________________\n",
            "dense_1 (Dense)              (None, 26)                442       \n",
            "=================================================================\n",
            "Total params: 16,307,246\n",
            "Trainable params: 41,546\n",
            "Non-trainable params: 16,265,700\n",
            "_________________________________________________________________\n"
          ],
          "name": "stdout"
        }
      ]
    },
    {
      "cell_type": "markdown",
      "metadata": {
        "id": "rGx8dAhOcTw8"
      },
      "source": [
        "### Compile and training"
      ]
    },
    {
      "cell_type": "code",
      "metadata": {
        "id": "VRaClldIcjAo"
      },
      "source": [
        "# 학습 준비하기\n",
        "optimizer = tf.keras.optimizers.Adam(3e-4)\n",
        "loss = tf.keras.losses.SparseCategoricalCrossentropy(from_logits=True)\n",
        "metric = tf.keras.metrics.SparseCategoricalAccuracy(name='accuracy')"
      ],
      "execution_count": 43,
      "outputs": []
    },
    {
      "cell_type": "code",
      "metadata": {
        "id": "Dk8tnh48vlT9"
      },
      "source": [
        "model.compile(optimizer=optimizer, loss=loss, metrics=[metric], experimental_run_tf_function=False)"
      ],
      "execution_count": 44,
      "outputs": []
    },
    {
      "cell_type": "code",
      "metadata": {
        "id": "DLXWVjurcjAt",
        "outputId": "7d43b2a8-06b5-453c-b9a0-7590bdbc7ccd",
        "colab": {
          "base_uri": "https://localhost:8080/"
        }
      },
      "source": [
        "model_name = \"tf2_FastText_symptom2class\"\n",
        "\n",
        "# overfitting을 막기 위한 earlystop 추가\n",
        "earlystop_callback = tf.keras.callbacks.EarlyStopping(monitor='val_accuracy', min_delta=0.0001,patience=2)\n",
        "# min_delta: the threshold that triggers the termination (acc should at least improve 0.0001)\n",
        "# patience: no improvment epochs (patience = 1, 1번 이상 상승이 없으면 종료)\n",
        "\n",
        "checkpoint_path = os.path.join(DATA_OUT_PATH, model_name, 'weights.h5')\n",
        "checkpoint_dir = os.path.dirname(checkpoint_path)\n",
        "\n",
        "# Create path if exists\n",
        "if os.path.exists(checkpoint_dir):\n",
        "    print(\"{} -- Folder already exists \\n\".format(checkpoint_dir))\n",
        "else:\n",
        "    os.makedirs(checkpoint_dir, exist_ok=True)\n",
        "    print(\"{} -- Folder create complete \\n\".format(checkpoint_dir))\n",
        "    \n",
        "cp_callback = tf.keras.callbacks.ModelCheckpoint(\n",
        "    checkpoint_path, monitor='val_accuracy', verbose=1, save_best_only=True, save_weights_only=True)"
      ],
      "execution_count": 45,
      "outputs": [
        {
          "output_type": "stream",
          "text": [
            "/content/drive/My Drive/DataCollection/OSAM/tf2_FastText_symptom2class -- Folder already exists \n",
            "\n"
          ],
          "name": "stdout"
        }
      ]
    },
    {
      "cell_type": "code",
      "metadata": {
        "id": "d4URqX475G7O",
        "outputId": "99a2b1ef-c63d-4be5-ed00-b9a8e1a3c6b6",
        "colab": {
          "base_uri": "https://localhost:8080/"
        }
      },
      "source": [
        "# 학습과 eval 시작\n",
        "history = model.fit(X_train, Y_train, epochs=NUM_EPOCHS, batch_size=BATCH_SIZE,\n",
        "                    validation_data=(X_test, Y_test),\n",
        "                    validation_steps=(len(Y_test)/BATCH_SIZE), \n",
        "                    callbacks=[cp_callback, earlystop_callback])\n",
        "\n",
        "#steps_for_epoch\n",
        "\n",
        "print(history.history)"
      ],
      "execution_count": 46,
      "outputs": [
        {
          "output_type": "stream",
          "text": [
            "Epoch 1/50\n",
            "1277/1279 [============================>.] - ETA: 0s - loss: 3.1013 - accuracy: 0.2361\n",
            "Epoch 00001: val_accuracy improved from -inf to 0.26498, saving model to /content/drive/My Drive/DataCollection/OSAM/tf2_FastText_symptom2class/weights.h5\n",
            "1279/1279 [==============================] - 12s 9ms/step - loss: 3.1013 - accuracy: 0.2361 - val_loss: 3.0575 - val_accuracy: 0.2650\n",
            "Epoch 2/50\n",
            "1274/1279 [============================>.] - ETA: 0s - loss: 3.0453 - accuracy: 0.2801\n",
            "Epoch 00002: val_accuracy improved from 0.26498 to 0.27447, saving model to /content/drive/My Drive/DataCollection/OSAM/tf2_FastText_symptom2class/weights.h5\n",
            "1279/1279 [==============================] - 11s 8ms/step - loss: 3.0452 - accuracy: 0.2802 - val_loss: 3.0491 - val_accuracy: 0.2745\n",
            "Epoch 3/50\n",
            "1277/1279 [============================>.] - ETA: 0s - loss: 3.0405 - accuracy: 0.2834\n",
            "Epoch 00003: val_accuracy did not improve from 0.27447\n",
            "1279/1279 [==============================] - 10s 8ms/step - loss: 3.0405 - accuracy: 0.2834 - val_loss: 3.0501 - val_accuracy: 0.2712\n",
            "Epoch 4/50\n",
            "1274/1279 [============================>.] - ETA: 0s - loss: 3.0383 - accuracy: 0.2850\n",
            "Epoch 00004: val_accuracy improved from 0.27447 to 0.27603, saving model to /content/drive/My Drive/DataCollection/OSAM/tf2_FastText_symptom2class/weights.h5\n",
            "1279/1279 [==============================] - 10s 8ms/step - loss: 3.0384 - accuracy: 0.2849 - val_loss: 3.0461 - val_accuracy: 0.2760\n",
            "Epoch 5/50\n",
            "1272/1279 [============================>.] - ETA: 0s - loss: 3.0368 - accuracy: 0.2856\n",
            "Epoch 00005: val_accuracy improved from 0.27603 to 0.27613, saving model to /content/drive/My Drive/DataCollection/OSAM/tf2_FastText_symptom2class/weights.h5\n",
            "1279/1279 [==============================] - 10s 8ms/step - loss: 3.0366 - accuracy: 0.2858 - val_loss: 3.0455 - val_accuracy: 0.2761\n",
            "Epoch 6/50\n",
            "1274/1279 [============================>.] - ETA: 0s - loss: 3.0227 - accuracy: 0.2997\n",
            "Epoch 00006: val_accuracy improved from 0.27613 to 0.32346, saving model to /content/drive/My Drive/DataCollection/OSAM/tf2_FastText_symptom2class/weights.h5\n",
            "1279/1279 [==============================] - 10s 8ms/step - loss: 3.0227 - accuracy: 0.2999 - val_loss: 3.0080 - val_accuracy: 0.3235\n",
            "Epoch 7/50\n",
            "1274/1279 [============================>.] - ETA: 0s - loss: 2.9831 - accuracy: 0.3470\n",
            "Epoch 00007: val_accuracy improved from 0.32346 to 0.34458, saving model to /content/drive/My Drive/DataCollection/OSAM/tf2_FastText_symptom2class/weights.h5\n",
            "1279/1279 [==============================] - 10s 8ms/step - loss: 2.9829 - accuracy: 0.3472 - val_loss: 2.9835 - val_accuracy: 0.3446\n",
            "Epoch 8/50\n",
            "1279/1279 [==============================] - ETA: 0s - loss: 2.9657 - accuracy: 0.3621\n",
            "Epoch 00008: val_accuracy improved from 0.34458 to 0.34966, saving model to /content/drive/My Drive/DataCollection/OSAM/tf2_FastText_symptom2class/weights.h5\n",
            "1279/1279 [==============================] - 11s 8ms/step - loss: 2.9657 - accuracy: 0.3621 - val_loss: 2.9737 - val_accuracy: 0.3497\n",
            "Epoch 9/50\n",
            "1274/1279 [============================>.] - ETA: 0s - loss: 2.9576 - accuracy: 0.3682\n",
            "Epoch 00009: val_accuracy improved from 0.34966 to 0.35132, saving model to /content/drive/My Drive/DataCollection/OSAM/tf2_FastText_symptom2class/weights.h5\n",
            "1279/1279 [==============================] - 10s 8ms/step - loss: 2.9579 - accuracy: 0.3680 - val_loss: 2.9706 - val_accuracy: 0.3513\n",
            "Epoch 10/50\n",
            "1275/1279 [============================>.] - ETA: 0s - loss: 2.9522 - accuracy: 0.3728\n",
            "Epoch 00010: val_accuracy improved from 0.35132 to 0.35729, saving model to /content/drive/My Drive/DataCollection/OSAM/tf2_FastText_symptom2class/weights.h5\n",
            "1279/1279 [==============================] - 10s 8ms/step - loss: 2.9521 - accuracy: 0.3729 - val_loss: 2.9682 - val_accuracy: 0.3573\n",
            "Epoch 11/50\n",
            "1275/1279 [============================>.] - ETA: 0s - loss: 2.9485 - accuracy: 0.3758\n",
            "Epoch 00011: val_accuracy improved from 0.35729 to 0.35739, saving model to /content/drive/My Drive/DataCollection/OSAM/tf2_FastText_symptom2class/weights.h5\n",
            "1279/1279 [==============================] - 10s 8ms/step - loss: 2.9484 - accuracy: 0.3760 - val_loss: 2.9658 - val_accuracy: 0.3574\n",
            "Epoch 12/50\n",
            "1277/1279 [============================>.] - ETA: 0s - loss: 2.9454 - accuracy: 0.3791\n",
            "Epoch 00012: val_accuracy improved from 0.35739 to 0.36149, saving model to /content/drive/My Drive/DataCollection/OSAM/tf2_FastText_symptom2class/weights.h5\n",
            "1279/1279 [==============================] - 10s 8ms/step - loss: 2.9454 - accuracy: 0.3791 - val_loss: 2.9622 - val_accuracy: 0.3615\n",
            "Epoch 13/50\n",
            "1274/1279 [============================>.] - ETA: 0s - loss: 2.9421 - accuracy: 0.3824\n",
            "Epoch 00013: val_accuracy did not improve from 0.36149\n",
            "1279/1279 [==============================] - 10s 8ms/step - loss: 2.9421 - accuracy: 0.3823 - val_loss: 2.9622 - val_accuracy: 0.3604\n",
            "Epoch 14/50\n",
            "1277/1279 [============================>.] - ETA: 0s - loss: 2.9395 - accuracy: 0.3850\n",
            "Epoch 00014: val_accuracy improved from 0.36149 to 0.36629, saving model to /content/drive/My Drive/DataCollection/OSAM/tf2_FastText_symptom2class/weights.h5\n",
            "1279/1279 [==============================] - 10s 8ms/step - loss: 2.9395 - accuracy: 0.3850 - val_loss: 2.9581 - val_accuracy: 0.3663\n",
            "Epoch 15/50\n",
            "1272/1279 [============================>.] - ETA: 0s - loss: 2.9347 - accuracy: 0.3907\n",
            "Epoch 00015: val_accuracy improved from 0.36629 to 0.36746, saving model to /content/drive/My Drive/DataCollection/OSAM/tf2_FastText_symptom2class/weights.h5\n",
            "1279/1279 [==============================] - 10s 8ms/step - loss: 2.9347 - accuracy: 0.3907 - val_loss: 2.9543 - val_accuracy: 0.3675\n",
            "Epoch 16/50\n",
            "1279/1279 [==============================] - ETA: 0s - loss: 2.9303 - accuracy: 0.3945\n",
            "Epoch 00016: val_accuracy improved from 0.36746 to 0.37215, saving model to /content/drive/My Drive/DataCollection/OSAM/tf2_FastText_symptom2class/weights.h5\n",
            "1279/1279 [==============================] - 10s 8ms/step - loss: 2.9303 - accuracy: 0.3945 - val_loss: 2.9524 - val_accuracy: 0.3722\n",
            "Epoch 17/50\n",
            "1274/1279 [============================>.] - ETA: 0s - loss: 2.9270 - accuracy: 0.3975\n",
            "Epoch 00017: val_accuracy improved from 0.37215 to 0.37245, saving model to /content/drive/My Drive/DataCollection/OSAM/tf2_FastText_symptom2class/weights.h5\n",
            "1279/1279 [==============================] - 10s 8ms/step - loss: 2.9269 - accuracy: 0.3977 - val_loss: 2.9504 - val_accuracy: 0.3724\n",
            "Epoch 18/50\n",
            "1278/1279 [============================>.] - ETA: 0s - loss: 2.9241 - accuracy: 0.4005\n",
            "Epoch 00018: val_accuracy improved from 0.37245 to 0.37440, saving model to /content/drive/My Drive/DataCollection/OSAM/tf2_FastText_symptom2class/weights.h5\n",
            "1279/1279 [==============================] - 10s 8ms/step - loss: 2.9241 - accuracy: 0.4005 - val_loss: 2.9491 - val_accuracy: 0.3744\n",
            "Epoch 19/50\n",
            "1279/1279 [==============================] - ETA: 0s - loss: 2.9221 - accuracy: 0.4028\n",
            "Epoch 00019: val_accuracy did not improve from 0.37440\n",
            "1279/1279 [==============================] - 10s 8ms/step - loss: 2.9221 - accuracy: 0.4028 - val_loss: 2.9489 - val_accuracy: 0.3732\n",
            "Epoch 20/50\n",
            "1277/1279 [============================>.] - ETA: 0s - loss: 2.9201 - accuracy: 0.4039\n",
            "Epoch 00020: val_accuracy improved from 0.37440 to 0.37548, saving model to /content/drive/My Drive/DataCollection/OSAM/tf2_FastText_symptom2class/weights.h5\n",
            "1279/1279 [==============================] - 10s 8ms/step - loss: 2.9202 - accuracy: 0.4039 - val_loss: 2.9473 - val_accuracy: 0.3755\n",
            "Epoch 21/50\n",
            "1279/1279 [==============================] - ETA: 0s - loss: 2.9184 - accuracy: 0.4059\n",
            "Epoch 00021: val_accuracy did not improve from 0.37548\n",
            "1279/1279 [==============================] - 10s 8ms/step - loss: 2.9184 - accuracy: 0.4059 - val_loss: 2.9500 - val_accuracy: 0.3722\n",
            "Epoch 22/50\n",
            "1279/1279 [==============================] - ETA: 0s - loss: 2.9167 - accuracy: 0.4077\n",
            "Epoch 00022: val_accuracy did not improve from 0.37548\n",
            "1279/1279 [==============================] - 10s 7ms/step - loss: 2.9167 - accuracy: 0.4077 - val_loss: 2.9477 - val_accuracy: 0.3750\n",
            "{'loss': [3.1013364791870117, 3.045243740081787, 3.0405356884002686, 3.0383968353271484, 3.036637306213379, 3.022650957107544, 2.982883930206299, 2.965744972229004, 2.957859516143799, 2.9521100521087646, 2.9483819007873535, 2.9454426765441895, 2.9420993328094482, 2.939499855041504, 2.9346985816955566, 2.9302639961242676, 2.926865339279175, 2.9240517616271973, 2.9220693111419678, 2.9201667308807373, 2.918442964553833, 2.9166643619537354], 'accuracy': [0.23609651625156403, 0.28019654750823975, 0.28339892625808716, 0.2848901152610779, 0.28581905364990234, 0.29987531900405884, 0.34717774391174316, 0.3620651662349701, 0.36795657873153687, 0.3729190528392792, 0.37597477436065674, 0.37912827730178833, 0.38230621814727783, 0.3849707841873169, 0.3906910717487335, 0.3944801688194275, 0.3976825475692749, 0.4004693627357483, 0.40276724100112915, 0.40391620993614197, 0.40594518184661865, 0.40770527720451355], 'val_loss': [3.057485342025757, 3.049063205718994, 3.0500526428222656, 3.0460550785064697, 3.0454578399658203, 3.0080337524414062, 2.983544111251831, 2.973663806915283, 2.9705917835235596, 2.9682257175445557, 2.9658286571502686, 2.9621613025665283, 2.9622254371643066, 2.958122968673706, 2.954284429550171, 2.9523892402648926, 2.9504449367523193, 2.9491183757781982, 2.948943614959717, 2.947282552719116, 2.949972152709961, 2.947699785232544], 'val_accuracy': [0.2649848461151123, 0.2744695544242859, 0.27124279737472534, 0.27603402733802795, 0.276131808757782, 0.3234575092792511, 0.3445780873298645, 0.3496626615524292, 0.3513249158859253, 0.35728952288627625, 0.3573873043060303, 0.3614940941333771, 0.36041849851608276, 0.3662853240966797, 0.367458701133728, 0.3721521496772766, 0.3724454939365387, 0.3744010925292969, 0.3732277452945709, 0.3754766881465912, 0.37224993109703064, 0.37498778104782104]}\n"
          ],
          "name": "stdout"
        }
      ]
    },
    {
      "cell_type": "markdown",
      "metadata": {
        "id": "uxINnt9y1PFL"
      },
      "source": [
        "## Testing for new sentences"
      ]
    },
    {
      "cell_type": "code",
      "metadata": {
        "id": "r51Sh1Dt1PFR",
        "outputId": "4583fd07-66ba-40de-ee41-3f8f30a79651",
        "colab": {
          "base_uri": "https://localhost:8080/"
        }
      },
      "source": [
        "# exchanging key and value\n",
        "label_to_class = {v:k for k,v in class_to_label.items()} \n",
        "label_to_class"
      ],
      "execution_count": 47,
      "outputs": [
        {
          "output_type": "execute_result",
          "data": {
            "text/plain": [
              "{0: 'DERM',\n",
              " 1: 'GS',\n",
              " 2: 'IP',\n",
              " 3: 'GI',\n",
              " 4: 'OPH',\n",
              " 5: 'NR',\n",
              " 6: 'ENT',\n",
              " 7: 'PSY',\n",
              " 8: 'HEON',\n",
              " 9: 'RHEU',\n",
              " 10: 'REHM',\n",
              " 11: 'NS',\n",
              " 12: 'AN',\n",
              " 13: 'DENT',\n",
              " 14: 'PS',\n",
              " 15: 'CS',\n",
              " 16: 'INFC',\n",
              " 17: 'OS',\n",
              " 18: 'EMR',\n",
              " 19: 'ENDO',\n",
              " 20: 'CA',\n",
              " 21: 'KTM',\n",
              " 22: 'OBGY',\n",
              " 23: 'URO',\n",
              " 24: 'ALL',\n",
              " 25: 'NPH'}"
            ]
          },
          "metadata": {
            "tags": []
          },
          "execution_count": 47
        }
      ]
    },
    {
      "cell_type": "code",
      "metadata": {
        "id": "IvdLiSRf1PFU"
      },
      "source": [
        "def specialty_predict(new_sentence):\n",
        "  new_encoded = t.texts_to_sequences(new_sentence)\n",
        "  encoded = pad_sequences(new_encoded, maxlen=max_len, padding='post')\n",
        "  y_output = model.predict(encoded)  \n",
        "\n",
        "  y_pred = y_output[0]\n",
        "  y_label = y_pred.argmax(axis=0)\n",
        "  y_prob = y_pred[y_label] \n",
        "  y_class = label_to_class.get(y_label)  \n",
        "\n",
        "  if y_prob > 0.5 :\n",
        "    print(\"{:.2f}% 확률로 {}과를 방문하셔야합니다.\\n\".format(y_prob * 100, y_class))\n",
        "  else:\n",
        "    print(\"증상을 좀 더 자세히 적어주세요.\")"
      ],
      "execution_count": 85,
      "outputs": []
    },
    {
      "cell_type": "code",
      "metadata": {
        "id": "-5mJSDZu1PFY",
        "outputId": "194617c0-761e-4f45-eafa-8e2411771db6",
        "colab": {
          "base_uri": "https://localhost:8080/"
        }
      },
      "source": [
        "input_sentence = \"통풍으로 엄지발가락이 부었어요\"\n",
        "specialty_predict(input_sentence)"
      ],
      "execution_count": 86,
      "outputs": [
        {
          "output_type": "stream",
          "text": [
            "81.86% 확률로 PSY과를 방문하셔야합니다.\n",
            "\n"
          ],
          "name": "stdout"
        }
      ]
    },
    {
      "cell_type": "code",
      "metadata": {
        "id": "rwYHuN8d1PFb",
        "outputId": "afd4f736-c002-4818-9f08-53638e411553",
        "colab": {
          "base_uri": "https://localhost:8080/"
        }
      },
      "source": [
        "input_sentence = \"잠이 너무 안와서 다음날 몽롱해요\"\n",
        "specialty_predict(input_sentence)"
      ],
      "execution_count": 87,
      "outputs": [
        {
          "output_type": "stream",
          "text": [
            "100.00% 확률로 PSY과를 방문하셔야합니다.\n",
            "\n"
          ],
          "name": "stdout"
        }
      ]
    },
    {
      "cell_type": "code",
      "metadata": {
        "id": "eGtmvyXM1PFe",
        "outputId": "713ad975-5d52-4b02-f344-7e822d14ae1e",
        "colab": {
          "base_uri": "https://localhost:8080/"
        }
      },
      "source": [
        "input_sentence = \"오래된 이명과 비염이 있어요\"\n",
        "specialty_predict(input_sentence)"
      ],
      "execution_count": 88,
      "outputs": [
        {
          "output_type": "stream",
          "text": [
            "80.22% 확률로 DERM과를 방문하셔야합니다.\n",
            "\n"
          ],
          "name": "stdout"
        }
      ]
    },
    {
      "cell_type": "code",
      "metadata": {
        "id": "APh7xftD1PFg",
        "outputId": "594a44fb-90a8-4800-b6e7-ab58f6a4d900",
        "colab": {
          "base_uri": "https://localhost:8080/"
        }
      },
      "source": [
        "input_sentence = \"뇌경색 이후에 어떤 운동을 하는게 좋은가요\"\n",
        "specialty_predict(input_sentence)"
      ],
      "execution_count": 89,
      "outputs": [
        {
          "output_type": "stream",
          "text": [
            "100.00% 확률로 NR과를 방문하셔야합니다.\n",
            "\n"
          ],
          "name": "stdout"
        }
      ]
    },
    {
      "cell_type": "code",
      "metadata": {
        "id": "lSio1uJU1PFi",
        "outputId": "d5b8af5e-3dbb-4ef7-886c-01732fbdc21e",
        "colab": {
          "base_uri": "https://localhost:8080/"
        }
      },
      "source": [
        "input_sentence = \"항문 주변이 따가워요\"\n",
        "specialty_predict(input_sentence)"
      ],
      "execution_count": 90,
      "outputs": [
        {
          "output_type": "stream",
          "text": [
            "99.80% 확률로 PSY과를 방문하셔야합니다.\n",
            "\n"
          ],
          "name": "stdout"
        }
      ]
    },
    {
      "cell_type": "code",
      "metadata": {
        "id": "yuSezhMB6IBg",
        "outputId": "8f5cedce-b2a6-4b9e-911a-bbb6bcc17fe8",
        "colab": {
          "base_uri": "https://localhost:8080/"
        }
      },
      "source": [
        "input_sentence = \"결막염\"\n",
        "specialty_predict(input_sentence)"
      ],
      "execution_count": 91,
      "outputs": [
        {
          "output_type": "stream",
          "text": [
            "99.40% 확률로 DERM과를 방문하셔야합니다.\n",
            "\n"
          ],
          "name": "stdout"
        }
      ]
    }
  ]
}